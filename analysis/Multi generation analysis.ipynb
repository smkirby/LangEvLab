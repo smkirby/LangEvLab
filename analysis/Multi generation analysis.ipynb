{
 "cells": [
  {
   "cell_type": "markdown",
   "metadata": {},
   "source": [
    "# Change of error and structure over generation from Kirby, Cornish & Smith (2008)\n",
    "\n",
    "This notebook uses the error and structure scores over generations in the KCS paper and asks the question: how do they change over time? It assumes there is a CSV file called `error.csv` that has the error scores in it, and one called `structure.csv` that has the structure scores. You'll need to make sure you get your input files in the right format to run these measures on."
   ]
  },
  {
   "cell_type": "markdown",
   "metadata": {},
   "source": [
    "## Setup\n",
    "\n",
    "First load `ggplot2` and `Hmisc` for plotting and `lme4` for carrying out the mixed effects regressions."
   ]
  },
  {
   "cell_type": "code",
   "execution_count": 122,
   "metadata": {},
   "outputs": [],
   "source": [
    "if (!require(ggplot2)) {install.packages(\"ggplot2\"); library(ggplot2)}\n",
    "if (!require(Hmisc)) {install.packages(\"Hmisc\"); library(Hmisc)}\n",
    "if (!require(lme4)) {install.packages(\"lme4\"); library(lme4)}"
   ]
  },
  {
   "cell_type": "markdown",
   "metadata": {},
   "source": [
    "## Error analysis\n",
    "\n",
    "First load in the error scores and have a look at them."
   ]
  },
  {
   "cell_type": "code",
   "execution_count": 123,
   "metadata": {},
   "outputs": [
    {
     "data": {
      "text/html": [
       "<table>\n",
       "<thead><tr><th scope=col>condition</th><th scope=col>chain</th><th scope=col>generation</th><th scope=col>error</th></tr></thead>\n",
       "<tbody>\n",
       "\t<tr><td>filtered </td><td>a        </td><td>0        </td><td>0.6406526</td></tr>\n",
       "\t<tr><td>filtered </td><td>a        </td><td>1        </td><td>0.4733646</td></tr>\n",
       "\t<tr><td>filtered </td><td>a        </td><td>2        </td><td>0.2817260</td></tr>\n",
       "\t<tr><td>filtered </td><td>a        </td><td>3        </td><td>0.1990741</td></tr>\n",
       "\t<tr><td>filtered </td><td>a        </td><td>4        </td><td>0.2669753</td></tr>\n",
       "\t<tr><td>filtered </td><td>a        </td><td>5        </td><td>0.2746914</td></tr>\n",
       "\t<tr><td>filtered </td><td>a        </td><td>6        </td><td>0.1203704</td></tr>\n",
       "\t<tr><td>filtered </td><td>a        </td><td>7        </td><td>0.2244268</td></tr>\n",
       "\t<tr><td>filtered </td><td>a        </td><td>8        </td><td>0.2515432</td></tr>\n",
       "\t<tr><td>filtered </td><td>a        </td><td>9        </td><td>0.2899030</td></tr>\n",
       "\t<tr><td>filtered </td><td>b        </td><td>0        </td><td>0.7913140</td></tr>\n",
       "\t<tr><td>filtered </td><td>b        </td><td>1        </td><td>0.5957231</td></tr>\n",
       "\t<tr><td>filtered </td><td>b        </td><td>2        </td><td>0.3556731</td></tr>\n",
       "\t<tr><td>filtered </td><td>b        </td><td>3        </td><td>0.4743680</td></tr>\n",
       "\t<tr><td>filtered </td><td>b        </td><td>4        </td><td>0.5525008</td></tr>\n",
       "\t<tr><td>filtered </td><td>b        </td><td>5        </td><td>0.4732171</td></tr>\n",
       "\t<tr><td>filtered </td><td>b        </td><td>6        </td><td>0.2211094</td></tr>\n",
       "\t<tr><td>filtered </td><td>b        </td><td>7        </td><td>0.2816680</td></tr>\n",
       "\t<tr><td>filtered </td><td>b        </td><td>8        </td><td>0.1815456</td></tr>\n",
       "\t<tr><td>filtered </td><td>b        </td><td>9        </td><td>0.4709195</td></tr>\n",
       "\t<tr><td>filtered </td><td>c        </td><td>0        </td><td>0.7361111</td></tr>\n",
       "\t<tr><td>filtered </td><td>c        </td><td>1        </td><td>0.6546884</td></tr>\n",
       "\t<tr><td>filtered </td><td>c        </td><td>2        </td><td>0.5814227</td></tr>\n",
       "\t<tr><td>filtered </td><td>c        </td><td>3        </td><td>0.3487654</td></tr>\n",
       "\t<tr><td>filtered </td><td>c        </td><td>4        </td><td>0.4726631</td></tr>\n",
       "\t<tr><td>filtered </td><td>c        </td><td>5        </td><td>0.3637566</td></tr>\n",
       "\t<tr><td>filtered </td><td>c        </td><td>6        </td><td>0.4228395</td></tr>\n",
       "\t<tr><td>filtered </td><td>c        </td><td>7        </td><td>0.3899912</td></tr>\n",
       "\t<tr><td>filtered </td><td>c        </td><td>8        </td><td>0.3216490</td></tr>\n",
       "\t<tr><td>filtered </td><td>c        </td><td>9        </td><td>0.2193563</td></tr>\n",
       "\t<tr><td>⋮</td><td>⋮</td><td>⋮</td><td>⋮</td></tr>\n",
       "\t<tr><td>unfiltered</td><td>f         </td><td>0         </td><td>0.7026749 </td></tr>\n",
       "\t<tr><td>unfiltered</td><td>f         </td><td>1         </td><td>0.4418136 </td></tr>\n",
       "\t<tr><td>unfiltered</td><td>f         </td><td>2         </td><td>0.2829512 </td></tr>\n",
       "\t<tr><td>unfiltered</td><td>f         </td><td>3         </td><td>0.2630071 </td></tr>\n",
       "\t<tr><td>unfiltered</td><td>f         </td><td>4         </td><td>0.2583774 </td></tr>\n",
       "\t<tr><td>unfiltered</td><td>f         </td><td>5         </td><td>0.1234568 </td></tr>\n",
       "\t<tr><td>unfiltered</td><td>f         </td><td>6         </td><td>0.0617284 </td></tr>\n",
       "\t<tr><td>unfiltered</td><td>f         </td><td>7         </td><td>0.2045855 </td></tr>\n",
       "\t<tr><td>unfiltered</td><td>f         </td><td>8         </td><td>0.1111111 </td></tr>\n",
       "\t<tr><td>unfiltered</td><td>f         </td><td>9         </td><td>0.0617284 </td></tr>\n",
       "\t<tr><td>unfiltered</td><td>g         </td><td>0         </td><td>0.6759259 </td></tr>\n",
       "\t<tr><td>unfiltered</td><td>g         </td><td>1         </td><td>0.6743827 </td></tr>\n",
       "\t<tr><td>unfiltered</td><td>g         </td><td>2         </td><td>0.5185185 </td></tr>\n",
       "\t<tr><td>unfiltered</td><td>g         </td><td>3         </td><td>0.5077160 </td></tr>\n",
       "\t<tr><td>unfiltered</td><td>g         </td><td>4         </td><td>0.6227954 </td></tr>\n",
       "\t<tr><td>unfiltered</td><td>g         </td><td>5         </td><td>0.7184744 </td></tr>\n",
       "\t<tr><td>unfiltered</td><td>g         </td><td>6         </td><td>0.2839506 </td></tr>\n",
       "\t<tr><td>unfiltered</td><td>g         </td><td>7         </td><td>0.1265432 </td></tr>\n",
       "\t<tr><td>unfiltered</td><td>g         </td><td>8         </td><td>0.2253086 </td></tr>\n",
       "\t<tr><td>unfiltered</td><td>g         </td><td>9         </td><td>0.2469136 </td></tr>\n",
       "\t<tr><td>unfiltered</td><td>h         </td><td>0         </td><td>0.7347884 </td></tr>\n",
       "\t<tr><td>unfiltered</td><td>h         </td><td>1         </td><td>0.6850970 </td></tr>\n",
       "\t<tr><td>unfiltered</td><td>h         </td><td>2         </td><td>0.4432099 </td></tr>\n",
       "\t<tr><td>unfiltered</td><td>h         </td><td>3         </td><td>0.2234568 </td></tr>\n",
       "\t<tr><td>unfiltered</td><td>h         </td><td>4         </td><td>0.0925926 </td></tr>\n",
       "\t<tr><td>unfiltered</td><td>h         </td><td>5         </td><td>0.2962963 </td></tr>\n",
       "\t<tr><td>unfiltered</td><td>h         </td><td>6         </td><td>0.1271605 </td></tr>\n",
       "\t<tr><td>unfiltered</td><td>h         </td><td>7         </td><td>0.1827160 </td></tr>\n",
       "\t<tr><td>unfiltered</td><td>h         </td><td>8         </td><td>0.0000000 </td></tr>\n",
       "\t<tr><td>unfiltered</td><td>h         </td><td>9         </td><td>0.0000000 </td></tr>\n",
       "</tbody>\n",
       "</table>\n"
      ],
      "text/latex": [
       "\\begin{tabular}{r|llll}\n",
       " condition & chain & generation & error\\\\\n",
       "\\hline\n",
       "\t filtered  & a         & 0         & 0.6406526\\\\\n",
       "\t filtered  & a         & 1         & 0.4733646\\\\\n",
       "\t filtered  & a         & 2         & 0.2817260\\\\\n",
       "\t filtered  & a         & 3         & 0.1990741\\\\\n",
       "\t filtered  & a         & 4         & 0.2669753\\\\\n",
       "\t filtered  & a         & 5         & 0.2746914\\\\\n",
       "\t filtered  & a         & 6         & 0.1203704\\\\\n",
       "\t filtered  & a         & 7         & 0.2244268\\\\\n",
       "\t filtered  & a         & 8         & 0.2515432\\\\\n",
       "\t filtered  & a         & 9         & 0.2899030\\\\\n",
       "\t filtered  & b         & 0         & 0.7913140\\\\\n",
       "\t filtered  & b         & 1         & 0.5957231\\\\\n",
       "\t filtered  & b         & 2         & 0.3556731\\\\\n",
       "\t filtered  & b         & 3         & 0.4743680\\\\\n",
       "\t filtered  & b         & 4         & 0.5525008\\\\\n",
       "\t filtered  & b         & 5         & 0.4732171\\\\\n",
       "\t filtered  & b         & 6         & 0.2211094\\\\\n",
       "\t filtered  & b         & 7         & 0.2816680\\\\\n",
       "\t filtered  & b         & 8         & 0.1815456\\\\\n",
       "\t filtered  & b         & 9         & 0.4709195\\\\\n",
       "\t filtered  & c         & 0         & 0.7361111\\\\\n",
       "\t filtered  & c         & 1         & 0.6546884\\\\\n",
       "\t filtered  & c         & 2         & 0.5814227\\\\\n",
       "\t filtered  & c         & 3         & 0.3487654\\\\\n",
       "\t filtered  & c         & 4         & 0.4726631\\\\\n",
       "\t filtered  & c         & 5         & 0.3637566\\\\\n",
       "\t filtered  & c         & 6         & 0.4228395\\\\\n",
       "\t filtered  & c         & 7         & 0.3899912\\\\\n",
       "\t filtered  & c         & 8         & 0.3216490\\\\\n",
       "\t filtered  & c         & 9         & 0.2193563\\\\\n",
       "\t ⋮ & ⋮ & ⋮ & ⋮\\\\\n",
       "\t unfiltered & f          & 0          & 0.7026749 \\\\\n",
       "\t unfiltered & f          & 1          & 0.4418136 \\\\\n",
       "\t unfiltered & f          & 2          & 0.2829512 \\\\\n",
       "\t unfiltered & f          & 3          & 0.2630071 \\\\\n",
       "\t unfiltered & f          & 4          & 0.2583774 \\\\\n",
       "\t unfiltered & f          & 5          & 0.1234568 \\\\\n",
       "\t unfiltered & f          & 6          & 0.0617284 \\\\\n",
       "\t unfiltered & f          & 7          & 0.2045855 \\\\\n",
       "\t unfiltered & f          & 8          & 0.1111111 \\\\\n",
       "\t unfiltered & f          & 9          & 0.0617284 \\\\\n",
       "\t unfiltered & g          & 0          & 0.6759259 \\\\\n",
       "\t unfiltered & g          & 1          & 0.6743827 \\\\\n",
       "\t unfiltered & g          & 2          & 0.5185185 \\\\\n",
       "\t unfiltered & g          & 3          & 0.5077160 \\\\\n",
       "\t unfiltered & g          & 4          & 0.6227954 \\\\\n",
       "\t unfiltered & g          & 5          & 0.7184744 \\\\\n",
       "\t unfiltered & g          & 6          & 0.2839506 \\\\\n",
       "\t unfiltered & g          & 7          & 0.1265432 \\\\\n",
       "\t unfiltered & g          & 8          & 0.2253086 \\\\\n",
       "\t unfiltered & g          & 9          & 0.2469136 \\\\\n",
       "\t unfiltered & h          & 0          & 0.7347884 \\\\\n",
       "\t unfiltered & h          & 1          & 0.6850970 \\\\\n",
       "\t unfiltered & h          & 2          & 0.4432099 \\\\\n",
       "\t unfiltered & h          & 3          & 0.2234568 \\\\\n",
       "\t unfiltered & h          & 4          & 0.0925926 \\\\\n",
       "\t unfiltered & h          & 5          & 0.2962963 \\\\\n",
       "\t unfiltered & h          & 6          & 0.1271605 \\\\\n",
       "\t unfiltered & h          & 7          & 0.1827160 \\\\\n",
       "\t unfiltered & h          & 8          & 0.0000000 \\\\\n",
       "\t unfiltered & h          & 9          & 0.0000000 \\\\\n",
       "\\end{tabular}\n"
      ],
      "text/markdown": [
       "\n",
       "condition | chain | generation | error | \n",
       "|---|---|---|---|---|---|---|---|---|---|---|---|---|---|---|---|---|---|---|---|---|---|---|---|---|---|---|---|---|---|---|---|---|---|---|---|---|---|---|---|---|---|---|---|---|---|---|---|---|---|---|---|---|---|---|---|---|---|---|---|---|\n",
       "| filtered  | a         | 0         | 0.6406526 | \n",
       "| filtered  | a         | 1         | 0.4733646 | \n",
       "| filtered  | a         | 2         | 0.2817260 | \n",
       "| filtered  | a         | 3         | 0.1990741 | \n",
       "| filtered  | a         | 4         | 0.2669753 | \n",
       "| filtered  | a         | 5         | 0.2746914 | \n",
       "| filtered  | a         | 6         | 0.1203704 | \n",
       "| filtered  | a         | 7         | 0.2244268 | \n",
       "| filtered  | a         | 8         | 0.2515432 | \n",
       "| filtered  | a         | 9         | 0.2899030 | \n",
       "| filtered  | b         | 0         | 0.7913140 | \n",
       "| filtered  | b         | 1         | 0.5957231 | \n",
       "| filtered  | b         | 2         | 0.3556731 | \n",
       "| filtered  | b         | 3         | 0.4743680 | \n",
       "| filtered  | b         | 4         | 0.5525008 | \n",
       "| filtered  | b         | 5         | 0.4732171 | \n",
       "| filtered  | b         | 6         | 0.2211094 | \n",
       "| filtered  | b         | 7         | 0.2816680 | \n",
       "| filtered  | b         | 8         | 0.1815456 | \n",
       "| filtered  | b         | 9         | 0.4709195 | \n",
       "| filtered  | c         | 0         | 0.7361111 | \n",
       "| filtered  | c         | 1         | 0.6546884 | \n",
       "| filtered  | c         | 2         | 0.5814227 | \n",
       "| filtered  | c         | 3         | 0.3487654 | \n",
       "| filtered  | c         | 4         | 0.4726631 | \n",
       "| filtered  | c         | 5         | 0.3637566 | \n",
       "| filtered  | c         | 6         | 0.4228395 | \n",
       "| filtered  | c         | 7         | 0.3899912 | \n",
       "| filtered  | c         | 8         | 0.3216490 | \n",
       "| filtered  | c         | 9         | 0.2193563 | \n",
       "| ⋮ | ⋮ | ⋮ | ⋮ | \n",
       "| unfiltered | f          | 0          | 0.7026749  | \n",
       "| unfiltered | f          | 1          | 0.4418136  | \n",
       "| unfiltered | f          | 2          | 0.2829512  | \n",
       "| unfiltered | f          | 3          | 0.2630071  | \n",
       "| unfiltered | f          | 4          | 0.2583774  | \n",
       "| unfiltered | f          | 5          | 0.1234568  | \n",
       "| unfiltered | f          | 6          | 0.0617284  | \n",
       "| unfiltered | f          | 7          | 0.2045855  | \n",
       "| unfiltered | f          | 8          | 0.1111111  | \n",
       "| unfiltered | f          | 9          | 0.0617284  | \n",
       "| unfiltered | g          | 0          | 0.6759259  | \n",
       "| unfiltered | g          | 1          | 0.6743827  | \n",
       "| unfiltered | g          | 2          | 0.5185185  | \n",
       "| unfiltered | g          | 3          | 0.5077160  | \n",
       "| unfiltered | g          | 4          | 0.6227954  | \n",
       "| unfiltered | g          | 5          | 0.7184744  | \n",
       "| unfiltered | g          | 6          | 0.2839506  | \n",
       "| unfiltered | g          | 7          | 0.1265432  | \n",
       "| unfiltered | g          | 8          | 0.2253086  | \n",
       "| unfiltered | g          | 9          | 0.2469136  | \n",
       "| unfiltered | h          | 0          | 0.7347884  | \n",
       "| unfiltered | h          | 1          | 0.6850970  | \n",
       "| unfiltered | h          | 2          | 0.4432099  | \n",
       "| unfiltered | h          | 3          | 0.2234568  | \n",
       "| unfiltered | h          | 4          | 0.0925926  | \n",
       "| unfiltered | h          | 5          | 0.2962963  | \n",
       "| unfiltered | h          | 6          | 0.1271605  | \n",
       "| unfiltered | h          | 7          | 0.1827160  | \n",
       "| unfiltered | h          | 8          | 0.0000000  | \n",
       "| unfiltered | h          | 9          | 0.0000000  | \n",
       "\n",
       "\n"
      ],
      "text/plain": [
       "   condition  chain generation error    \n",
       "1  filtered   a     0          0.6406526\n",
       "2  filtered   a     1          0.4733646\n",
       "3  filtered   a     2          0.2817260\n",
       "4  filtered   a     3          0.1990741\n",
       "5  filtered   a     4          0.2669753\n",
       "6  filtered   a     5          0.2746914\n",
       "7  filtered   a     6          0.1203704\n",
       "8  filtered   a     7          0.2244268\n",
       "9  filtered   a     8          0.2515432\n",
       "10 filtered   a     9          0.2899030\n",
       "11 filtered   b     0          0.7913140\n",
       "12 filtered   b     1          0.5957231\n",
       "13 filtered   b     2          0.3556731\n",
       "14 filtered   b     3          0.4743680\n",
       "15 filtered   b     4          0.5525008\n",
       "16 filtered   b     5          0.4732171\n",
       "17 filtered   b     6          0.2211094\n",
       "18 filtered   b     7          0.2816680\n",
       "19 filtered   b     8          0.1815456\n",
       "20 filtered   b     9          0.4709195\n",
       "21 filtered   c     0          0.7361111\n",
       "22 filtered   c     1          0.6546884\n",
       "23 filtered   c     2          0.5814227\n",
       "24 filtered   c     3          0.3487654\n",
       "25 filtered   c     4          0.4726631\n",
       "26 filtered   c     5          0.3637566\n",
       "27 filtered   c     6          0.4228395\n",
       "28 filtered   c     7          0.3899912\n",
       "29 filtered   c     8          0.3216490\n",
       "30 filtered   c     9          0.2193563\n",
       "⋮  ⋮          ⋮     ⋮          ⋮        \n",
       "51 unfiltered f     0          0.7026749\n",
       "52 unfiltered f     1          0.4418136\n",
       "53 unfiltered f     2          0.2829512\n",
       "54 unfiltered f     3          0.2630071\n",
       "55 unfiltered f     4          0.2583774\n",
       "56 unfiltered f     5          0.1234568\n",
       "57 unfiltered f     6          0.0617284\n",
       "58 unfiltered f     7          0.2045855\n",
       "59 unfiltered f     8          0.1111111\n",
       "60 unfiltered f     9          0.0617284\n",
       "61 unfiltered g     0          0.6759259\n",
       "62 unfiltered g     1          0.6743827\n",
       "63 unfiltered g     2          0.5185185\n",
       "64 unfiltered g     3          0.5077160\n",
       "65 unfiltered g     4          0.6227954\n",
       "66 unfiltered g     5          0.7184744\n",
       "67 unfiltered g     6          0.2839506\n",
       "68 unfiltered g     7          0.1265432\n",
       "69 unfiltered g     8          0.2253086\n",
       "70 unfiltered g     9          0.2469136\n",
       "71 unfiltered h     0          0.7347884\n",
       "72 unfiltered h     1          0.6850970\n",
       "73 unfiltered h     2          0.4432099\n",
       "74 unfiltered h     3          0.2234568\n",
       "75 unfiltered h     4          0.0925926\n",
       "76 unfiltered h     5          0.2962963\n",
       "77 unfiltered h     6          0.1271605\n",
       "78 unfiltered h     7          0.1827160\n",
       "79 unfiltered h     8          0.0000000\n",
       "80 unfiltered h     9          0.0000000"
      ]
     },
     "metadata": {},
     "output_type": "display_data"
    }
   ],
   "source": [
    "error <- read.csv(\"error.csv\")\n",
    "error"
   ]
  },
  {
   "cell_type": "markdown",
   "metadata": {},
   "source": [
    "We'll plot a graph showing how error changes over generations in the two experiments (which we're calling \"conditions\" here). This graph shows the mean across chains and the error bars are 95% confidence intervals around that mean. These are calculated using a \"bootstrap\" method, in which a new random sample of error scores is created (by picking randomly from the chains with replacement) and the mean for that calculated loads of times. This gives us a sense of what the range of likely error scores might be."
   ]
  },
  {
   "cell_type": "code",
   "execution_count": 124,
   "metadata": {},
   "outputs": [
    {
     "data": {},
     "metadata": {},
     "output_type": "display_data"
    },
    {
     "data": {
      "image/png": "[encoded data removed]",
      "text/plain": [
       "plot without title"
      ]
     },
     "metadata": {},
     "output_type": "display_data"
    }
   ],
   "source": [
    "ggplot(error,aes(x=generation,y=error,color=condition))+\n",
    "  stat_summary(fun.y=mean,geom='line')+\n",
    "  stat_summary(fun.data=mean_cl_boot,geom='errorbar',width=0.1)+\n",
    "  scale_x_continuous(breaks=seq(0,9,1))"
   ]
  },
  {
   "cell_type": "markdown",
   "metadata": {},
   "source": [
    "### Stats\n",
    "\n",
    "We're going to run a linear mixed effects model in which we try to predict the error from the generation number and the condition. We're going to allow for the possibility that generation and chain *interact*. That is, the possibility of the rate of change of error over generations being different in the two conditions (rather than just the overal level of error being shifted up or down.\n",
    "\n",
    "These mixed effects models allow us to control for the possibility that different chains behave differently too. Here we allow for the possibility that each chain has an overall level of error that is shifted up or down. (This is called a \"random intercept model\". We could also try something more sophisticated and allow for a different rate of change in each chain too. However, this can cause the model to not be able to find a solution, so we're going for a simpler model for now.)\n",
    "\n",
    "The specification of the model is:\n",
    "\n",
    "`error ~ generation * condition + (1 | chain)`\n",
    "\n",
    "This means we are predicting `error` based on an `generation` and `condition` (and their interaction, which is what the `*` does), and we're allowing different `chain`s to behave differently with respect to error. The `(1 | chain)` bit is what tells the model to fit different random intercepts for different chains.\n"
   ]
  },
  {
   "cell_type": "code",
   "execution_count": 125,
   "metadata": {},
   "outputs": [
    {
     "data": {
      "text/plain": [
       "Linear mixed model fit by REML ['lmerMod']\n",
       "Formula: error ~ generation * condition + (1 | chain)\n",
       "   Data: error\n",
       "\n",
       "REML criterion at convergence: -86.8\n",
       "\n",
       "Scaled residuals: \n",
       "     Min       1Q   Median       3Q      Max \n",
       "-2.02493 -0.64786  0.00961  0.72023  2.81459 \n",
       "\n",
       "Random effects:\n",
       " Groups   Name        Variance Std.Dev.\n",
       " chain    (Intercept) 0.006098 0.07809 \n",
       " Residual             0.012675 0.11258 \n",
       "Number of obs: 80, groups:  chain, 8\n",
       "\n",
       "Fixed effects:\n",
       "                                Estimate Std. Error t value\n",
       "(Intercept)                     0.606277   0.051177  11.847\n",
       "generation                     -0.042365   0.006198  -6.836\n",
       "conditionunfiltered             0.026931   0.072375   0.372\n",
       "generation:conditionunfiltered -0.026884   0.008765  -3.067\n",
       "\n",
       "Correlation of Fixed Effects:\n",
       "            (Intr) genrtn cndtnn\n",
       "generation  -0.545              \n",
       "cndtnnfltrd -0.707  0.385       \n",
       "gnrtn:cndtn  0.385 -0.707 -0.545"
      ]
     },
     "metadata": {},
     "output_type": "display_data"
    }
   ],
   "source": [
    "error_model <- lmer(error ~ generation*condition + (1|chain), data=error)\n",
    "summary(error_model)"
   ]
  },
  {
   "cell_type": "markdown",
   "metadata": {},
   "source": [
    "The most important bit here is the fixed effects table. (The fixed effects are the things we're using to predict the error score, namely generation and condition). \n",
    "\n",
    "The first row (the intercept) estimates the overal level of error at generation zero from the model. Not this is not the same as the actual average error we get a generation zero, because it takes into account the generations that came later. This is a *linear* model, which means it's trying to fit straight lines over our data. This necessarily means that where these lines intercept the axis at generation zero might vary. The model is estimating an intercept of 0.61. The std error column tells us how accurate this estimate is. So, the estimate is really $0.61 \\pm 0.051$ standard errors.\n",
    "\n",
    "The second row tells us the rate of change in error over generations. So, error decreases over time (by 0.0424 per generation).\n",
    "\n",
    "The third row tells us that the unfiltered condition has a higher intercept than the mean (but notice that the error on this is huge, it's 0.027 plus or minus 0.072 so actually it could be lower than the mean, potentially).\n",
    "\n",
    "The final row tells us that the effect of generation is more pronounced in the unfiltered condition. In other words, error goes down 0.027 per generation *more* than the average for the data as a whole."
   ]
  },
  {
   "cell_type": "markdown",
   "metadata": {},
   "source": [
    "### Comparing models\n",
    "\n",
    "This is all well and good, but at this point it's really just describing stuff we can see on the graph. The reason to run models like this is to help us understand whether the size of these effects is what we might expect by chance. For example, we could get different overall levels of error just by luck in our two conditions. After all, it does look pretty variable!\n",
    "\n",
    "There are a bunch of different ways of testing this, but one approach that I like is called *model comparison*. What this does is let you compare a model that you've created using the predictors you think are important, with another model that takes one of these predictors out as if it wasn't there. If the model that removes the predictor *explains the data* (e.g. predicts the error score) just as well as the one you ran originally, then you can conclude that your predictor wasn't really doing anything.\n",
    "\n",
    "Here are three models that are simpler than our full model that we might want to compare with it. The first leaves out generation. The second leaves out condition. The third takes out the possibility of an interaction."
   ]
  },
  {
   "cell_type": "code",
   "execution_count": 126,
   "metadata": {},
   "outputs": [],
   "source": [
    "error_model_nogen <- lmer(error ~ condition + (1|chain), data=error)\n",
    "error_model_nocond <- lmer(error ~ generation + (1|chain), data=error)\n",
    "error_model_noint <- lmer(error ~ generation + condition + (1|chain), data=error)"
   ]
  },
  {
   "cell_type": "markdown",
   "metadata": {},
   "source": [
    "Now we need a way of comparing each of these with our full model. R provides a function to do this (called `anova` but don't mistake this with running an ANOVA in the traditional sense, if you've done that in the past!).\n",
    "\n",
    "The `Df` column in the resulting tables tells you the \"degrees of freedom\" in these models. The simpler model is simpler in each case in that it has fewer degrees of freedom. The `Chi Df` column gives you the difference in degrees of freedom and you'll report this as part of the write up (see below). The crucial number is in the `Chisq` column. This is the so-called chi-squared value saying how big the difference is between these two models in terms of how well they predict the data. R uses the chi-squared value and the degrees of freedom to estimate the probability that this difference in predictive success of the models could have been due to chance. This is the p-value reported in the final column. If it's a lot smaller than zero, then it might be reported using a notation with an `e` in it. For example, `1.5e-20` This is shorthand for the number of decimal places to move the number reported to get the real value. You see this written as $1.5\\times 10^{-20}$ in papers, which just means $0.000000000000000000015$ (there are 20 zeros there, including the one on the left of the decimal point!)"
   ]
  },
  {
   "cell_type": "code",
   "execution_count": 127,
   "metadata": {},
   "outputs": [
    {
     "name": "stderr",
     "output_type": "stream",
     "text": [
      "refitting model(s) with ML (instead of REML)\n"
     ]
    },
    {
     "data": {
      "text/html": [
       "<table>\n",
       "<thead><tr><th></th><th scope=col>Df</th><th scope=col>AIC</th><th scope=col>BIC</th><th scope=col>logLik</th><th scope=col>deviance</th><th scope=col>Chisq</th><th scope=col>Chi Df</th><th scope=col>Pr(&gt;Chisq)</th></tr></thead>\n",
       "<tbody>\n",
       "\t<tr><th scope=row>error_model_nogen</th><td>4           </td><td> -15.48394  </td><td> -5.955837  </td><td>11.74197    </td><td> -23.48394  </td><td>      NA    </td><td>NA          </td><td>          NA</td></tr>\n",
       "\t<tr><th scope=row>error_model</th><td>6           </td><td>-100.67179  </td><td>-86.379635  </td><td>56.33590    </td><td>-112.67179  </td><td>89.18785    </td><td> 2          </td><td>4.296395e-20</td></tr>\n",
       "</tbody>\n",
       "</table>\n"
      ],
      "text/latex": [
       "\\begin{tabular}{r|llllllll}\n",
       "  & Df & AIC & BIC & logLik & deviance & Chisq & Chi Df & Pr(>Chisq)\\\\\n",
       "\\hline\n",
       "\terror\\_model\\_nogen & 4            &  -15.48394   &  -5.955837   & 11.74197     &  -23.48394   &       NA     & NA           &           NA\\\\\n",
       "\terror\\_model & 6            & -100.67179   & -86.379635   & 56.33590     & -112.67179   & 89.18785     &  2           & 4.296395e-20\\\\\n",
       "\\end{tabular}\n"
      ],
      "text/markdown": [
       "\n",
       "| <!--/--> | Df | AIC | BIC | logLik | deviance | Chisq | Chi Df | Pr(>Chisq) | \n",
       "|---|---|\n",
       "| error_model_nogen | 4            |  -15.48394   |  -5.955837   | 11.74197     |  -23.48394   |       NA     | NA           |           NA | \n",
       "| error_model | 6            | -100.67179   | -86.379635   | 56.33590     | -112.67179   | 89.18785     |  2           | 4.296395e-20 | \n",
       "\n",
       "\n"
      ],
      "text/plain": [
       "                  Df AIC        BIC        logLik   deviance   Chisq    Chi Df\n",
       "error_model_nogen 4   -15.48394  -5.955837 11.74197  -23.48394       NA NA    \n",
       "error_model       6  -100.67179 -86.379635 56.33590 -112.67179 89.18785  2    \n",
       "                  Pr(>Chisq)  \n",
       "error_model_nogen           NA\n",
       "error_model       4.296395e-20"
      ]
     },
     "metadata": {},
     "output_type": "display_data"
    },
    {
     "name": "stderr",
     "output_type": "stream",
     "text": [
      "refitting model(s) with ML (instead of REML)\n"
     ]
    },
    {
     "data": {
      "text/html": [
       "<table>\n",
       "<thead><tr><th></th><th scope=col>Df</th><th scope=col>AIC</th><th scope=col>BIC</th><th scope=col>logLik</th><th scope=col>deviance</th><th scope=col>Chisq</th><th scope=col>Chi Df</th><th scope=col>Pr(&gt;Chisq)</th></tr></thead>\n",
       "<tbody>\n",
       "\t<tr><th scope=row>error_model_nocond</th><td>4          </td><td> -92.89798 </td><td>-83.36987  </td><td>50.44899   </td><td>-100.8980  </td><td>      NA   </td><td>NA         </td><td>         NA</td></tr>\n",
       "\t<tr><th scope=row>error_model</th><td>6          </td><td>-100.67179 </td><td>-86.37963  </td><td>56.33590   </td><td>-112.6718  </td><td>11.77381   </td><td> 2         </td><td>0.002775549</td></tr>\n",
       "</tbody>\n",
       "</table>\n"
      ],
      "text/latex": [
       "\\begin{tabular}{r|llllllll}\n",
       "  & Df & AIC & BIC & logLik & deviance & Chisq & Chi Df & Pr(>Chisq)\\\\\n",
       "\\hline\n",
       "\terror\\_model\\_nocond & 4           &  -92.89798  & -83.36987   & 50.44899    & -100.8980   &       NA    & NA          &          NA\\\\\n",
       "\terror\\_model & 6           & -100.67179  & -86.37963   & 56.33590    & -112.6718   & 11.77381    &  2          & 0.002775549\\\\\n",
       "\\end{tabular}\n"
      ],
      "text/markdown": [
       "\n",
       "| <!--/--> | Df | AIC | BIC | logLik | deviance | Chisq | Chi Df | Pr(>Chisq) | \n",
       "|---|---|\n",
       "| error_model_nocond | 4           |  -92.89798  | -83.36987   | 50.44899    | -100.8980   |       NA    | NA          |          NA | \n",
       "| error_model | 6           | -100.67179  | -86.37963   | 56.33590    | -112.6718   | 11.77381    |  2          | 0.002775549 | \n",
       "\n",
       "\n"
      ],
      "text/plain": [
       "                   Df AIC        BIC       logLik   deviance  Chisq    Chi Df\n",
       "error_model_nocond 4   -92.89798 -83.36987 50.44899 -100.8980       NA NA    \n",
       "error_model        6  -100.67179 -86.37963 56.33590 -112.6718 11.77381  2    \n",
       "                   Pr(>Chisq) \n",
       "error_model_nocond          NA\n",
       "error_model        0.002775549"
      ]
     },
     "metadata": {},
     "output_type": "display_data"
    },
    {
     "name": "stderr",
     "output_type": "stream",
     "text": [
      "refitting model(s) with ML (instead of REML)\n"
     ]
    },
    {
     "data": {
      "text/html": [
       "<table>\n",
       "<thead><tr><th></th><th scope=col>Df</th><th scope=col>AIC</th><th scope=col>BIC</th><th scope=col>logLik</th><th scope=col>deviance</th><th scope=col>Chisq</th><th scope=col>Chi Df</th><th scope=col>Pr(&gt;Chisq)</th></tr></thead>\n",
       "<tbody>\n",
       "\t<tr><th scope=row>error_model_noint</th><td>5          </td><td> -93.59159 </td><td>-81.68146  </td><td>51.79579   </td><td>-103.5916  </td><td>      NA   </td><td>NA         </td><td>         NA</td></tr>\n",
       "\t<tr><th scope=row>error_model</th><td>6          </td><td>-100.67179 </td><td>-86.37963  </td><td>56.33590   </td><td>-112.6718  </td><td>9.080205   </td><td> 1         </td><td>0.002583911</td></tr>\n",
       "</tbody>\n",
       "</table>\n"
      ],
      "text/latex": [
       "\\begin{tabular}{r|llllllll}\n",
       "  & Df & AIC & BIC & logLik & deviance & Chisq & Chi Df & Pr(>Chisq)\\\\\n",
       "\\hline\n",
       "\terror\\_model\\_noint & 5           &  -93.59159  & -81.68146   & 51.79579    & -103.5916   &       NA    & NA          &          NA\\\\\n",
       "\terror\\_model & 6           & -100.67179  & -86.37963   & 56.33590    & -112.6718   & 9.080205    &  1          & 0.002583911\\\\\n",
       "\\end{tabular}\n"
      ],
      "text/markdown": [
       "\n",
       "| <!--/--> | Df | AIC | BIC | logLik | deviance | Chisq | Chi Df | Pr(>Chisq) | \n",
       "|---|---|\n",
       "| error_model_noint | 5           |  -93.59159  | -81.68146   | 51.79579    | -103.5916   |       NA    | NA          |          NA | \n",
       "| error_model | 6           | -100.67179  | -86.37963   | 56.33590    | -112.6718   | 9.080205    |  1          | 0.002583911 | \n",
       "\n",
       "\n"
      ],
      "text/plain": [
       "                  Df AIC        BIC       logLik   deviance  Chisq    Chi Df\n",
       "error_model_noint 5   -93.59159 -81.68146 51.79579 -103.5916       NA NA    \n",
       "error_model       6  -100.67179 -86.37963 56.33590 -112.6718 9.080205  1    \n",
       "                  Pr(>Chisq) \n",
       "error_model_noint          NA\n",
       "error_model       0.002583911"
      ]
     },
     "metadata": {},
     "output_type": "display_data"
    }
   ],
   "source": [
    "anova(error_model, error_model_nogen)\n",
    "anova(error_model, error_model_nocond)\n",
    "anova(error_model, error_model_noint)"
   ]
  },
  {
   "cell_type": "markdown",
   "metadata": {},
   "source": [
    "OK... what do we conclude from these tables?\n",
    "\n",
    "All the p-values are lower than $0.05$ which by convention allows us to call them \"significant\". This means that we'd be able to say that there is a significant effect of generation on error scores, that there is a significant effect of condition on error scores, and that there is a significant interaction between generation and condition on error.\n",
    "\n",
    "So, how do we report these? Well... it's tempting to just include everything, but in fact I think it's much better to report only the stats that are relevant to the predictions you're making. In the original paper we weren't interested in the difference between conditions (that's why we treated them as two different experiments) but let's imagine we were predicting a difference. We'd want to report both the effect of generation and the effect of condition. Also, the experiments are designed to all start in roughly the same place, so we really do expect a difference in rate of change over generations if there is a difference in conditions, so it's really the interaction that's important.\n",
    "\n",
    "Here's how I would report these results (based on the *brilliant* tutorial [Winter, 2013](http://arxiv.org/pdf/1308.5499.pdf)):\n",
    "\n",
    "\"We used R (R Core Team, 2017) and lme4 (Bates, Maechler, Bolker & Walker 2014) to perform a linear mixed effects analysis of the relationship between error, generation, and condition. As fixed effects, we entered generation and condition (plus their interaction) into the model. As random effects, we had intercepts for chains. We found that generation affected error ($\\chi^2(2)=89.19, p=4.3\\times 10^{-20}$), lowering it by approximately $0.042 \\pm 0.0062$ (standard errors) every generation. We also found a significant interaction between generation and condition ($\\chi^2(1)=9.08, p=0.0026$), with error decreasing approximately $0.027 \\pm 0.0088$ (standard errors) more every generation than the average for the whole experiment.\" "
   ]
  },
  {
   "cell_type": "markdown",
   "metadata": {},
   "source": [
    "### A worry about the first generation...\n",
    "\n",
    "For this kind of iterated learning experiment it's worth worrying a bit about the very first generation. After all, this is kind of a special case, because it's the language *we* made up, rather than the one the participants created. Because of this, you might sometimes also see the stats reported with the first generation taken out. Here's how you do it."
   ]
  },
  {
   "cell_type": "code",
   "execution_count": 128,
   "metadata": {},
   "outputs": [
    {
     "data": {
      "text/plain": [
       "Linear mixed model fit by REML ['lmerMod']\n",
       "Formula: error ~ generation * condition + (1 | chain)\n",
       "   Data: subset(error, generation > 0)\n",
       "\n",
       "REML criterion at convergence: -81\n",
       "\n",
       "Scaled residuals: \n",
       "     Min       1Q   Median       3Q      Max \n",
       "-1.91097 -0.70766 -0.01066  0.65168  2.84626 \n",
       "\n",
       "Random effects:\n",
       " Groups   Name        Variance Std.Dev.\n",
       " chain    (Intercept) 0.007662 0.08753 \n",
       " Residual             0.011483 0.10716 \n",
       "Number of obs: 72, groups:  chain, 8\n",
       "\n",
       "Fixed effects:\n",
       "                                Estimate Std. Error t value\n",
       "(Intercept)                     0.546526   0.058570   9.331\n",
       "generation                     -0.032931   0.006917  -4.761\n",
       "conditionunfiltered             0.043270   0.082831   0.522\n",
       "generation:conditionunfiltered -0.029464   0.009782  -3.012\n",
       "\n",
       "Correlation of Fixed Effects:\n",
       "            (Intr) genrtn cndtnn\n",
       "generation  -0.590              \n",
       "cndtnnfltrd -0.707  0.418       \n",
       "gnrtn:cndtn  0.418 -0.707 -0.590"
      ]
     },
     "metadata": {},
     "output_type": "display_data"
    },
    {
     "name": "stderr",
     "output_type": "stream",
     "text": [
      "refitting model(s) with ML (instead of REML)\n"
     ]
    },
    {
     "data": {
      "text/html": [
       "<table>\n",
       "<thead><tr><th></th><th scope=col>Df</th><th scope=col>AIC</th><th scope=col>BIC</th><th scope=col>logLik</th><th scope=col>deviance</th><th scope=col>Chisq</th><th scope=col>Chi Df</th><th scope=col>Pr(&gt;Chisq)</th></tr></thead>\n",
       "<tbody>\n",
       "\t<tr><th scope=row>error_model_nogen</th><td>4           </td><td>-35.00578   </td><td>-25.89911   </td><td>21.50289    </td><td> -43.00578  </td><td>      NA    </td><td>NA          </td><td>          NA</td></tr>\n",
       "\t<tr><th scope=row>error_model</th><td>6           </td><td>-94.05103   </td><td>-80.39104   </td><td>53.02552    </td><td>-106.05103  </td><td>63.04526    </td><td> 2          </td><td>2.041251e-14</td></tr>\n",
       "</tbody>\n",
       "</table>\n"
      ],
      "text/latex": [
       "\\begin{tabular}{r|llllllll}\n",
       "  & Df & AIC & BIC & logLik & deviance & Chisq & Chi Df & Pr(>Chisq)\\\\\n",
       "\\hline\n",
       "\terror\\_model\\_nogen & 4            & -35.00578    & -25.89911    & 21.50289     &  -43.00578   &       NA     & NA           &           NA\\\\\n",
       "\terror\\_model & 6            & -94.05103    & -80.39104    & 53.02552     & -106.05103   & 63.04526     &  2           & 2.041251e-14\\\\\n",
       "\\end{tabular}\n"
      ],
      "text/markdown": [
       "\n",
       "| <!--/--> | Df | AIC | BIC | logLik | deviance | Chisq | Chi Df | Pr(>Chisq) | \n",
       "|---|---|\n",
       "| error_model_nogen | 4            | -35.00578    | -25.89911    | 21.50289     |  -43.00578   |       NA     | NA           |           NA | \n",
       "| error_model | 6            | -94.05103    | -80.39104    | 53.02552     | -106.05103   | 63.04526     |  2           | 2.041251e-14 | \n",
       "\n",
       "\n"
      ],
      "text/plain": [
       "                  Df AIC       BIC       logLik   deviance   Chisq    Chi Df\n",
       "error_model_nogen 4  -35.00578 -25.89911 21.50289  -43.00578       NA NA    \n",
       "error_model       6  -94.05103 -80.39104 53.02552 -106.05103 63.04526  2    \n",
       "                  Pr(>Chisq)  \n",
       "error_model_nogen           NA\n",
       "error_model       2.041251e-14"
      ]
     },
     "metadata": {},
     "output_type": "display_data"
    },
    {
     "name": "stderr",
     "output_type": "stream",
     "text": [
      "refitting model(s) with ML (instead of REML)\n"
     ]
    },
    {
     "data": {
      "text/html": [
       "<table>\n",
       "<thead><tr><th></th><th scope=col>Df</th><th scope=col>AIC</th><th scope=col>BIC</th><th scope=col>logLik</th><th scope=col>deviance</th><th scope=col>Chisq</th><th scope=col>Chi Df</th><th scope=col>Pr(&gt;Chisq)</th></tr></thead>\n",
       "<tbody>\n",
       "\t<tr><th scope=row>error_model_nocond</th><td>4          </td><td>-86.59741  </td><td>-77.49075  </td><td>47.29870   </td><td> -94.59741 </td><td>      NA   </td><td>NA         </td><td>         NA</td></tr>\n",
       "\t<tr><th scope=row>error_model</th><td>6          </td><td>-94.05103  </td><td>-80.39104  </td><td>53.02552   </td><td>-106.05103 </td><td>11.45362   </td><td> 2         </td><td>0.003257445</td></tr>\n",
       "</tbody>\n",
       "</table>\n"
      ],
      "text/latex": [
       "\\begin{tabular}{r|llllllll}\n",
       "  & Df & AIC & BIC & logLik & deviance & Chisq & Chi Df & Pr(>Chisq)\\\\\n",
       "\\hline\n",
       "\terror\\_model\\_nocond & 4           & -86.59741   & -77.49075   & 47.29870    &  -94.59741  &       NA    & NA          &          NA\\\\\n",
       "\terror\\_model & 6           & -94.05103   & -80.39104   & 53.02552    & -106.05103  & 11.45362    &  2          & 0.003257445\\\\\n",
       "\\end{tabular}\n"
      ],
      "text/markdown": [
       "\n",
       "| <!--/--> | Df | AIC | BIC | logLik | deviance | Chisq | Chi Df | Pr(>Chisq) | \n",
       "|---|---|\n",
       "| error_model_nocond | 4           | -86.59741   | -77.49075   | 47.29870    |  -94.59741  |       NA    | NA          |          NA | \n",
       "| error_model | 6           | -94.05103   | -80.39104   | 53.02552    | -106.05103  | 11.45362    |  2          | 0.003257445 | \n",
       "\n",
       "\n"
      ],
      "text/plain": [
       "                   Df AIC       BIC       logLik   deviance   Chisq    Chi Df\n",
       "error_model_nocond 4  -86.59741 -77.49075 47.29870  -94.59741       NA NA    \n",
       "error_model        6  -94.05103 -80.39104 53.02552 -106.05103 11.45362  2    \n",
       "                   Pr(>Chisq) \n",
       "error_model_nocond          NA\n",
       "error_model        0.003257445"
      ]
     },
     "metadata": {},
     "output_type": "display_data"
    },
    {
     "name": "stderr",
     "output_type": "stream",
     "text": [
      "refitting model(s) with ML (instead of REML)\n"
     ]
    },
    {
     "data": {
      "text/html": [
       "<table>\n",
       "<thead><tr><th></th><th scope=col>Df</th><th scope=col>AIC</th><th scope=col>BIC</th><th scope=col>logLik</th><th scope=col>deviance</th><th scope=col>Chisq</th><th scope=col>Chi Df</th><th scope=col>Pr(&gt;Chisq)</th></tr></thead>\n",
       "<tbody>\n",
       "\t<tr><th scope=row>error_model_noint</th><td>5          </td><td>-87.31081  </td><td>-75.92748  </td><td>48.65541   </td><td> -97.31081 </td><td>      NA   </td><td>NA         </td><td>         NA</td></tr>\n",
       "\t<tr><th scope=row>error_model</th><td>6          </td><td>-94.05103  </td><td>-80.39104  </td><td>53.02552   </td><td>-106.05103 </td><td>8.740221   </td><td> 1         </td><td>0.003112668</td></tr>\n",
       "</tbody>\n",
       "</table>\n"
      ],
      "text/latex": [
       "\\begin{tabular}{r|llllllll}\n",
       "  & Df & AIC & BIC & logLik & deviance & Chisq & Chi Df & Pr(>Chisq)\\\\\n",
       "\\hline\n",
       "\terror\\_model\\_noint & 5           & -87.31081   & -75.92748   & 48.65541    &  -97.31081  &       NA    & NA          &          NA\\\\\n",
       "\terror\\_model & 6           & -94.05103   & -80.39104   & 53.02552    & -106.05103  & 8.740221    &  1          & 0.003112668\\\\\n",
       "\\end{tabular}\n"
      ],
      "text/markdown": [
       "\n",
       "| <!--/--> | Df | AIC | BIC | logLik | deviance | Chisq | Chi Df | Pr(>Chisq) | \n",
       "|---|---|\n",
       "| error_model_noint | 5           | -87.31081   | -75.92748   | 48.65541    |  -97.31081  |       NA    | NA          |          NA | \n",
       "| error_model | 6           | -94.05103   | -80.39104   | 53.02552    | -106.05103  | 8.740221    |  1          | 0.003112668 | \n",
       "\n",
       "\n"
      ],
      "text/plain": [
       "                  Df AIC       BIC       logLik   deviance   Chisq    Chi Df\n",
       "error_model_noint 5  -87.31081 -75.92748 48.65541  -97.31081       NA NA    \n",
       "error_model       6  -94.05103 -80.39104 53.02552 -106.05103 8.740221  1    \n",
       "                  Pr(>Chisq) \n",
       "error_model_noint          NA\n",
       "error_model       0.003112668"
      ]
     },
     "metadata": {},
     "output_type": "display_data"
    }
   ],
   "source": [
    "error_model <- lmer(error ~ generation*condition + (1|chain), data=subset(error, generation>0))\n",
    "summary(error_model)\n",
    "\n",
    "error_model_nogen <- lmer(error ~ condition + (1|chain), data=subset(error, generation>0))\n",
    "error_model_nocond <- lmer(error ~ generation + (1|chain), data=subset(error, generation>0))\n",
    "error_model_noint <- lmer(error ~ generation + condition + (1|chain), data=subset(error, generation>0)) \n",
    "\n",
    "anova(error_model, error_model_nogen)\n",
    "anova(error_model, error_model_nocond)\n",
    "anova(error_model, error_model_noint)"
   ]
  },
  {
   "cell_type": "markdown",
   "metadata": {},
   "source": [
    "## Structure analysis\n",
    "\n",
    "Here's all the same stuff, but for structure..."
   ]
  },
  {
   "cell_type": "code",
   "execution_count": 129,
   "metadata": {},
   "outputs": [
    {
     "data": {
      "text/html": [
       "<table>\n",
       "<thead><tr><th scope=col>condition</th><th scope=col>chain</th><th scope=col>generation</th><th scope=col>structure</th></tr></thead>\n",
       "<tbody>\n",
       "\t<tr><td>filtered  </td><td>a         </td><td> 0        </td><td> 1.1969130</td></tr>\n",
       "\t<tr><td>filtered  </td><td>a         </td><td> 1        </td><td> 1.1167490</td></tr>\n",
       "\t<tr><td>filtered  </td><td>a         </td><td> 2        </td><td> 8.3790840</td></tr>\n",
       "\t<tr><td>filtered  </td><td>a         </td><td> 3        </td><td> 8.5127290</td></tr>\n",
       "\t<tr><td>filtered  </td><td>a         </td><td> 4        </td><td>12.1127800</td></tr>\n",
       "\t<tr><td>filtered  </td><td>a         </td><td> 5        </td><td>10.4219100</td></tr>\n",
       "\t<tr><td>filtered  </td><td>a         </td><td> 6        </td><td> 8.8486110</td></tr>\n",
       "\t<tr><td>filtered  </td><td>a         </td><td> 7        </td><td>11.3477200</td></tr>\n",
       "\t<tr><td>filtered  </td><td>a         </td><td> 8        </td><td> 8.2405400</td></tr>\n",
       "\t<tr><td>filtered  </td><td>a         </td><td> 9        </td><td> 7.7548540</td></tr>\n",
       "\t<tr><td>filtered  </td><td>a         </td><td>10        </td><td> 3.7850290</td></tr>\n",
       "\t<tr><td>filtered  </td><td>b         </td><td> 0        </td><td>-1.7545910</td></tr>\n",
       "\t<tr><td>filtered  </td><td>b         </td><td> 1        </td><td> 2.9007590</td></tr>\n",
       "\t<tr><td>filtered  </td><td>b         </td><td> 2        </td><td> 5.9795860</td></tr>\n",
       "\t<tr><td>filtered  </td><td>b         </td><td> 3        </td><td> 6.1814750</td></tr>\n",
       "\t<tr><td>filtered  </td><td>b         </td><td> 4        </td><td> 3.9802150</td></tr>\n",
       "\t<tr><td>filtered  </td><td>b         </td><td> 5        </td><td> 4.3651330</td></tr>\n",
       "\t<tr><td>filtered  </td><td>b         </td><td> 6        </td><td> 5.1142270</td></tr>\n",
       "\t<tr><td>filtered  </td><td>b         </td><td> 7        </td><td> 7.3372940</td></tr>\n",
       "\t<tr><td>filtered  </td><td>b         </td><td> 8        </td><td> 7.1291450</td></tr>\n",
       "\t<tr><td>filtered  </td><td>b         </td><td> 9        </td><td> 6.5636090</td></tr>\n",
       "\t<tr><td>filtered  </td><td>b         </td><td>10        </td><td> 0.1738960</td></tr>\n",
       "\t<tr><td>filtered  </td><td>c         </td><td> 0        </td><td>-0.9268383</td></tr>\n",
       "\t<tr><td>filtered  </td><td>c         </td><td> 1        </td><td> 0.4138245</td></tr>\n",
       "\t<tr><td>filtered  </td><td>c         </td><td> 2        </td><td> 2.9625520</td></tr>\n",
       "\t<tr><td>filtered  </td><td>c         </td><td> 3        </td><td> 5.5970610</td></tr>\n",
       "\t<tr><td>filtered  </td><td>c         </td><td> 4        </td><td> 9.5810550</td></tr>\n",
       "\t<tr><td>filtered  </td><td>c         </td><td> 5        </td><td> 3.0930480</td></tr>\n",
       "\t<tr><td>filtered  </td><td>c         </td><td> 6        </td><td> 7.9736930</td></tr>\n",
       "\t<tr><td>filtered  </td><td>c         </td><td> 7        </td><td> 6.9770980</td></tr>\n",
       "\t<tr><td>⋮</td><td>⋮</td><td>⋮</td><td>⋮</td></tr>\n",
       "\t<tr><td>unfiltered</td><td>f         </td><td> 3        </td><td>8.5800800 </td></tr>\n",
       "\t<tr><td>unfiltered</td><td>f         </td><td> 4        </td><td>7.4572800 </td></tr>\n",
       "\t<tr><td>unfiltered</td><td>f         </td><td> 5        </td><td>4.4395070 </td></tr>\n",
       "\t<tr><td>unfiltered</td><td>f         </td><td> 6        </td><td>5.5178540 </td></tr>\n",
       "\t<tr><td>unfiltered</td><td>f         </td><td> 7        </td><td>5.4335730 </td></tr>\n",
       "\t<tr><td>unfiltered</td><td>f         </td><td> 8        </td><td>5.0262480 </td></tr>\n",
       "\t<tr><td>unfiltered</td><td>f         </td><td> 9        </td><td>7.4215600 </td></tr>\n",
       "\t<tr><td>unfiltered</td><td>f         </td><td>10        </td><td>8.7019670 </td></tr>\n",
       "\t<tr><td>unfiltered</td><td>g         </td><td> 0        </td><td>0.7688689 </td></tr>\n",
       "\t<tr><td>unfiltered</td><td>g         </td><td> 1        </td><td>0.3993785 </td></tr>\n",
       "\t<tr><td>unfiltered</td><td>g         </td><td> 2        </td><td>1.5159440 </td></tr>\n",
       "\t<tr><td>unfiltered</td><td>g         </td><td> 3        </td><td>2.6052860 </td></tr>\n",
       "\t<tr><td>unfiltered</td><td>g         </td><td> 4        </td><td>0.8956198 </td></tr>\n",
       "\t<tr><td>unfiltered</td><td>g         </td><td> 5        </td><td>0.4375119 </td></tr>\n",
       "\t<tr><td>unfiltered</td><td>g         </td><td> 6        </td><td>4.5873110 </td></tr>\n",
       "\t<tr><td>unfiltered</td><td>g         </td><td> 7        </td><td>5.5927330 </td></tr>\n",
       "\t<tr><td>unfiltered</td><td>g         </td><td> 8        </td><td>5.3052980 </td></tr>\n",
       "\t<tr><td>unfiltered</td><td>g         </td><td> 9        </td><td>4.5523050 </td></tr>\n",
       "\t<tr><td>unfiltered</td><td>g         </td><td>10        </td><td>6.0159260 </td></tr>\n",
       "\t<tr><td>unfiltered</td><td>h         </td><td> 0        </td><td>0.9532040 </td></tr>\n",
       "\t<tr><td>unfiltered</td><td>h         </td><td> 1        </td><td>0.9480980 </td></tr>\n",
       "\t<tr><td>unfiltered</td><td>h         </td><td> 2        </td><td>3.6497740 </td></tr>\n",
       "\t<tr><td>unfiltered</td><td>h         </td><td> 3        </td><td>5.0005820 </td></tr>\n",
       "\t<tr><td>unfiltered</td><td>h         </td><td> 4        </td><td>6.0243870 </td></tr>\n",
       "\t<tr><td>unfiltered</td><td>h         </td><td> 5        </td><td>6.7293560 </td></tr>\n",
       "\t<tr><td>unfiltered</td><td>h         </td><td> 6        </td><td>7.2261640 </td></tr>\n",
       "\t<tr><td>unfiltered</td><td>h         </td><td> 7        </td><td>7.4604860 </td></tr>\n",
       "\t<tr><td>unfiltered</td><td>h         </td><td> 8        </td><td>8.6024260 </td></tr>\n",
       "\t<tr><td>unfiltered</td><td>h         </td><td> 9        </td><td>8.8098840 </td></tr>\n",
       "\t<tr><td>unfiltered</td><td>h         </td><td>10        </td><td>8.7759650 </td></tr>\n",
       "</tbody>\n",
       "</table>\n"
      ],
      "text/latex": [
       "\\begin{tabular}{r|llll}\n",
       " condition & chain & generation & structure\\\\\n",
       "\\hline\n",
       "\t filtered   & a          &  0         &  1.1969130\\\\\n",
       "\t filtered   & a          &  1         &  1.1167490\\\\\n",
       "\t filtered   & a          &  2         &  8.3790840\\\\\n",
       "\t filtered   & a          &  3         &  8.5127290\\\\\n",
       "\t filtered   & a          &  4         & 12.1127800\\\\\n",
       "\t filtered   & a          &  5         & 10.4219100\\\\\n",
       "\t filtered   & a          &  6         &  8.8486110\\\\\n",
       "\t filtered   & a          &  7         & 11.3477200\\\\\n",
       "\t filtered   & a          &  8         &  8.2405400\\\\\n",
       "\t filtered   & a          &  9         &  7.7548540\\\\\n",
       "\t filtered   & a          & 10         &  3.7850290\\\\\n",
       "\t filtered   & b          &  0         & -1.7545910\\\\\n",
       "\t filtered   & b          &  1         &  2.9007590\\\\\n",
       "\t filtered   & b          &  2         &  5.9795860\\\\\n",
       "\t filtered   & b          &  3         &  6.1814750\\\\\n",
       "\t filtered   & b          &  4         &  3.9802150\\\\\n",
       "\t filtered   & b          &  5         &  4.3651330\\\\\n",
       "\t filtered   & b          &  6         &  5.1142270\\\\\n",
       "\t filtered   & b          &  7         &  7.3372940\\\\\n",
       "\t filtered   & b          &  8         &  7.1291450\\\\\n",
       "\t filtered   & b          &  9         &  6.5636090\\\\\n",
       "\t filtered   & b          & 10         &  0.1738960\\\\\n",
       "\t filtered   & c          &  0         & -0.9268383\\\\\n",
       "\t filtered   & c          &  1         &  0.4138245\\\\\n",
       "\t filtered   & c          &  2         &  2.9625520\\\\\n",
       "\t filtered   & c          &  3         &  5.5970610\\\\\n",
       "\t filtered   & c          &  4         &  9.5810550\\\\\n",
       "\t filtered   & c          &  5         &  3.0930480\\\\\n",
       "\t filtered   & c          &  6         &  7.9736930\\\\\n",
       "\t filtered   & c          &  7         &  6.9770980\\\\\n",
       "\t ⋮ & ⋮ & ⋮ & ⋮\\\\\n",
       "\t unfiltered & f          &  3         & 8.5800800 \\\\\n",
       "\t unfiltered & f          &  4         & 7.4572800 \\\\\n",
       "\t unfiltered & f          &  5         & 4.4395070 \\\\\n",
       "\t unfiltered & f          &  6         & 5.5178540 \\\\\n",
       "\t unfiltered & f          &  7         & 5.4335730 \\\\\n",
       "\t unfiltered & f          &  8         & 5.0262480 \\\\\n",
       "\t unfiltered & f          &  9         & 7.4215600 \\\\\n",
       "\t unfiltered & f          & 10         & 8.7019670 \\\\\n",
       "\t unfiltered & g          &  0         & 0.7688689 \\\\\n",
       "\t unfiltered & g          &  1         & 0.3993785 \\\\\n",
       "\t unfiltered & g          &  2         & 1.5159440 \\\\\n",
       "\t unfiltered & g          &  3         & 2.6052860 \\\\\n",
       "\t unfiltered & g          &  4         & 0.8956198 \\\\\n",
       "\t unfiltered & g          &  5         & 0.4375119 \\\\\n",
       "\t unfiltered & g          &  6         & 4.5873110 \\\\\n",
       "\t unfiltered & g          &  7         & 5.5927330 \\\\\n",
       "\t unfiltered & g          &  8         & 5.3052980 \\\\\n",
       "\t unfiltered & g          &  9         & 4.5523050 \\\\\n",
       "\t unfiltered & g          & 10         & 6.0159260 \\\\\n",
       "\t unfiltered & h          &  0         & 0.9532040 \\\\\n",
       "\t unfiltered & h          &  1         & 0.9480980 \\\\\n",
       "\t unfiltered & h          &  2         & 3.6497740 \\\\\n",
       "\t unfiltered & h          &  3         & 5.0005820 \\\\\n",
       "\t unfiltered & h          &  4         & 6.0243870 \\\\\n",
       "\t unfiltered & h          &  5         & 6.7293560 \\\\\n",
       "\t unfiltered & h          &  6         & 7.2261640 \\\\\n",
       "\t unfiltered & h          &  7         & 7.4604860 \\\\\n",
       "\t unfiltered & h          &  8         & 8.6024260 \\\\\n",
       "\t unfiltered & h          &  9         & 8.8098840 \\\\\n",
       "\t unfiltered & h          & 10         & 8.7759650 \\\\\n",
       "\\end{tabular}\n"
      ],
      "text/markdown": [
       "\n",
       "condition | chain | generation | structure | \n",
       "|---|---|---|---|---|---|---|---|---|---|---|---|---|---|---|---|---|---|---|---|---|---|---|---|---|---|---|---|---|---|---|---|---|---|---|---|---|---|---|---|---|---|---|---|---|---|---|---|---|---|---|---|---|---|---|---|---|---|---|---|---|\n",
       "| filtered   | a          |  0         |  1.1969130 | \n",
       "| filtered   | a          |  1         |  1.1167490 | \n",
       "| filtered   | a          |  2         |  8.3790840 | \n",
       "| filtered   | a          |  3         |  8.5127290 | \n",
       "| filtered   | a          |  4         | 12.1127800 | \n",
       "| filtered   | a          |  5         | 10.4219100 | \n",
       "| filtered   | a          |  6         |  8.8486110 | \n",
       "| filtered   | a          |  7         | 11.3477200 | \n",
       "| filtered   | a          |  8         |  8.2405400 | \n",
       "| filtered   | a          |  9         |  7.7548540 | \n",
       "| filtered   | a          | 10         |  3.7850290 | \n",
       "| filtered   | b          |  0         | -1.7545910 | \n",
       "| filtered   | b          |  1         |  2.9007590 | \n",
       "| filtered   | b          |  2         |  5.9795860 | \n",
       "| filtered   | b          |  3         |  6.1814750 | \n",
       "| filtered   | b          |  4         |  3.9802150 | \n",
       "| filtered   | b          |  5         |  4.3651330 | \n",
       "| filtered   | b          |  6         |  5.1142270 | \n",
       "| filtered   | b          |  7         |  7.3372940 | \n",
       "| filtered   | b          |  8         |  7.1291450 | \n",
       "| filtered   | b          |  9         |  6.5636090 | \n",
       "| filtered   | b          | 10         |  0.1738960 | \n",
       "| filtered   | c          |  0         | -0.9268383 | \n",
       "| filtered   | c          |  1         |  0.4138245 | \n",
       "| filtered   | c          |  2         |  2.9625520 | \n",
       "| filtered   | c          |  3         |  5.5970610 | \n",
       "| filtered   | c          |  4         |  9.5810550 | \n",
       "| filtered   | c          |  5         |  3.0930480 | \n",
       "| filtered   | c          |  6         |  7.9736930 | \n",
       "| filtered   | c          |  7         |  6.9770980 | \n",
       "| ⋮ | ⋮ | ⋮ | ⋮ | \n",
       "| unfiltered | f          |  3         | 8.5800800  | \n",
       "| unfiltered | f          |  4         | 7.4572800  | \n",
       "| unfiltered | f          |  5         | 4.4395070  | \n",
       "| unfiltered | f          |  6         | 5.5178540  | \n",
       "| unfiltered | f          |  7         | 5.4335730  | \n",
       "| unfiltered | f          |  8         | 5.0262480  | \n",
       "| unfiltered | f          |  9         | 7.4215600  | \n",
       "| unfiltered | f          | 10         | 8.7019670  | \n",
       "| unfiltered | g          |  0         | 0.7688689  | \n",
       "| unfiltered | g          |  1         | 0.3993785  | \n",
       "| unfiltered | g          |  2         | 1.5159440  | \n",
       "| unfiltered | g          |  3         | 2.6052860  | \n",
       "| unfiltered | g          |  4         | 0.8956198  | \n",
       "| unfiltered | g          |  5         | 0.4375119  | \n",
       "| unfiltered | g          |  6         | 4.5873110  | \n",
       "| unfiltered | g          |  7         | 5.5927330  | \n",
       "| unfiltered | g          |  8         | 5.3052980  | \n",
       "| unfiltered | g          |  9         | 4.5523050  | \n",
       "| unfiltered | g          | 10         | 6.0159260  | \n",
       "| unfiltered | h          |  0         | 0.9532040  | \n",
       "| unfiltered | h          |  1         | 0.9480980  | \n",
       "| unfiltered | h          |  2         | 3.6497740  | \n",
       "| unfiltered | h          |  3         | 5.0005820  | \n",
       "| unfiltered | h          |  4         | 6.0243870  | \n",
       "| unfiltered | h          |  5         | 6.7293560  | \n",
       "| unfiltered | h          |  6         | 7.2261640  | \n",
       "| unfiltered | h          |  7         | 7.4604860  | \n",
       "| unfiltered | h          |  8         | 8.6024260  | \n",
       "| unfiltered | h          |  9         | 8.8098840  | \n",
       "| unfiltered | h          | 10         | 8.7759650  | \n",
       "\n",
       "\n"
      ],
      "text/plain": [
       "   condition  chain generation structure \n",
       "1  filtered   a      0          1.1969130\n",
       "2  filtered   a      1          1.1167490\n",
       "3  filtered   a      2          8.3790840\n",
       "4  filtered   a      3          8.5127290\n",
       "5  filtered   a      4         12.1127800\n",
       "6  filtered   a      5         10.4219100\n",
       "7  filtered   a      6          8.8486110\n",
       "8  filtered   a      7         11.3477200\n",
       "9  filtered   a      8          8.2405400\n",
       "10 filtered   a      9          7.7548540\n",
       "11 filtered   a     10          3.7850290\n",
       "12 filtered   b      0         -1.7545910\n",
       "13 filtered   b      1          2.9007590\n",
       "14 filtered   b      2          5.9795860\n",
       "15 filtered   b      3          6.1814750\n",
       "16 filtered   b      4          3.9802150\n",
       "17 filtered   b      5          4.3651330\n",
       "18 filtered   b      6          5.1142270\n",
       "19 filtered   b      7          7.3372940\n",
       "20 filtered   b      8          7.1291450\n",
       "21 filtered   b      9          6.5636090\n",
       "22 filtered   b     10          0.1738960\n",
       "23 filtered   c      0         -0.9268383\n",
       "24 filtered   c      1          0.4138245\n",
       "25 filtered   c      2          2.9625520\n",
       "26 filtered   c      3          5.5970610\n",
       "27 filtered   c      4          9.5810550\n",
       "28 filtered   c      5          3.0930480\n",
       "29 filtered   c      6          7.9736930\n",
       "30 filtered   c      7          6.9770980\n",
       "⋮  ⋮          ⋮     ⋮          ⋮         \n",
       "59 unfiltered f      3         8.5800800 \n",
       "60 unfiltered f      4         7.4572800 \n",
       "61 unfiltered f      5         4.4395070 \n",
       "62 unfiltered f      6         5.5178540 \n",
       "63 unfiltered f      7         5.4335730 \n",
       "64 unfiltered f      8         5.0262480 \n",
       "65 unfiltered f      9         7.4215600 \n",
       "66 unfiltered f     10         8.7019670 \n",
       "67 unfiltered g      0         0.7688689 \n",
       "68 unfiltered g      1         0.3993785 \n",
       "69 unfiltered g      2         1.5159440 \n",
       "70 unfiltered g      3         2.6052860 \n",
       "71 unfiltered g      4         0.8956198 \n",
       "72 unfiltered g      5         0.4375119 \n",
       "73 unfiltered g      6         4.5873110 \n",
       "74 unfiltered g      7         5.5927330 \n",
       "75 unfiltered g      8         5.3052980 \n",
       "76 unfiltered g      9         4.5523050 \n",
       "77 unfiltered g     10         6.0159260 \n",
       "78 unfiltered h      0         0.9532040 \n",
       "79 unfiltered h      1         0.9480980 \n",
       "80 unfiltered h      2         3.6497740 \n",
       "81 unfiltered h      3         5.0005820 \n",
       "82 unfiltered h      4         6.0243870 \n",
       "83 unfiltered h      5         6.7293560 \n",
       "84 unfiltered h      6         7.2261640 \n",
       "85 unfiltered h      7         7.4604860 \n",
       "86 unfiltered h      8         8.6024260 \n",
       "87 unfiltered h      9         8.8098840 \n",
       "88 unfiltered h     10         8.7759650 "
      ]
     },
     "metadata": {},
     "output_type": "display_data"
    }
   ],
   "source": [
    "structure <- read.csv(\"structure.csv\")\n",
    "structure"
   ]
  },
  {
   "cell_type": "code",
   "execution_count": 130,
   "metadata": {},
   "outputs": [
    {
     "name": "stderr",
     "output_type": "stream",
     "text": [
      "Warning message:\n",
      "“Removed 2 rows containing non-finite values (stat_summary).”Warning message:\n",
      "“Removed 2 rows containing non-finite values (stat_summary).”"
     ]
    },
    {
     "data": {},
     "metadata": {},
     "output_type": "display_data"
    },
    {
     "data": {
      "image/png": "[encoded data removed]",
      "text/plain": [
       "plot without title"
      ]
     },
     "metadata": {},
     "output_type": "display_data"
    }
   ],
   "source": [
    "ggplot(structure,aes(x=generation,y=structure,color=condition))+\n",
    "  stat_summary(fun.y=mean,geom='line')+\n",
    "  stat_summary(fun.data=mean_cl_boot,geom='errorbar',width=0.1)+\n",
    "  scale_x_continuous(breaks=seq(0,10,1))"
   ]
  },
  {
   "cell_type": "markdown",
   "metadata": {},
   "source": [
    "Note that there are missing values here, hence the warning message! Sometimes you cannot calculate a structure score for a language (for example, if every object has the same label) and these are entered as `NA` in the spreadsheet."
   ]
  },
  {
   "cell_type": "code",
   "execution_count": 131,
   "metadata": {},
   "outputs": [
    {
     "data": {
      "text/plain": [
       "Linear mixed model fit by REML ['lmerMod']\n",
       "Formula: structure ~ generation * condition + (1 | chain)\n",
       "   Data: structure\n",
       "\n",
       "REML criterion at convergence: 408.1\n",
       "\n",
       "Scaled residuals: \n",
       "     Min       1Q   Median       3Q      Max \n",
       "-3.15651 -0.49535  0.07045  0.50268  2.30471 \n",
       "\n",
       "Random effects:\n",
       " Groups   Name        Variance Std.Dev.\n",
       " chain    (Intercept) 1.639    1.28    \n",
       " Residual             6.053    2.46    \n",
       "Number of obs: 86, groups:  chain, 8\n",
       "\n",
       "Fixed effects:\n",
       "                               Estimate Std. Error t value\n",
       "(Intercept)                      2.8593     0.9441   3.029\n",
       "generation                       0.6323     0.1173   5.391\n",
       "conditionunfiltered             -0.9263     1.3401  -0.691\n",
       "generation:conditionunfiltered  -0.1254     0.1709  -0.734\n",
       "\n",
       "Correlation of Fixed Effects:\n",
       "            (Intr) genrtn cndtnn\n",
       "generation  -0.621              \n",
       "cndtnnfltrd -0.704  0.438       \n",
       "gnrtn:cndtn  0.426 -0.686 -0.621"
      ]
     },
     "metadata": {},
     "output_type": "display_data"
    },
    {
     "name": "stderr",
     "output_type": "stream",
     "text": [
      "refitting model(s) with ML (instead of REML)\n"
     ]
    },
    {
     "data": {
      "text/html": [
       "<table>\n",
       "<thead><tr><th></th><th scope=col>Df</th><th scope=col>AIC</th><th scope=col>BIC</th><th scope=col>logLik</th><th scope=col>deviance</th><th scope=col>Chisq</th><th scope=col>Chi Df</th><th scope=col>Pr(&gt;Chisq)</th></tr></thead>\n",
       "<tbody>\n",
       "\t<tr><th scope=row>structure_model_nogen</th><td>4           </td><td>450.6161    </td><td>460.4335    </td><td>-221.3080   </td><td>442.6161    </td><td>      NA    </td><td>NA          </td><td>          NA</td></tr>\n",
       "\t<tr><th scope=row>structure_model</th><td>6           </td><td>417.4729    </td><td>432.1990    </td><td>-202.7364   </td><td>405.4729    </td><td>37.14317    </td><td> 2          </td><td>8.599286e-09</td></tr>\n",
       "</tbody>\n",
       "</table>\n"
      ],
      "text/latex": [
       "\\begin{tabular}{r|llllllll}\n",
       "  & Df & AIC & BIC & logLik & deviance & Chisq & Chi Df & Pr(>Chisq)\\\\\n",
       "\\hline\n",
       "\tstructure\\_model\\_nogen & 4            & 450.6161     & 460.4335     & -221.3080    & 442.6161     &       NA     & NA           &           NA\\\\\n",
       "\tstructure\\_model & 6            & 417.4729     & 432.1990     & -202.7364    & 405.4729     & 37.14317     &  2           & 8.599286e-09\\\\\n",
       "\\end{tabular}\n"
      ],
      "text/markdown": [
       "\n",
       "| <!--/--> | Df | AIC | BIC | logLik | deviance | Chisq | Chi Df | Pr(>Chisq) | \n",
       "|---|---|\n",
       "| structure_model_nogen | 4            | 450.6161     | 460.4335     | -221.3080    | 442.6161     |       NA     | NA           |           NA | \n",
       "| structure_model | 6            | 417.4729     | 432.1990     | -202.7364    | 405.4729     | 37.14317     |  2           | 8.599286e-09 | \n",
       "\n",
       "\n"
      ],
      "text/plain": [
       "                      Df AIC      BIC      logLik    deviance Chisq    Chi Df\n",
       "structure_model_nogen 4  450.6161 460.4335 -221.3080 442.6161       NA NA    \n",
       "structure_model       6  417.4729 432.1990 -202.7364 405.4729 37.14317  2    \n",
       "                      Pr(>Chisq)  \n",
       "structure_model_nogen           NA\n",
       "structure_model       8.599286e-09"
      ]
     },
     "metadata": {},
     "output_type": "display_data"
    },
    {
     "name": "stderr",
     "output_type": "stream",
     "text": [
      "refitting model(s) with ML (instead of REML)\n"
     ]
    },
    {
     "data": {
      "text/html": [
       "<table>\n",
       "<thead><tr><th></th><th scope=col>Df</th><th scope=col>AIC</th><th scope=col>BIC</th><th scope=col>logLik</th><th scope=col>deviance</th><th scope=col>Chisq</th><th scope=col>Chi Df</th><th scope=col>Pr(&gt;Chisq)</th></tr></thead>\n",
       "<tbody>\n",
       "\t<tr><th scope=row>structure_model_nocond</th><td>4        </td><td>416.4732 </td><td>426.2906 </td><td>-204.2366</td><td>408.4732 </td><td>      NA </td><td>NA       </td><td>       NA</td></tr>\n",
       "\t<tr><th scope=row>structure_model</th><td>6        </td><td>417.4729 </td><td>432.1990 </td><td>-202.7364</td><td>405.4729 </td><td>3.000347 </td><td> 2       </td><td>0.2230915</td></tr>\n",
       "</tbody>\n",
       "</table>\n"
      ],
      "text/latex": [
       "\\begin{tabular}{r|llllllll}\n",
       "  & Df & AIC & BIC & logLik & deviance & Chisq & Chi Df & Pr(>Chisq)\\\\\n",
       "\\hline\n",
       "\tstructure\\_model\\_nocond & 4         & 416.4732  & 426.2906  & -204.2366 & 408.4732  &       NA  & NA        &        NA\\\\\n",
       "\tstructure\\_model & 6         & 417.4729  & 432.1990  & -202.7364 & 405.4729  & 3.000347  &  2        & 0.2230915\\\\\n",
       "\\end{tabular}\n"
      ],
      "text/markdown": [
       "\n",
       "| <!--/--> | Df | AIC | BIC | logLik | deviance | Chisq | Chi Df | Pr(>Chisq) | \n",
       "|---|---|\n",
       "| structure_model_nocond | 4         | 416.4732  | 426.2906  | -204.2366 | 408.4732  |       NA  | NA        |        NA | \n",
       "| structure_model | 6         | 417.4729  | 432.1990  | -202.7364 | 405.4729  | 3.000347  |  2        | 0.2230915 | \n",
       "\n",
       "\n"
      ],
      "text/plain": [
       "                       Df AIC      BIC      logLik    deviance Chisq    Chi Df\n",
       "structure_model_nocond 4  416.4732 426.2906 -204.2366 408.4732       NA NA    \n",
       "structure_model        6  417.4729 432.1990 -202.7364 405.4729 3.000347  2    \n",
       "                       Pr(>Chisq)\n",
       "structure_model_nocond        NA \n",
       "structure_model        0.2230915 "
      ]
     },
     "metadata": {},
     "output_type": "display_data"
    },
    {
     "name": "stderr",
     "output_type": "stream",
     "text": [
      "refitting model(s) with ML (instead of REML)\n"
     ]
    },
    {
     "data": {
      "text/html": [
       "<table>\n",
       "<thead><tr><th></th><th scope=col>Df</th><th scope=col>AIC</th><th scope=col>BIC</th><th scope=col>logLik</th><th scope=col>deviance</th><th scope=col>Chisq</th><th scope=col>Chi Df</th><th scope=col>Pr(&gt;Chisq)</th></tr></thead>\n",
       "<tbody>\n",
       "\t<tr><th scope=row>structure_model_noint</th><td>5        </td><td>415.9982 </td><td>428.270  </td><td>-202.9991</td><td>405.9982 </td><td>       NA</td><td>NA       </td><td>       NA</td></tr>\n",
       "\t<tr><th scope=row>structure_model</th><td>6        </td><td>417.4729 </td><td>432.199  </td><td>-202.7364</td><td>405.4729 </td><td>0.5253197</td><td> 1       </td><td>0.4685812</td></tr>\n",
       "</tbody>\n",
       "</table>\n"
      ],
      "text/latex": [
       "\\begin{tabular}{r|llllllll}\n",
       "  & Df & AIC & BIC & logLik & deviance & Chisq & Chi Df & Pr(>Chisq)\\\\\n",
       "\\hline\n",
       "\tstructure\\_model\\_noint & 5         & 415.9982  & 428.270   & -202.9991 & 405.9982  &        NA & NA        &        NA\\\\\n",
       "\tstructure\\_model & 6         & 417.4729  & 432.199   & -202.7364 & 405.4729  & 0.5253197 &  1        & 0.4685812\\\\\n",
       "\\end{tabular}\n"
      ],
      "text/markdown": [
       "\n",
       "| <!--/--> | Df | AIC | BIC | logLik | deviance | Chisq | Chi Df | Pr(>Chisq) | \n",
       "|---|---|\n",
       "| structure_model_noint | 5         | 415.9982  | 428.270   | -202.9991 | 405.9982  |        NA | NA        |        NA | \n",
       "| structure_model | 6         | 417.4729  | 432.199   | -202.7364 | 405.4729  | 0.5253197 |  1        | 0.4685812 | \n",
       "\n",
       "\n"
      ],
      "text/plain": [
       "                      Df AIC      BIC     logLik    deviance Chisq     Chi Df\n",
       "structure_model_noint 5  415.9982 428.270 -202.9991 405.9982        NA NA    \n",
       "structure_model       6  417.4729 432.199 -202.7364 405.4729 0.5253197  1    \n",
       "                      Pr(>Chisq)\n",
       "structure_model_noint        NA \n",
       "structure_model       0.4685812 "
      ]
     },
     "metadata": {},
     "output_type": "display_data"
    }
   ],
   "source": [
    "structure_model <- lmer(structure ~ generation*condition + (1|chain), data=structure)\n",
    "summary(structure_model)\n",
    "\n",
    "structure_model_nogen <- lmer(structure ~ condition + (1|chain), data=structure)\n",
    "structure_model_nocond <- lmer(structure ~ generation + (1|chain), data=structure)\n",
    "structure_model_noint <- lmer(structure ~ generation + condition + (1|chain), data=structure) \n",
    "\n",
    "anova(structure_model, structure_model_nogen)\n",
    "anova(structure_model, structure_model_nocond)\n",
    "anova(structure_model, structure_model_noint)"
   ]
  },
  {
   "cell_type": "markdown",
   "metadata": {},
   "source": [
    "We'd report it as follows:\n",
    "\n",
    "\"As with our analysis of error, we performed a linear mixed effects analysis of the relationship between structure, generation, and condition. As fixed effects, we entered generation and condition (plus their interaction) into the model. As random effects, we had intercepts for chains. We found that generation affected structure ($\\chi^2(2)=37.14, p=8.6\\times 10^{-9}$), increasing it by approximately $0.63 \\pm 0.12$ (standard errors) every generation. We failed to find a significant interaction between generation and condition ($\\chi^2(1)=0.53, p=0.46$), nor a significant overall effect of condition ($\\chi^2(2)=3.00, p=0.22$).\" "
   ]
  },
  {
   "cell_type": "markdown",
   "metadata": {},
   "source": [
    "Here are the same stats taking out the first generation, which you could also choose to report."
   ]
  },
  {
   "cell_type": "code",
   "execution_count": 132,
   "metadata": {},
   "outputs": [
    {
     "data": {
      "text/plain": [
       "Linear mixed model fit by REML ['lmerMod']\n",
       "Formula: structure ~ generation * condition + (1 | chain)\n",
       "   Data: subset(structure, generation > 0)\n",
       "\n",
       "REML criterion at convergence: 365.1\n",
       "\n",
       "Scaled residuals: \n",
       "    Min      1Q  Median      3Q     Max \n",
       "-2.9733 -0.5130  0.1016  0.5381  2.2167 \n",
       "\n",
       "Random effects:\n",
       " Groups   Name        Variance Std.Dev.\n",
       " chain    (Intercept) 1.988    1.410   \n",
       " Residual             5.584    2.363   \n",
       "Number of obs: 78, groups:  chain, 8\n",
       "\n",
       "Fixed effects:\n",
       "                               Estimate Std. Error t value\n",
       "(Intercept)                      4.3984     1.0717   4.104\n",
       "generation                       0.4124     0.1301   3.170\n",
       "conditionunfiltered             -1.9819     1.5246  -1.300\n",
       "generation:conditionunfiltered   0.0199     0.1900   0.105\n",
       "\n",
       "Correlation of Fixed Effects:\n",
       "            (Intr) genrtn cndtnn\n",
       "generation  -0.668              \n",
       "cndtnnfltrd -0.703  0.469       \n",
       "gnrtn:cndtn  0.457 -0.685 -0.670"
      ]
     },
     "metadata": {},
     "output_type": "display_data"
    },
    {
     "name": "stderr",
     "output_type": "stream",
     "text": [
      "refitting model(s) with ML (instead of REML)\n"
     ]
    },
    {
     "data": {
      "text/html": [
       "<table>\n",
       "<thead><tr><th></th><th scope=col>Df</th><th scope=col>AIC</th><th scope=col>BIC</th><th scope=col>logLik</th><th scope=col>deviance</th><th scope=col>Chisq</th><th scope=col>Chi Df</th><th scope=col>Pr(&gt;Chisq)</th></tr></thead>\n",
       "<tbody>\n",
       "\t<tr><th scope=row>structure_model_nogen</th><td>4           </td><td>389.2949    </td><td>398.7218    </td><td>-190.6475   </td><td>381.2949    </td><td>      NA    </td><td>NA          </td><td>          NA</td></tr>\n",
       "\t<tr><th scope=row>structure_model</th><td>6           </td><td>375.1447    </td><td>389.2849    </td><td>-181.5723   </td><td>363.1447    </td><td>18.15025    </td><td> 2          </td><td>0.0001144783</td></tr>\n",
       "</tbody>\n",
       "</table>\n"
      ],
      "text/latex": [
       "\\begin{tabular}{r|llllllll}\n",
       "  & Df & AIC & BIC & logLik & deviance & Chisq & Chi Df & Pr(>Chisq)\\\\\n",
       "\\hline\n",
       "\tstructure\\_model\\_nogen & 4            & 389.2949     & 398.7218     & -190.6475    & 381.2949     &       NA     & NA           &           NA\\\\\n",
       "\tstructure\\_model & 6            & 375.1447     & 389.2849     & -181.5723    & 363.1447     & 18.15025     &  2           & 0.0001144783\\\\\n",
       "\\end{tabular}\n"
      ],
      "text/markdown": [
       "\n",
       "| <!--/--> | Df | AIC | BIC | logLik | deviance | Chisq | Chi Df | Pr(>Chisq) | \n",
       "|---|---|\n",
       "| structure_model_nogen | 4            | 389.2949     | 398.7218     | -190.6475    | 381.2949     |       NA     | NA           |           NA | \n",
       "| structure_model | 6            | 375.1447     | 389.2849     | -181.5723    | 363.1447     | 18.15025     |  2           | 0.0001144783 | \n",
       "\n",
       "\n"
      ],
      "text/plain": [
       "                      Df AIC      BIC      logLik    deviance Chisq    Chi Df\n",
       "structure_model_nogen 4  389.2949 398.7218 -190.6475 381.2949       NA NA    \n",
       "structure_model       6  375.1447 389.2849 -181.5723 363.1447 18.15025  2    \n",
       "                      Pr(>Chisq)  \n",
       "structure_model_nogen           NA\n",
       "structure_model       0.0001144783"
      ]
     },
     "metadata": {},
     "output_type": "display_data"
    },
    {
     "name": "stderr",
     "output_type": "stream",
     "text": [
      "refitting model(s) with ML (instead of REML)\n"
     ]
    },
    {
     "data": {
      "text/html": [
       "<table>\n",
       "<thead><tr><th></th><th scope=col>Df</th><th scope=col>AIC</th><th scope=col>BIC</th><th scope=col>logLik</th><th scope=col>deviance</th><th scope=col>Chisq</th><th scope=col>Chi Df</th><th scope=col>Pr(&gt;Chisq)</th></tr></thead>\n",
       "<tbody>\n",
       "\t<tr><th scope=row>structure_model_nocond</th><td>4        </td><td>374.1759 </td><td>383.6028 </td><td>-183.0880</td><td>366.1759 </td><td>      NA </td><td>NA       </td><td>       NA</td></tr>\n",
       "\t<tr><th scope=row>structure_model</th><td>6        </td><td>375.1447 </td><td>389.2849 </td><td>-181.5723</td><td>363.1447 </td><td>3.031259 </td><td> 2       </td><td>0.2196698</td></tr>\n",
       "</tbody>\n",
       "</table>\n"
      ],
      "text/latex": [
       "\\begin{tabular}{r|llllllll}\n",
       "  & Df & AIC & BIC & logLik & deviance & Chisq & Chi Df & Pr(>Chisq)\\\\\n",
       "\\hline\n",
       "\tstructure\\_model\\_nocond & 4         & 374.1759  & 383.6028  & -183.0880 & 366.1759  &       NA  & NA        &        NA\\\\\n",
       "\tstructure\\_model & 6         & 375.1447  & 389.2849  & -181.5723 & 363.1447  & 3.031259  &  2        & 0.2196698\\\\\n",
       "\\end{tabular}\n"
      ],
      "text/markdown": [
       "\n",
       "| <!--/--> | Df | AIC | BIC | logLik | deviance | Chisq | Chi Df | Pr(>Chisq) | \n",
       "|---|---|\n",
       "| structure_model_nocond | 4         | 374.1759  | 383.6028  | -183.0880 | 366.1759  |       NA  | NA        |        NA | \n",
       "| structure_model | 6         | 375.1447  | 389.2849  | -181.5723 | 363.1447  | 3.031259  |  2        | 0.2196698 | \n",
       "\n",
       "\n"
      ],
      "text/plain": [
       "                       Df AIC      BIC      logLik    deviance Chisq    Chi Df\n",
       "structure_model_nocond 4  374.1759 383.6028 -183.0880 366.1759       NA NA    \n",
       "structure_model        6  375.1447 389.2849 -181.5723 363.1447 3.031259  2    \n",
       "                       Pr(>Chisq)\n",
       "structure_model_nocond        NA \n",
       "structure_model        0.2196698 "
      ]
     },
     "metadata": {},
     "output_type": "display_data"
    },
    {
     "name": "stderr",
     "output_type": "stream",
     "text": [
      "refitting model(s) with ML (instead of REML)\n"
     ]
    },
    {
     "data": {
      "text/html": [
       "<table>\n",
       "<thead><tr><th></th><th scope=col>Df</th><th scope=col>AIC</th><th scope=col>BIC</th><th scope=col>logLik</th><th scope=col>deviance</th><th scope=col>Chisq</th><th scope=col>Chi Df</th><th scope=col>Pr(&gt;Chisq)</th></tr></thead>\n",
       "<tbody>\n",
       "\t<tr><th scope=row>structure_model_noint</th><td>5         </td><td>373.1602  </td><td>384.9437  </td><td>-181.5801 </td><td>363.1602  </td><td>        NA</td><td>NA        </td><td>       NA </td></tr>\n",
       "\t<tr><th scope=row>structure_model</th><td>6         </td><td>375.1447  </td><td>389.2849  </td><td>-181.5723 </td><td>363.1447  </td><td>0.01550894</td><td> 1        </td><td>0.9008918 </td></tr>\n",
       "</tbody>\n",
       "</table>\n"
      ],
      "text/latex": [
       "\\begin{tabular}{r|llllllll}\n",
       "  & Df & AIC & BIC & logLik & deviance & Chisq & Chi Df & Pr(>Chisq)\\\\\n",
       "\\hline\n",
       "\tstructure\\_model\\_noint & 5          & 373.1602   & 384.9437   & -181.5801  & 363.1602   &         NA & NA         &        NA \\\\\n",
       "\tstructure\\_model & 6          & 375.1447   & 389.2849   & -181.5723  & 363.1447   & 0.01550894 &  1         & 0.9008918 \\\\\n",
       "\\end{tabular}\n"
      ],
      "text/markdown": [
       "\n",
       "| <!--/--> | Df | AIC | BIC | logLik | deviance | Chisq | Chi Df | Pr(>Chisq) | \n",
       "|---|---|\n",
       "| structure_model_noint | 5          | 373.1602   | 384.9437   | -181.5801  | 363.1602   |         NA | NA         |        NA  | \n",
       "| structure_model | 6          | 375.1447   | 389.2849   | -181.5723  | 363.1447   | 0.01550894 |  1         | 0.9008918  | \n",
       "\n",
       "\n"
      ],
      "text/plain": [
       "                      Df AIC      BIC      logLik    deviance Chisq      Chi Df\n",
       "structure_model_noint 5  373.1602 384.9437 -181.5801 363.1602         NA NA    \n",
       "structure_model       6  375.1447 389.2849 -181.5723 363.1447 0.01550894  1    \n",
       "                      Pr(>Chisq)\n",
       "structure_model_noint        NA \n",
       "structure_model       0.9008918 "
      ]
     },
     "metadata": {},
     "output_type": "display_data"
    }
   ],
   "source": [
    "structure_model <- lmer(structure ~ generation*condition + (1|chain), data=subset(structure, generation>0))\n",
    "summary(structure_model)\n",
    "\n",
    "structure_model_nogen <- lmer(structure ~ condition + (1|chain), data=subset(structure, generation>0))\n",
    "structure_model_nocond <- lmer(structure ~ generation + (1|chain), data=subset(structure, generation>0))\n",
    "structure_model_noint <- lmer(structure ~ generation + condition + (1|chain), data=subset(structure, generation>0))\n",
    "\n",
    "anova(structure_model, structure_model_nogen)\n",
    "anova(structure_model, structure_model_nocond)\n",
    "anova(structure_model, structure_model_noint)"
   ]
  },
  {
   "cell_type": "code",
   "execution_count": null,
   "metadata": {},
   "outputs": [],
   "source": []
  }
 ],
 "metadata": {
  "kernelspec": {
   "display_name": "R",
   "language": "R",
   "name": "ir"
  },
  "language_info": {
   "codemirror_mode": "r",
   "file_extension": ".r",
   "mimetype": "text/x-r-source",
   "name": "R",
   "pygments_lexer": "r",
   "version": "3.4.1"
  }
 },
 "nbformat": 4,
 "nbformat_minor": 2
}
