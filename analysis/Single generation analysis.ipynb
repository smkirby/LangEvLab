{
 "cells": [
  {
   "cell_type": "markdown",
   "metadata": {},
   "source": [
    "# Error and structure for a generation from Kirby, Cornish & Smith (2008)\n",
    "\n",
    "This notebook works out *error* and *structure* for an example generation in the KCS paper. It assumes there is a CSV file called `language.csv` that has the language we're calculating structure on, and a file `languages.csv` that has the *two* languages (input and output essentially) that we're calculating the error on. You'll need to make sure you get your input files in the right format to run these measures on."
   ]
  },
  {
   "cell_type": "markdown",
   "metadata": {},
   "source": [
    "## Setup\n",
    "\n",
    "First load three packages (and install them if necessary). `stringdist`, which has various measures of string distance (we'll be using levenshtein string edit distance), `vegan`, which allows us to use the Mantel test to compute the significance of a correlation of two sets of distances between points (here, the \"points\" are meanings on the one hand, and signals on the other), and `ggplot2` to plot the graphs."
   ]
  },
  {
   "cell_type": "code",
   "execution_count": 14,
   "metadata": {},
   "outputs": [],
   "source": [
    "if (!require(vegan)) {install.packages(\"vegan\"); library(vegan)}\n",
    "if (!require(stringdist)) {install.packages(\"stringdist\"); library(stringdist)}\n",
    "if (!require(ggplot2)) {install.packages(\"ggplot2\"); library(ggplot2)}"
   ]
  },
  {
   "cell_type": "markdown",
   "metadata": {},
   "source": [
    "## Calculating error\n",
    "\n",
    "First let's calculate the error between an input language and an output language. The spreadsheet needs two columns of strings only, one headed `input` the other `output`."
   ]
  },
  {
   "cell_type": "code",
   "execution_count": 15,
   "metadata": {},
   "outputs": [
    {
     "data": {
      "text/html": [
       "<table>\n",
       "<thead><tr><th scope=col>input</th><th scope=col>output</th></tr></thead>\n",
       "<tbody>\n",
       "\t<tr><td>rehopilu</td><td>rehepilu</td></tr>\n",
       "\t<tr><td>laneplo </td><td>laneplo </td></tr>\n",
       "\t<tr><td>lahoplo </td><td>lareplo </td></tr>\n",
       "\t<tr><td>nepilu  </td><td>nerepilu</td></tr>\n",
       "\t<tr><td>renana  </td><td>renana  </td></tr>\n",
       "\t<tr><td>rahoplo </td><td>rekiplo </td></tr>\n",
       "\t<tr><td>reneki  </td><td>reneki  </td></tr>\n",
       "\t<tr><td>replo   </td><td>reneplo </td></tr>\n",
       "\t<tr><td>lakeki  </td><td>lakiki  </td></tr>\n",
       "\t<tr><td>nereki  </td><td>nereki  </td></tr>\n",
       "\t<tr><td>lanepilu</td><td>lanepilu</td></tr>\n",
       "\t<tr><td>neheki  </td><td>faneki  </td></tr>\n",
       "\t<tr><td>nehoplo </td><td>reneplo </td></tr>\n",
       "\t<tr><td>lakiplo </td><td>lakiplo </td></tr>\n",
       "\t<tr><td>lahoki  </td><td>lareki  </td></tr>\n",
       "\t<tr><td>raheki  </td><td>rekiki  </td></tr>\n",
       "\t<tr><td>repilu  </td><td>renepilu</td></tr>\n",
       "\t<tr><td>nekiplo </td><td>nekiplo </td></tr>\n",
       "\t<tr><td>nekeki  </td><td>lakaki  </td></tr>\n",
       "\t<tr><td>rehoplo </td><td>reneplo </td></tr>\n",
       "\t<tr><td>nehopilu</td><td>renepilu</td></tr>\n",
       "\t<tr><td>lakipilu</td><td>lakipilu</td></tr>\n",
       "\t<tr><td>rahopilu</td><td>rekipilu</td></tr>\n",
       "\t<tr><td>lereki  </td><td>laneki  </td></tr>\n",
       "\t<tr><td>nekipilu</td><td>lakipilu</td></tr>\n",
       "\t<tr><td>lahopilu</td><td>larepilu</td></tr>\n",
       "\t<tr><td>nereplo </td><td>nereplo </td></tr>\n",
       "</tbody>\n",
       "</table>\n"
      ],
      "text/latex": [
       "\\begin{tabular}{r|ll}\n",
       " input & output\\\\\n",
       "\\hline\n",
       "\t rehopilu & rehepilu\\\\\n",
       "\t laneplo  & laneplo \\\\\n",
       "\t lahoplo  & lareplo \\\\\n",
       "\t nepilu   & nerepilu\\\\\n",
       "\t renana   & renana  \\\\\n",
       "\t rahoplo  & rekiplo \\\\\n",
       "\t reneki   & reneki  \\\\\n",
       "\t replo    & reneplo \\\\\n",
       "\t lakeki   & lakiki  \\\\\n",
       "\t nereki   & nereki  \\\\\n",
       "\t lanepilu & lanepilu\\\\\n",
       "\t neheki   & faneki  \\\\\n",
       "\t nehoplo  & reneplo \\\\\n",
       "\t lakiplo  & lakiplo \\\\\n",
       "\t lahoki   & lareki  \\\\\n",
       "\t raheki   & rekiki  \\\\\n",
       "\t repilu   & renepilu\\\\\n",
       "\t nekiplo  & nekiplo \\\\\n",
       "\t nekeki   & lakaki  \\\\\n",
       "\t rehoplo  & reneplo \\\\\n",
       "\t nehopilu & renepilu\\\\\n",
       "\t lakipilu & lakipilu\\\\\n",
       "\t rahopilu & rekipilu\\\\\n",
       "\t lereki   & laneki  \\\\\n",
       "\t nekipilu & lakipilu\\\\\n",
       "\t lahopilu & larepilu\\\\\n",
       "\t nereplo  & nereplo \\\\\n",
       "\\end{tabular}\n"
      ],
      "text/markdown": [
       "\n",
       "input | output | \n",
       "|---|---|---|---|---|---|---|---|---|---|---|---|---|---|---|---|---|---|---|---|---|---|---|---|---|---|---|\n",
       "| rehopilu | rehepilu | \n",
       "| laneplo  | laneplo  | \n",
       "| lahoplo  | lareplo  | \n",
       "| nepilu   | nerepilu | \n",
       "| renana   | renana   | \n",
       "| rahoplo  | rekiplo  | \n",
       "| reneki   | reneki   | \n",
       "| replo    | reneplo  | \n",
       "| lakeki   | lakiki   | \n",
       "| nereki   | nereki   | \n",
       "| lanepilu | lanepilu | \n",
       "| neheki   | faneki   | \n",
       "| nehoplo  | reneplo  | \n",
       "| lakiplo  | lakiplo  | \n",
       "| lahoki   | lareki   | \n",
       "| raheki   | rekiki   | \n",
       "| repilu   | renepilu | \n",
       "| nekiplo  | nekiplo  | \n",
       "| nekeki   | lakaki   | \n",
       "| rehoplo  | reneplo  | \n",
       "| nehopilu | renepilu | \n",
       "| lakipilu | lakipilu | \n",
       "| rahopilu | rekipilu | \n",
       "| lereki   | laneki   | \n",
       "| nekipilu | lakipilu | \n",
       "| lahopilu | larepilu | \n",
       "| nereplo  | nereplo  | \n",
       "\n",
       "\n"
      ],
      "text/plain": [
       "   input    output  \n",
       "1  rehopilu rehepilu\n",
       "2  laneplo  laneplo \n",
       "3  lahoplo  lareplo \n",
       "4  nepilu   nerepilu\n",
       "5  renana   renana  \n",
       "6  rahoplo  rekiplo \n",
       "7  reneki   reneki  \n",
       "8  replo    reneplo \n",
       "9  lakeki   lakiki  \n",
       "10 nereki   nereki  \n",
       "11 lanepilu lanepilu\n",
       "12 neheki   faneki  \n",
       "13 nehoplo  reneplo \n",
       "14 lakiplo  lakiplo \n",
       "15 lahoki   lareki  \n",
       "16 raheki   rekiki  \n",
       "17 repilu   renepilu\n",
       "18 nekiplo  nekiplo \n",
       "19 nekeki   lakaki  \n",
       "20 rehoplo  reneplo \n",
       "21 nehopilu renepilu\n",
       "22 lakipilu lakipilu\n",
       "23 rahopilu rekipilu\n",
       "24 lereki   laneki  \n",
       "25 nekipilu lakipilu\n",
       "26 lahopilu larepilu\n",
       "27 nereplo  nereplo "
      ]
     },
     "metadata": {},
     "output_type": "display_data"
    }
   ],
   "source": [
    "languages <- read.csv(\"languages.csv\", as.is=TRUE)\n",
    "languages"
   ]
  },
  {
   "cell_type": "markdown",
   "metadata": {},
   "source": [
    "We need the distances between each input string and its corresponding output string, which we're calculating using the levenshtein distance method (how many insertions, deletions or replacements would you need to take you from one string to the other)."
   ]
  },
  {
   "cell_type": "code",
   "execution_count": 16,
   "metadata": {},
   "outputs": [
    {
     "data": {
      "text/html": [
       "<ol class=list-inline>\n",
       "\t<li>1</li>\n",
       "\t<li>0</li>\n",
       "\t<li>2</li>\n",
       "\t<li>2</li>\n",
       "\t<li>0</li>\n",
       "\t<li>3</li>\n",
       "\t<li>0</li>\n",
       "\t<li>2</li>\n",
       "\t<li>1</li>\n",
       "\t<li>0</li>\n",
       "\t<li>0</li>\n",
       "\t<li>3</li>\n",
       "\t<li>3</li>\n",
       "\t<li>0</li>\n",
       "\t<li>2</li>\n",
       "\t<li>3</li>\n",
       "\t<li>2</li>\n",
       "\t<li>0</li>\n",
       "\t<li>3</li>\n",
       "\t<li>2</li>\n",
       "\t<li>3</li>\n",
       "\t<li>0</li>\n",
       "\t<li>3</li>\n",
       "\t<li>2</li>\n",
       "\t<li>2</li>\n",
       "\t<li>2</li>\n",
       "\t<li>0</li>\n",
       "</ol>\n"
      ],
      "text/latex": [
       "\\begin{enumerate*}\n",
       "\\item 1\n",
       "\\item 0\n",
       "\\item 2\n",
       "\\item 2\n",
       "\\item 0\n",
       "\\item 3\n",
       "\\item 0\n",
       "\\item 2\n",
       "\\item 1\n",
       "\\item 0\n",
       "\\item 0\n",
       "\\item 3\n",
       "\\item 3\n",
       "\\item 0\n",
       "\\item 2\n",
       "\\item 3\n",
       "\\item 2\n",
       "\\item 0\n",
       "\\item 3\n",
       "\\item 2\n",
       "\\item 3\n",
       "\\item 0\n",
       "\\item 3\n",
       "\\item 2\n",
       "\\item 2\n",
       "\\item 2\n",
       "\\item 0\n",
       "\\end{enumerate*}\n"
      ],
      "text/markdown": [
       "1. 1\n",
       "2. 0\n",
       "3. 2\n",
       "4. 2\n",
       "5. 0\n",
       "6. 3\n",
       "7. 0\n",
       "8. 2\n",
       "9. 1\n",
       "10. 0\n",
       "11. 0\n",
       "12. 3\n",
       "13. 3\n",
       "14. 0\n",
       "15. 2\n",
       "16. 3\n",
       "17. 2\n",
       "18. 0\n",
       "19. 3\n",
       "20. 2\n",
       "21. 3\n",
       "22. 0\n",
       "23. 3\n",
       "24. 2\n",
       "25. 2\n",
       "26. 2\n",
       "27. 0\n",
       "\n",
       "\n"
      ],
      "text/plain": [
       " [1] 1 0 2 2 0 3 0 2 1 0 0 3 3 0 2 3 2 0 3 2 3 0 3 2 2 2 0"
      ]
     },
     "metadata": {},
     "output_type": "display_data"
    }
   ],
   "source": [
    "distances <- stringdist(languages$input, languages$output, method=\"lv\")\n",
    "distances"
   ]
  },
  {
   "cell_type": "markdown",
   "metadata": {},
   "source": [
    "Now we'll *normalise* this so that the maximum distance is 1. We do this by dividing the edit distance by the number of characters in the longest string."
   ]
  },
  {
   "cell_type": "code",
   "execution_count": 17,
   "metadata": {},
   "outputs": [
    {
     "data": {
      "text/html": [
       "<ol class=list-inline>\n",
       "\t<li>0.125</li>\n",
       "\t<li>0</li>\n",
       "\t<li>0.285714285714286</li>\n",
       "\t<li>0.25</li>\n",
       "\t<li>0</li>\n",
       "\t<li>0.428571428571429</li>\n",
       "\t<li>0</li>\n",
       "\t<li>0.285714285714286</li>\n",
       "\t<li>0.166666666666667</li>\n",
       "\t<li>0</li>\n",
       "\t<li>0</li>\n",
       "\t<li>0.5</li>\n",
       "\t<li>0.428571428571429</li>\n",
       "\t<li>0</li>\n",
       "\t<li>0.333333333333333</li>\n",
       "\t<li>0.5</li>\n",
       "\t<li>0.25</li>\n",
       "\t<li>0</li>\n",
       "\t<li>0.5</li>\n",
       "\t<li>0.285714285714286</li>\n",
       "\t<li>0.375</li>\n",
       "\t<li>0</li>\n",
       "\t<li>0.375</li>\n",
       "\t<li>0.333333333333333</li>\n",
       "\t<li>0.25</li>\n",
       "\t<li>0.25</li>\n",
       "\t<li>0</li>\n",
       "</ol>\n"
      ],
      "text/latex": [
       "\\begin{enumerate*}\n",
       "\\item 0.125\n",
       "\\item 0\n",
       "\\item 0.285714285714286\n",
       "\\item 0.25\n",
       "\\item 0\n",
       "\\item 0.428571428571429\n",
       "\\item 0\n",
       "\\item 0.285714285714286\n",
       "\\item 0.166666666666667\n",
       "\\item 0\n",
       "\\item 0\n",
       "\\item 0.5\n",
       "\\item 0.428571428571429\n",
       "\\item 0\n",
       "\\item 0.333333333333333\n",
       "\\item 0.5\n",
       "\\item 0.25\n",
       "\\item 0\n",
       "\\item 0.5\n",
       "\\item 0.285714285714286\n",
       "\\item 0.375\n",
       "\\item 0\n",
       "\\item 0.375\n",
       "\\item 0.333333333333333\n",
       "\\item 0.25\n",
       "\\item 0.25\n",
       "\\item 0\n",
       "\\end{enumerate*}\n"
      ],
      "text/markdown": [
       "1. 0.125\n",
       "2. 0\n",
       "3. 0.285714285714286\n",
       "4. 0.25\n",
       "5. 0\n",
       "6. 0.428571428571429\n",
       "7. 0\n",
       "8. 0.285714285714286\n",
       "9. 0.166666666666667\n",
       "10. 0\n",
       "11. 0\n",
       "12. 0.5\n",
       "13. 0.428571428571429\n",
       "14. 0\n",
       "15. 0.333333333333333\n",
       "16. 0.5\n",
       "17. 0.25\n",
       "18. 0\n",
       "19. 0.5\n",
       "20. 0.285714285714286\n",
       "21. 0.375\n",
       "22. 0\n",
       "23. 0.375\n",
       "24. 0.333333333333333\n",
       "25. 0.25\n",
       "26. 0.25\n",
       "27. 0\n",
       "\n",
       "\n"
      ],
      "text/plain": [
       " [1] 0.1250000 0.0000000 0.2857143 0.2500000 0.0000000 0.4285714 0.0000000\n",
       " [8] 0.2857143 0.1666667 0.0000000 0.0000000 0.5000000 0.4285714 0.0000000\n",
       "[15] 0.3333333 0.5000000 0.2500000 0.0000000 0.5000000 0.2857143 0.3750000\n",
       "[22] 0.0000000 0.3750000 0.3333333 0.2500000 0.2500000 0.0000000"
      ]
     },
     "metadata": {},
     "output_type": "display_data"
    }
   ],
   "source": [
    "max_lengths <- mapply(max, nchar(languages$input), nchar(languages$output))\n",
    "normalised <- distances / max_lengths\n",
    "normalised"
   ]
  },
  {
   "cell_type": "markdown",
   "metadata": {},
   "source": [
    "The overall error is simply the average of all the errors between input and output."
   ]
  },
  {
   "cell_type": "code",
   "execution_count": 18,
   "metadata": {},
   "outputs": [
    {
     "data": {
      "text/html": [
       "0.219356261022928"
      ],
      "text/latex": [
       "0.219356261022928"
      ],
      "text/markdown": [
       "0.219356261022928"
      ],
      "text/plain": [
       "[1] 0.2193563"
      ]
     },
     "metadata": {},
     "output_type": "display_data"
    }
   ],
   "source": [
    "mean(normalised)"
   ]
  },
  {
   "cell_type": "markdown",
   "metadata": {},
   "source": [
    "## Calculate structure\n",
    "\n",
    "Now our input is a single language, but we need to know not only the signals but also the meanings."
   ]
  },
  {
   "cell_type": "code",
   "execution_count": 19,
   "metadata": {},
   "outputs": [
    {
     "data": {
      "text/html": [
       "<table>\n",
       "<thead><tr><th scope=col>meanings</th><th scope=col>signals</th></tr></thead>\n",
       "<tbody>\n",
       "\t<tr><td>scr     </td><td>rehopilu</td></tr>\n",
       "\t<tr><td>bsb     </td><td>laneplo </td></tr>\n",
       "\t<tr><td>bcb     </td><td>lahoplo </td></tr>\n",
       "\t<tr><td>ssk     </td><td>nepilu  </td></tr>\n",
       "\t<tr><td>hsr     </td><td>renana  </td></tr>\n",
       "\t<tr><td>btr     </td><td>rahoplo </td></tr>\n",
       "\t<tr><td>hcr     </td><td>reneki  </td></tr>\n",
       "\t<tr><td>bsr     </td><td>replo   </td></tr>\n",
       "\t<tr><td>htb     </td><td>lakeki  </td></tr>\n",
       "\t<tr><td>hsk     </td><td>nereki  </td></tr>\n",
       "\t<tr><td>ssb     </td><td>lanepilu</td></tr>\n",
       "\t<tr><td>hck     </td><td>neheki  </td></tr>\n",
       "\t<tr><td>bck     </td><td>nehoplo </td></tr>\n",
       "\t<tr><td>btb     </td><td>lakiplo </td></tr>\n",
       "\t<tr><td>hcb     </td><td>lahoki  </td></tr>\n",
       "\t<tr><td>htr     </td><td>raheki  </td></tr>\n",
       "\t<tr><td>ssr     </td><td>repilu  </td></tr>\n",
       "\t<tr><td>btk     </td><td>nekiplo </td></tr>\n",
       "\t<tr><td>htk     </td><td>nekeki  </td></tr>\n",
       "\t<tr><td>bcr     </td><td>rehoplo </td></tr>\n",
       "\t<tr><td>sck     </td><td>nehopilu</td></tr>\n",
       "\t<tr><td>stb     </td><td>lakipilu</td></tr>\n",
       "\t<tr><td>str     </td><td>rahopilu</td></tr>\n",
       "\t<tr><td>hsb     </td><td>lereki  </td></tr>\n",
       "\t<tr><td>stk     </td><td>nekipilu</td></tr>\n",
       "\t<tr><td>scb     </td><td>lahopilu</td></tr>\n",
       "\t<tr><td>bsk     </td><td>nereplo </td></tr>\n",
       "</tbody>\n",
       "</table>\n"
      ],
      "text/latex": [
       "\\begin{tabular}{r|ll}\n",
       " meanings & signals\\\\\n",
       "\\hline\n",
       "\t scr      & rehopilu\\\\\n",
       "\t bsb      & laneplo \\\\\n",
       "\t bcb      & lahoplo \\\\\n",
       "\t ssk      & nepilu  \\\\\n",
       "\t hsr      & renana  \\\\\n",
       "\t btr      & rahoplo \\\\\n",
       "\t hcr      & reneki  \\\\\n",
       "\t bsr      & replo   \\\\\n",
       "\t htb      & lakeki  \\\\\n",
       "\t hsk      & nereki  \\\\\n",
       "\t ssb      & lanepilu\\\\\n",
       "\t hck      & neheki  \\\\\n",
       "\t bck      & nehoplo \\\\\n",
       "\t btb      & lakiplo \\\\\n",
       "\t hcb      & lahoki  \\\\\n",
       "\t htr      & raheki  \\\\\n",
       "\t ssr      & repilu  \\\\\n",
       "\t btk      & nekiplo \\\\\n",
       "\t htk      & nekeki  \\\\\n",
       "\t bcr      & rehoplo \\\\\n",
       "\t sck      & nehopilu\\\\\n",
       "\t stb      & lakipilu\\\\\n",
       "\t str      & rahopilu\\\\\n",
       "\t hsb      & lereki  \\\\\n",
       "\t stk      & nekipilu\\\\\n",
       "\t scb      & lahopilu\\\\\n",
       "\t bsk      & nereplo \\\\\n",
       "\\end{tabular}\n"
      ],
      "text/markdown": [
       "\n",
       "meanings | signals | \n",
       "|---|---|---|---|---|---|---|---|---|---|---|---|---|---|---|---|---|---|---|---|---|---|---|---|---|---|---|\n",
       "| scr      | rehopilu | \n",
       "| bsb      | laneplo  | \n",
       "| bcb      | lahoplo  | \n",
       "| ssk      | nepilu   | \n",
       "| hsr      | renana   | \n",
       "| btr      | rahoplo  | \n",
       "| hcr      | reneki   | \n",
       "| bsr      | replo    | \n",
       "| htb      | lakeki   | \n",
       "| hsk      | nereki   | \n",
       "| ssb      | lanepilu | \n",
       "| hck      | neheki   | \n",
       "| bck      | nehoplo  | \n",
       "| btb      | lakiplo  | \n",
       "| hcb      | lahoki   | \n",
       "| htr      | raheki   | \n",
       "| ssr      | repilu   | \n",
       "| btk      | nekiplo  | \n",
       "| htk      | nekeki   | \n",
       "| bcr      | rehoplo  | \n",
       "| sck      | nehopilu | \n",
       "| stb      | lakipilu | \n",
       "| str      | rahopilu | \n",
       "| hsb      | lereki   | \n",
       "| stk      | nekipilu | \n",
       "| scb      | lahopilu | \n",
       "| bsk      | nereplo  | \n",
       "\n",
       "\n"
      ],
      "text/plain": [
       "   meanings signals \n",
       "1  scr      rehopilu\n",
       "2  bsb      laneplo \n",
       "3  bcb      lahoplo \n",
       "4  ssk      nepilu  \n",
       "5  hsr      renana  \n",
       "6  btr      rahoplo \n",
       "7  hcr      reneki  \n",
       "8  bsr      replo   \n",
       "9  htb      lakeki  \n",
       "10 hsk      nereki  \n",
       "11 ssb      lanepilu\n",
       "12 hck      neheki  \n",
       "13 bck      nehoplo \n",
       "14 btb      lakiplo \n",
       "15 hcb      lahoki  \n",
       "16 htr      raheki  \n",
       "17 ssr      repilu  \n",
       "18 btk      nekiplo \n",
       "19 htk      nekeki  \n",
       "20 bcr      rehoplo \n",
       "21 sck      nehopilu\n",
       "22 stb      lakipilu\n",
       "23 str      rahopilu\n",
       "24 hsb      lereki  \n",
       "25 stk      nekipilu\n",
       "26 scb      lahopilu\n",
       "27 bsk      nereplo "
      ]
     },
     "metadata": {},
     "output_type": "display_data"
    }
   ],
   "source": [
    "language <- read.csv(\"language.csv\", as.is=TRUE)\n",
    "language"
   ]
  },
  {
   "cell_type": "markdown",
   "metadata": {},
   "source": [
    "We create a meaning distance matrix made up of the distances between pairs of meanings calculated using *hamming distance*. This is simply the number of \"slots\" in the meaning that are different between the pair of meanings. To make this work, you need the `meanings` column of the spreadsheet to be coded in such a way that each meaning is given a code using a single letter."
   ]
  },
  {
   "cell_type": "code",
   "execution_count": 20,
   "metadata": {},
   "outputs": [
    {
     "data": {
      "text/html": [
       "<table>\n",
       "<thead><tr><th></th><th scope=col>1</th><th scope=col>2</th><th scope=col>3</th><th scope=col>4</th><th scope=col>5</th><th scope=col>6</th><th scope=col>7</th><th scope=col>8</th><th scope=col>9</th><th scope=col>10</th><th scope=col>⋯</th><th scope=col>18</th><th scope=col>19</th><th scope=col>20</th><th scope=col>21</th><th scope=col>22</th><th scope=col>23</th><th scope=col>24</th><th scope=col>25</th><th scope=col>26</th><th scope=col>27</th></tr></thead>\n",
       "<tbody>\n",
       "\t<tr><th scope=row>1</th><td>0</td><td>3</td><td>2</td><td>2</td><td>2</td><td>2</td><td>1</td><td>2</td><td>3</td><td>3</td><td>⋯</td><td>3</td><td>3</td><td>1</td><td>1</td><td>2</td><td>1</td><td>3</td><td>2</td><td>1</td><td>3</td></tr>\n",
       "\t<tr><th scope=row>2</th><td>3</td><td>0</td><td>1</td><td>2</td><td>2</td><td>2</td><td>3</td><td>1</td><td>2</td><td>2</td><td>⋯</td><td>2</td><td>3</td><td>2</td><td>3</td><td>2</td><td>3</td><td>1</td><td>3</td><td>2</td><td>1</td></tr>\n",
       "\t<tr><th scope=row>3</th><td>2</td><td>1</td><td>0</td><td>3</td><td>3</td><td>2</td><td>2</td><td>2</td><td>2</td><td>3</td><td>⋯</td><td>2</td><td>3</td><td>1</td><td>2</td><td>2</td><td>3</td><td>2</td><td>3</td><td>1</td><td>2</td></tr>\n",
       "\t<tr><th scope=row>4</th><td>2</td><td>2</td><td>3</td><td>0</td><td>2</td><td>3</td><td>3</td><td>2</td><td>3</td><td>1</td><td>⋯</td><td>2</td><td>2</td><td>3</td><td>1</td><td>2</td><td>2</td><td>2</td><td>1</td><td>2</td><td>1</td></tr>\n",
       "\t<tr><th scope=row>5</th><td>2</td><td>2</td><td>3</td><td>2</td><td>0</td><td>2</td><td>1</td><td>1</td><td>2</td><td>1</td><td>⋯</td><td>3</td><td>2</td><td>2</td><td>3</td><td>3</td><td>2</td><td>1</td><td>3</td><td>3</td><td>2</td></tr>\n",
       "\t<tr><th scope=row>6</th><td>2</td><td>2</td><td>2</td><td>3</td><td>2</td><td>0</td><td>2</td><td>1</td><td>2</td><td>3</td><td>⋯</td><td>1</td><td>2</td><td>1</td><td>3</td><td>2</td><td>1</td><td>3</td><td>2</td><td>3</td><td>2</td></tr>\n",
       "\t<tr><th scope=row>7</th><td>1</td><td>3</td><td>2</td><td>3</td><td>1</td><td>2</td><td>0</td><td>2</td><td>2</td><td>2</td><td>⋯</td><td>3</td><td>2</td><td>1</td><td>2</td><td>3</td><td>2</td><td>2</td><td>3</td><td>2</td><td>3</td></tr>\n",
       "\t<tr><th scope=row>8</th><td>2</td><td>1</td><td>2</td><td>2</td><td>1</td><td>1</td><td>2</td><td>0</td><td>3</td><td>2</td><td>⋯</td><td>2</td><td>3</td><td>1</td><td>3</td><td>3</td><td>2</td><td>2</td><td>3</td><td>3</td><td>1</td></tr>\n",
       "\t<tr><th scope=row>9</th><td>3</td><td>2</td><td>2</td><td>3</td><td>2</td><td>2</td><td>2</td><td>3</td><td>0</td><td>2</td><td>⋯</td><td>2</td><td>1</td><td>3</td><td>3</td><td>1</td><td>2</td><td>1</td><td>2</td><td>2</td><td>3</td></tr>\n",
       "\t<tr><th scope=row>10</th><td>3</td><td>2</td><td>3</td><td>1</td><td>1</td><td>3</td><td>2</td><td>2</td><td>2</td><td>0</td><td>⋯</td><td>2</td><td>1</td><td>3</td><td>2</td><td>3</td><td>3</td><td>1</td><td>2</td><td>3</td><td>1</td></tr>\n",
       "\t<tr><th scope=row>11</th><td>2</td><td>1</td><td>2</td><td>1</td><td>2</td><td>3</td><td>3</td><td>2</td><td>2</td><td>2</td><td>⋯</td><td>3</td><td>3</td><td>3</td><td>2</td><td>1</td><td>2</td><td>1</td><td>2</td><td>1</td><td>2</td></tr>\n",
       "\t<tr><th scope=row>12</th><td>2</td><td>3</td><td>2</td><td>2</td><td>2</td><td>3</td><td>1</td><td>3</td><td>2</td><td>1</td><td>⋯</td><td>2</td><td>1</td><td>2</td><td>1</td><td>3</td><td>3</td><td>2</td><td>2</td><td>2</td><td>2</td></tr>\n",
       "\t<tr><th scope=row>13</th><td>2</td><td>2</td><td>1</td><td>2</td><td>3</td><td>2</td><td>2</td><td>2</td><td>3</td><td>2</td><td>⋯</td><td>1</td><td>2</td><td>1</td><td>1</td><td>3</td><td>3</td><td>3</td><td>2</td><td>2</td><td>1</td></tr>\n",
       "\t<tr><th scope=row>14</th><td>3</td><td>1</td><td>1</td><td>3</td><td>3</td><td>1</td><td>3</td><td>2</td><td>1</td><td>3</td><td>⋯</td><td>1</td><td>2</td><td>2</td><td>3</td><td>1</td><td>2</td><td>2</td><td>2</td><td>2</td><td>2</td></tr>\n",
       "\t<tr><th scope=row>15</th><td>2</td><td>2</td><td>1</td><td>3</td><td>2</td><td>3</td><td>1</td><td>3</td><td>1</td><td>2</td><td>⋯</td><td>3</td><td>2</td><td>2</td><td>2</td><td>2</td><td>3</td><td>1</td><td>3</td><td>1</td><td>3</td></tr>\n",
       "\t<tr><th scope=row>16</th><td>2</td><td>3</td><td>3</td><td>3</td><td>1</td><td>1</td><td>1</td><td>2</td><td>1</td><td>2</td><td>⋯</td><td>2</td><td>1</td><td>2</td><td>3</td><td>2</td><td>1</td><td>2</td><td>2</td><td>3</td><td>3</td></tr>\n",
       "\t<tr><th scope=row>17</th><td>1</td><td>2</td><td>3</td><td>1</td><td>1</td><td>2</td><td>2</td><td>1</td><td>3</td><td>2</td><td>⋯</td><td>3</td><td>3</td><td>2</td><td>2</td><td>2</td><td>1</td><td>2</td><td>2</td><td>2</td><td>2</td></tr>\n",
       "\t<tr><th scope=row>18</th><td>3</td><td>2</td><td>2</td><td>2</td><td>3</td><td>1</td><td>3</td><td>2</td><td>2</td><td>2</td><td>⋯</td><td>0</td><td>1</td><td>2</td><td>2</td><td>2</td><td>2</td><td>3</td><td>1</td><td>3</td><td>1</td></tr>\n",
       "\t<tr><th scope=row>19</th><td>3</td><td>3</td><td>3</td><td>2</td><td>2</td><td>2</td><td>2</td><td>3</td><td>1</td><td>1</td><td>⋯</td><td>1</td><td>0</td><td>3</td><td>2</td><td>2</td><td>2</td><td>2</td><td>1</td><td>3</td><td>2</td></tr>\n",
       "\t<tr><th scope=row>20</th><td>1</td><td>2</td><td>1</td><td>3</td><td>2</td><td>1</td><td>1</td><td>1</td><td>3</td><td>3</td><td>⋯</td><td>2</td><td>3</td><td>0</td><td>2</td><td>3</td><td>2</td><td>3</td><td>3</td><td>2</td><td>2</td></tr>\n",
       "\t<tr><th scope=row>21</th><td>1</td><td>3</td><td>2</td><td>1</td><td>3</td><td>3</td><td>2</td><td>3</td><td>3</td><td>2</td><td>⋯</td><td>2</td><td>2</td><td>2</td><td>0</td><td>2</td><td>2</td><td>3</td><td>1</td><td>1</td><td>2</td></tr>\n",
       "\t<tr><th scope=row>22</th><td>2</td><td>2</td><td>2</td><td>2</td><td>3</td><td>2</td><td>3</td><td>3</td><td>1</td><td>3</td><td>⋯</td><td>2</td><td>2</td><td>3</td><td>2</td><td>0</td><td>1</td><td>2</td><td>1</td><td>1</td><td>3</td></tr>\n",
       "\t<tr><th scope=row>23</th><td>1</td><td>3</td><td>3</td><td>2</td><td>2</td><td>1</td><td>2</td><td>2</td><td>2</td><td>3</td><td>⋯</td><td>2</td><td>2</td><td>2</td><td>2</td><td>1</td><td>0</td><td>3</td><td>1</td><td>2</td><td>3</td></tr>\n",
       "\t<tr><th scope=row>24</th><td>3</td><td>1</td><td>2</td><td>2</td><td>1</td><td>3</td><td>2</td><td>2</td><td>1</td><td>1</td><td>⋯</td><td>3</td><td>2</td><td>3</td><td>3</td><td>2</td><td>3</td><td>0</td><td>3</td><td>2</td><td>2</td></tr>\n",
       "\t<tr><th scope=row>25</th><td>2</td><td>3</td><td>3</td><td>1</td><td>3</td><td>2</td><td>3</td><td>3</td><td>2</td><td>2</td><td>⋯</td><td>1</td><td>1</td><td>3</td><td>1</td><td>1</td><td>1</td><td>3</td><td>0</td><td>2</td><td>2</td></tr>\n",
       "\t<tr><th scope=row>26</th><td>1</td><td>2</td><td>1</td><td>2</td><td>3</td><td>3</td><td>2</td><td>3</td><td>2</td><td>3</td><td>⋯</td><td>3</td><td>3</td><td>2</td><td>1</td><td>1</td><td>2</td><td>2</td><td>2</td><td>0</td><td>3</td></tr>\n",
       "\t<tr><th scope=row>27</th><td>3</td><td>1</td><td>2</td><td>1</td><td>2</td><td>2</td><td>3</td><td>1</td><td>3</td><td>1</td><td>⋯</td><td>1</td><td>2</td><td>2</td><td>2</td><td>3</td><td>3</td><td>2</td><td>2</td><td>3</td><td>0</td></tr>\n",
       "</tbody>\n",
       "</table>\n"
      ],
      "text/latex": [
       "\\begin{tabular}{r|lllllllllllllllllllllllllll}\n",
       "  & 1 & 2 & 3 & 4 & 5 & 6 & 7 & 8 & 9 & 10 & ⋯ & 18 & 19 & 20 & 21 & 22 & 23 & 24 & 25 & 26 & 27\\\\\n",
       "\\hline\n",
       "\t1 & 0 & 3 & 2 & 2 & 2 & 2 & 1 & 2 & 3 & 3 & ⋯ & 3 & 3 & 1 & 1 & 2 & 1 & 3 & 2 & 1 & 3\\\\\n",
       "\t2 & 3 & 0 & 1 & 2 & 2 & 2 & 3 & 1 & 2 & 2 & ⋯ & 2 & 3 & 2 & 3 & 2 & 3 & 1 & 3 & 2 & 1\\\\\n",
       "\t3 & 2 & 1 & 0 & 3 & 3 & 2 & 2 & 2 & 2 & 3 & ⋯ & 2 & 3 & 1 & 2 & 2 & 3 & 2 & 3 & 1 & 2\\\\\n",
       "\t4 & 2 & 2 & 3 & 0 & 2 & 3 & 3 & 2 & 3 & 1 & ⋯ & 2 & 2 & 3 & 1 & 2 & 2 & 2 & 1 & 2 & 1\\\\\n",
       "\t5 & 2 & 2 & 3 & 2 & 0 & 2 & 1 & 1 & 2 & 1 & ⋯ & 3 & 2 & 2 & 3 & 3 & 2 & 1 & 3 & 3 & 2\\\\\n",
       "\t6 & 2 & 2 & 2 & 3 & 2 & 0 & 2 & 1 & 2 & 3 & ⋯ & 1 & 2 & 1 & 3 & 2 & 1 & 3 & 2 & 3 & 2\\\\\n",
       "\t7 & 1 & 3 & 2 & 3 & 1 & 2 & 0 & 2 & 2 & 2 & ⋯ & 3 & 2 & 1 & 2 & 3 & 2 & 2 & 3 & 2 & 3\\\\\n",
       "\t8 & 2 & 1 & 2 & 2 & 1 & 1 & 2 & 0 & 3 & 2 & ⋯ & 2 & 3 & 1 & 3 & 3 & 2 & 2 & 3 & 3 & 1\\\\\n",
       "\t9 & 3 & 2 & 2 & 3 & 2 & 2 & 2 & 3 & 0 & 2 & ⋯ & 2 & 1 & 3 & 3 & 1 & 2 & 1 & 2 & 2 & 3\\\\\n",
       "\t10 & 3 & 2 & 3 & 1 & 1 & 3 & 2 & 2 & 2 & 0 & ⋯ & 2 & 1 & 3 & 2 & 3 & 3 & 1 & 2 & 3 & 1\\\\\n",
       "\t11 & 2 & 1 & 2 & 1 & 2 & 3 & 3 & 2 & 2 & 2 & ⋯ & 3 & 3 & 3 & 2 & 1 & 2 & 1 & 2 & 1 & 2\\\\\n",
       "\t12 & 2 & 3 & 2 & 2 & 2 & 3 & 1 & 3 & 2 & 1 & ⋯ & 2 & 1 & 2 & 1 & 3 & 3 & 2 & 2 & 2 & 2\\\\\n",
       "\t13 & 2 & 2 & 1 & 2 & 3 & 2 & 2 & 2 & 3 & 2 & ⋯ & 1 & 2 & 1 & 1 & 3 & 3 & 3 & 2 & 2 & 1\\\\\n",
       "\t14 & 3 & 1 & 1 & 3 & 3 & 1 & 3 & 2 & 1 & 3 & ⋯ & 1 & 2 & 2 & 3 & 1 & 2 & 2 & 2 & 2 & 2\\\\\n",
       "\t15 & 2 & 2 & 1 & 3 & 2 & 3 & 1 & 3 & 1 & 2 & ⋯ & 3 & 2 & 2 & 2 & 2 & 3 & 1 & 3 & 1 & 3\\\\\n",
       "\t16 & 2 & 3 & 3 & 3 & 1 & 1 & 1 & 2 & 1 & 2 & ⋯ & 2 & 1 & 2 & 3 & 2 & 1 & 2 & 2 & 3 & 3\\\\\n",
       "\t17 & 1 & 2 & 3 & 1 & 1 & 2 & 2 & 1 & 3 & 2 & ⋯ & 3 & 3 & 2 & 2 & 2 & 1 & 2 & 2 & 2 & 2\\\\\n",
       "\t18 & 3 & 2 & 2 & 2 & 3 & 1 & 3 & 2 & 2 & 2 & ⋯ & 0 & 1 & 2 & 2 & 2 & 2 & 3 & 1 & 3 & 1\\\\\n",
       "\t19 & 3 & 3 & 3 & 2 & 2 & 2 & 2 & 3 & 1 & 1 & ⋯ & 1 & 0 & 3 & 2 & 2 & 2 & 2 & 1 & 3 & 2\\\\\n",
       "\t20 & 1 & 2 & 1 & 3 & 2 & 1 & 1 & 1 & 3 & 3 & ⋯ & 2 & 3 & 0 & 2 & 3 & 2 & 3 & 3 & 2 & 2\\\\\n",
       "\t21 & 1 & 3 & 2 & 1 & 3 & 3 & 2 & 3 & 3 & 2 & ⋯ & 2 & 2 & 2 & 0 & 2 & 2 & 3 & 1 & 1 & 2\\\\\n",
       "\t22 & 2 & 2 & 2 & 2 & 3 & 2 & 3 & 3 & 1 & 3 & ⋯ & 2 & 2 & 3 & 2 & 0 & 1 & 2 & 1 & 1 & 3\\\\\n",
       "\t23 & 1 & 3 & 3 & 2 & 2 & 1 & 2 & 2 & 2 & 3 & ⋯ & 2 & 2 & 2 & 2 & 1 & 0 & 3 & 1 & 2 & 3\\\\\n",
       "\t24 & 3 & 1 & 2 & 2 & 1 & 3 & 2 & 2 & 1 & 1 & ⋯ & 3 & 2 & 3 & 3 & 2 & 3 & 0 & 3 & 2 & 2\\\\\n",
       "\t25 & 2 & 3 & 3 & 1 & 3 & 2 & 3 & 3 & 2 & 2 & ⋯ & 1 & 1 & 3 & 1 & 1 & 1 & 3 & 0 & 2 & 2\\\\\n",
       "\t26 & 1 & 2 & 1 & 2 & 3 & 3 & 2 & 3 & 2 & 3 & ⋯ & 3 & 3 & 2 & 1 & 1 & 2 & 2 & 2 & 0 & 3\\\\\n",
       "\t27 & 3 & 1 & 2 & 1 & 2 & 2 & 3 & 1 & 3 & 1 & ⋯ & 1 & 2 & 2 & 2 & 3 & 3 & 2 & 2 & 3 & 0\\\\\n",
       "\\end{tabular}\n"
      ],
      "text/markdown": [
       "\n",
       "| <!--/--> | 1 | 2 | 3 | 4 | 5 | 6 | 7 | 8 | 9 | 10 | ⋯ | 18 | 19 | 20 | 21 | 22 | 23 | 24 | 25 | 26 | 27 | \n",
       "|---|---|---|---|---|---|---|---|---|---|---|---|---|---|---|---|---|---|---|---|---|---|---|---|---|---|---|\n",
       "| 1 | 0 | 3 | 2 | 2 | 2 | 2 | 1 | 2 | 3 | 3 | ⋯ | 3 | 3 | 1 | 1 | 2 | 1 | 3 | 2 | 1 | 3 | \n",
       "| 2 | 3 | 0 | 1 | 2 | 2 | 2 | 3 | 1 | 2 | 2 | ⋯ | 2 | 3 | 2 | 3 | 2 | 3 | 1 | 3 | 2 | 1 | \n",
       "| 3 | 2 | 1 | 0 | 3 | 3 | 2 | 2 | 2 | 2 | 3 | ⋯ | 2 | 3 | 1 | 2 | 2 | 3 | 2 | 3 | 1 | 2 | \n",
       "| 4 | 2 | 2 | 3 | 0 | 2 | 3 | 3 | 2 | 3 | 1 | ⋯ | 2 | 2 | 3 | 1 | 2 | 2 | 2 | 1 | 2 | 1 | \n",
       "| 5 | 2 | 2 | 3 | 2 | 0 | 2 | 1 | 1 | 2 | 1 | ⋯ | 3 | 2 | 2 | 3 | 3 | 2 | 1 | 3 | 3 | 2 | \n",
       "| 6 | 2 | 2 | 2 | 3 | 2 | 0 | 2 | 1 | 2 | 3 | ⋯ | 1 | 2 | 1 | 3 | 2 | 1 | 3 | 2 | 3 | 2 | \n",
       "| 7 | 1 | 3 | 2 | 3 | 1 | 2 | 0 | 2 | 2 | 2 | ⋯ | 3 | 2 | 1 | 2 | 3 | 2 | 2 | 3 | 2 | 3 | \n",
       "| 8 | 2 | 1 | 2 | 2 | 1 | 1 | 2 | 0 | 3 | 2 | ⋯ | 2 | 3 | 1 | 3 | 3 | 2 | 2 | 3 | 3 | 1 | \n",
       "| 9 | 3 | 2 | 2 | 3 | 2 | 2 | 2 | 3 | 0 | 2 | ⋯ | 2 | 1 | 3 | 3 | 1 | 2 | 1 | 2 | 2 | 3 | \n",
       "| 10 | 3 | 2 | 3 | 1 | 1 | 3 | 2 | 2 | 2 | 0 | ⋯ | 2 | 1 | 3 | 2 | 3 | 3 | 1 | 2 | 3 | 1 | \n",
       "| 11 | 2 | 1 | 2 | 1 | 2 | 3 | 3 | 2 | 2 | 2 | ⋯ | 3 | 3 | 3 | 2 | 1 | 2 | 1 | 2 | 1 | 2 | \n",
       "| 12 | 2 | 3 | 2 | 2 | 2 | 3 | 1 | 3 | 2 | 1 | ⋯ | 2 | 1 | 2 | 1 | 3 | 3 | 2 | 2 | 2 | 2 | \n",
       "| 13 | 2 | 2 | 1 | 2 | 3 | 2 | 2 | 2 | 3 | 2 | ⋯ | 1 | 2 | 1 | 1 | 3 | 3 | 3 | 2 | 2 | 1 | \n",
       "| 14 | 3 | 1 | 1 | 3 | 3 | 1 | 3 | 2 | 1 | 3 | ⋯ | 1 | 2 | 2 | 3 | 1 | 2 | 2 | 2 | 2 | 2 | \n",
       "| 15 | 2 | 2 | 1 | 3 | 2 | 3 | 1 | 3 | 1 | 2 | ⋯ | 3 | 2 | 2 | 2 | 2 | 3 | 1 | 3 | 1 | 3 | \n",
       "| 16 | 2 | 3 | 3 | 3 | 1 | 1 | 1 | 2 | 1 | 2 | ⋯ | 2 | 1 | 2 | 3 | 2 | 1 | 2 | 2 | 3 | 3 | \n",
       "| 17 | 1 | 2 | 3 | 1 | 1 | 2 | 2 | 1 | 3 | 2 | ⋯ | 3 | 3 | 2 | 2 | 2 | 1 | 2 | 2 | 2 | 2 | \n",
       "| 18 | 3 | 2 | 2 | 2 | 3 | 1 | 3 | 2 | 2 | 2 | ⋯ | 0 | 1 | 2 | 2 | 2 | 2 | 3 | 1 | 3 | 1 | \n",
       "| 19 | 3 | 3 | 3 | 2 | 2 | 2 | 2 | 3 | 1 | 1 | ⋯ | 1 | 0 | 3 | 2 | 2 | 2 | 2 | 1 | 3 | 2 | \n",
       "| 20 | 1 | 2 | 1 | 3 | 2 | 1 | 1 | 1 | 3 | 3 | ⋯ | 2 | 3 | 0 | 2 | 3 | 2 | 3 | 3 | 2 | 2 | \n",
       "| 21 | 1 | 3 | 2 | 1 | 3 | 3 | 2 | 3 | 3 | 2 | ⋯ | 2 | 2 | 2 | 0 | 2 | 2 | 3 | 1 | 1 | 2 | \n",
       "| 22 | 2 | 2 | 2 | 2 | 3 | 2 | 3 | 3 | 1 | 3 | ⋯ | 2 | 2 | 3 | 2 | 0 | 1 | 2 | 1 | 1 | 3 | \n",
       "| 23 | 1 | 3 | 3 | 2 | 2 | 1 | 2 | 2 | 2 | 3 | ⋯ | 2 | 2 | 2 | 2 | 1 | 0 | 3 | 1 | 2 | 3 | \n",
       "| 24 | 3 | 1 | 2 | 2 | 1 | 3 | 2 | 2 | 1 | 1 | ⋯ | 3 | 2 | 3 | 3 | 2 | 3 | 0 | 3 | 2 | 2 | \n",
       "| 25 | 2 | 3 | 3 | 1 | 3 | 2 | 3 | 3 | 2 | 2 | ⋯ | 1 | 1 | 3 | 1 | 1 | 1 | 3 | 0 | 2 | 2 | \n",
       "| 26 | 1 | 2 | 1 | 2 | 3 | 3 | 2 | 3 | 2 | 3 | ⋯ | 3 | 3 | 2 | 1 | 1 | 2 | 2 | 2 | 0 | 3 | \n",
       "| 27 | 3 | 1 | 2 | 1 | 2 | 2 | 3 | 1 | 3 | 1 | ⋯ | 1 | 2 | 2 | 2 | 3 | 3 | 2 | 2 | 3 | 0 | \n",
       "\n",
       "\n"
      ],
      "text/plain": [
       "   1 2 3 4 5 6 7 8 9 10 ⋯ 18 19 20 21 22 23 24 25 26 27\n",
       "1  0 3 2 2 2 2 1 2 3 3  ⋯ 3  3  1  1  2  1  3  2  1  3 \n",
       "2  3 0 1 2 2 2 3 1 2 2  ⋯ 2  3  2  3  2  3  1  3  2  1 \n",
       "3  2 1 0 3 3 2 2 2 2 3  ⋯ 2  3  1  2  2  3  2  3  1  2 \n",
       "4  2 2 3 0 2 3 3 2 3 1  ⋯ 2  2  3  1  2  2  2  1  2  1 \n",
       "5  2 2 3 2 0 2 1 1 2 1  ⋯ 3  2  2  3  3  2  1  3  3  2 \n",
       "6  2 2 2 3 2 0 2 1 2 3  ⋯ 1  2  1  3  2  1  3  2  3  2 \n",
       "7  1 3 2 3 1 2 0 2 2 2  ⋯ 3  2  1  2  3  2  2  3  2  3 \n",
       "8  2 1 2 2 1 1 2 0 3 2  ⋯ 2  3  1  3  3  2  2  3  3  1 \n",
       "9  3 2 2 3 2 2 2 3 0 2  ⋯ 2  1  3  3  1  2  1  2  2  3 \n",
       "10 3 2 3 1 1 3 2 2 2 0  ⋯ 2  1  3  2  3  3  1  2  3  1 \n",
       "11 2 1 2 1 2 3 3 2 2 2  ⋯ 3  3  3  2  1  2  1  2  1  2 \n",
       "12 2 3 2 2 2 3 1 3 2 1  ⋯ 2  1  2  1  3  3  2  2  2  2 \n",
       "13 2 2 1 2 3 2 2 2 3 2  ⋯ 1  2  1  1  3  3  3  2  2  1 \n",
       "14 3 1 1 3 3 1 3 2 1 3  ⋯ 1  2  2  3  1  2  2  2  2  2 \n",
       "15 2 2 1 3 2 3 1 3 1 2  ⋯ 3  2  2  2  2  3  1  3  1  3 \n",
       "16 2 3 3 3 1 1 1 2 1 2  ⋯ 2  1  2  3  2  1  2  2  3  3 \n",
       "17 1 2 3 1 1 2 2 1 3 2  ⋯ 3  3  2  2  2  1  2  2  2  2 \n",
       "18 3 2 2 2 3 1 3 2 2 2  ⋯ 0  1  2  2  2  2  3  1  3  1 \n",
       "19 3 3 3 2 2 2 2 3 1 1  ⋯ 1  0  3  2  2  2  2  1  3  2 \n",
       "20 1 2 1 3 2 1 1 1 3 3  ⋯ 2  3  0  2  3  2  3  3  2  2 \n",
       "21 1 3 2 1 3 3 2 3 3 2  ⋯ 2  2  2  0  2  2  3  1  1  2 \n",
       "22 2 2 2 2 3 2 3 3 1 3  ⋯ 2  2  3  2  0  1  2  1  1  3 \n",
       "23 1 3 3 2 2 1 2 2 2 3  ⋯ 2  2  2  2  1  0  3  1  2  3 \n",
       "24 3 1 2 2 1 3 2 2 1 1  ⋯ 3  2  3  3  2  3  0  3  2  2 \n",
       "25 2 3 3 1 3 2 3 3 2 2  ⋯ 1  1  3  1  1  1  3  0  2  2 \n",
       "26 1 2 1 2 3 3 2 3 2 3  ⋯ 3  3  2  1  1  2  2  2  0  3 \n",
       "27 3 1 2 1 2 2 3 1 3 1  ⋯ 1  2  2  2  3  3  2  2  3  0 "
      ]
     },
     "metadata": {},
     "output_type": "display_data"
    }
   ],
   "source": [
    "meaning_dists <- as.matrix(stringdistmatrix(language$meanings, method=\"hamming\"))\n",
    "meaning_dists"
   ]
  },
  {
   "cell_type": "markdown",
   "metadata": {},
   "source": [
    "Now we do the same for all pairs of signals within the language, but using our levenshtein distance as before."
   ]
  },
  {
   "cell_type": "code",
   "execution_count": 21,
   "metadata": {},
   "outputs": [
    {
     "data": {
      "text/html": [
       "<table>\n",
       "<thead><tr><th></th><th scope=col>1</th><th scope=col>2</th><th scope=col>3</th><th scope=col>4</th><th scope=col>5</th><th scope=col>6</th><th scope=col>7</th><th scope=col>8</th><th scope=col>9</th><th scope=col>10</th><th scope=col>⋯</th><th scope=col>18</th><th scope=col>19</th><th scope=col>20</th><th scope=col>21</th><th scope=col>22</th><th scope=col>23</th><th scope=col>24</th><th scope=col>25</th><th scope=col>26</th><th scope=col>27</th></tr></thead>\n",
       "<tbody>\n",
       "\t<tr><th scope=row>1</th><td>0</td><td>6</td><td>4</td><td>3</td><td>6</td><td>3</td><td>5</td><td>4</td><td>7</td><td>6</td><td>⋯</td><td>5</td><td>6</td><td>2</td><td>1</td><td>4</td><td>1</td><td>6</td><td>3</td><td>2</td><td>5</td></tr>\n",
       "\t<tr><th scope=row>2</th><td>6</td><td>0</td><td>2</td><td>4</td><td>6</td><td>3</td><td>5</td><td>3</td><td>4</td><td>6</td><td>⋯</td><td>4</td><td>6</td><td>4</td><td>6</td><td>4</td><td>5</td><td>5</td><td>6</td><td>4</td><td>3</td></tr>\n",
       "\t<tr><th scope=row>3</th><td>4</td><td>2</td><td>0</td><td>6</td><td>7</td><td>1</td><td>7</td><td>4</td><td>5</td><td>7</td><td>⋯</td><td>4</td><td>7</td><td>2</td><td>4</td><td>4</td><td>3</td><td>6</td><td>6</td><td>2</td><td>4</td></tr>\n",
       "\t<tr><th scope=row>4</th><td>3</td><td>4</td><td>6</td><td>0</td><td>5</td><td>6</td><td>5</td><td>3</td><td>6</td><td>4</td><td>⋯</td><td>3</td><td>4</td><td>5</td><td>2</td><td>4</td><td>4</td><td>5</td><td>2</td><td>4</td><td>4</td></tr>\n",
       "\t<tr><th scope=row>5</th><td>6</td><td>6</td><td>7</td><td>5</td><td>0</td><td>6</td><td>3</td><td>4</td><td>6</td><td>5</td><td>⋯</td><td>6</td><td>5</td><td>5</td><td>7</td><td>8</td><td>7</td><td>5</td><td>7</td><td>8</td><td>6</td></tr>\n",
       "\t<tr><th scope=row>6</th><td>3</td><td>3</td><td>1</td><td>6</td><td>6</td><td>0</td><td>6</td><td>3</td><td>6</td><td>7</td><td>⋯</td><td>4</td><td>7</td><td>1</td><td>4</td><td>5</td><td>2</td><td>7</td><td>6</td><td>3</td><td>4</td></tr>\n",
       "\t<tr><th scope=row>7</th><td>5</td><td>5</td><td>7</td><td>5</td><td>3</td><td>6</td><td>0</td><td>4</td><td>3</td><td>2</td><td>⋯</td><td>5</td><td>2</td><td>5</td><td>6</td><td>7</td><td>6</td><td>2</td><td>6</td><td>7</td><td>5</td></tr>\n",
       "\t<tr><th scope=row>8</th><td>4</td><td>3</td><td>4</td><td>3</td><td>4</td><td>3</td><td>4</td><td>0</td><td>6</td><td>5</td><td>⋯</td><td>3</td><td>5</td><td>2</td><td>5</td><td>6</td><td>5</td><td>5</td><td>5</td><td>6</td><td>2</td></tr>\n",
       "\t<tr><th scope=row>9</th><td>7</td><td>4</td><td>5</td><td>6</td><td>6</td><td>6</td><td>3</td><td>6</td><td>0</td><td>3</td><td>⋯</td><td>6</td><td>2</td><td>7</td><td>7</td><td>4</td><td>6</td><td>2</td><td>6</td><td>5</td><td>6</td></tr>\n",
       "\t<tr><th scope=row>10</th><td>6</td><td>6</td><td>7</td><td>4</td><td>5</td><td>7</td><td>2</td><td>5</td><td>3</td><td>0</td><td>⋯</td><td>5</td><td>1</td><td>6</td><td>5</td><td>7</td><td>7</td><td>1</td><td>5</td><td>7</td><td>3</td></tr>\n",
       "\t<tr><th scope=row>11</th><td>4</td><td>2</td><td>4</td><td>2</td><td>7</td><td>5</td><td>5</td><td>5</td><td>4</td><td>6</td><td>⋯</td><td>5</td><td>6</td><td>6</td><td>4</td><td>2</td><td>3</td><td>5</td><td>4</td><td>2</td><td>5</td></tr>\n",
       "\t<tr><th scope=row>12</th><td>5</td><td>6</td><td>6</td><td>4</td><td>5</td><td>6</td><td>2</td><td>5</td><td>3</td><td>1</td><td>⋯</td><td>5</td><td>1</td><td>5</td><td>4</td><td>7</td><td>6</td><td>2</td><td>5</td><td>6</td><td>4</td></tr>\n",
       "\t<tr><th scope=row>13</th><td>3</td><td>4</td><td>2</td><td>4</td><td>6</td><td>2</td><td>6</td><td>3</td><td>7</td><td>5</td><td>⋯</td><td>2</td><td>5</td><td>1</td><td>2</td><td>6</td><td>4</td><td>6</td><td>4</td><td>4</td><td>2</td></tr>\n",
       "\t<tr><th scope=row>14</th><td>6</td><td>2</td><td>2</td><td>5</td><td>7</td><td>3</td><td>7</td><td>4</td><td>4</td><td>7</td><td>⋯</td><td>2</td><td>6</td><td>4</td><td>6</td><td>2</td><td>5</td><td>6</td><td>4</td><td>4</td><td>4</td></tr>\n",
       "\t<tr><th scope=row>15</th><td>5</td><td>5</td><td>3</td><td>6</td><td>6</td><td>4</td><td>4</td><td>6</td><td>2</td><td>4</td><td>⋯</td><td>7</td><td>4</td><td>5</td><td>5</td><td>5</td><td>4</td><td>3</td><td>7</td><td>3</td><td>7</td></tr>\n",
       "\t<tr><th scope=row>16</th><td>5</td><td>5</td><td>5</td><td>6</td><td>5</td><td>4</td><td>2</td><td>5</td><td>2</td><td>3</td><td>⋯</td><td>6</td><td>3</td><td>5</td><td>6</td><td>6</td><td>4</td><td>3</td><td>7</td><td>5</td><td>6</td></tr>\n",
       "\t<tr><th scope=row>17</th><td>2</td><td>5</td><td>6</td><td>1</td><td>4</td><td>5</td><td>4</td><td>2</td><td>6</td><td>5</td><td>⋯</td><td>4</td><td>5</td><td>4</td><td>3</td><td>4</td><td>3</td><td>5</td><td>3</td><td>4</td><td>4</td></tr>\n",
       "\t<tr><th scope=row>18</th><td>5</td><td>4</td><td>4</td><td>3</td><td>6</td><td>4</td><td>5</td><td>3</td><td>6</td><td>5</td><td>⋯</td><td>0</td><td>4</td><td>3</td><td>4</td><td>4</td><td>6</td><td>6</td><td>2</td><td>6</td><td>2</td></tr>\n",
       "\t<tr><th scope=row>19</th><td>6</td><td>6</td><td>7</td><td>4</td><td>5</td><td>7</td><td>2</td><td>5</td><td>2</td><td>1</td><td>⋯</td><td>4</td><td>0</td><td>6</td><td>5</td><td>6</td><td>7</td><td>2</td><td>4</td><td>7</td><td>4</td></tr>\n",
       "\t<tr><th scope=row>20</th><td>2</td><td>4</td><td>2</td><td>5</td><td>5</td><td>1</td><td>5</td><td>2</td><td>7</td><td>6</td><td>⋯</td><td>3</td><td>6</td><td>0</td><td>3</td><td>6</td><td>3</td><td>6</td><td>5</td><td>4</td><td>3</td></tr>\n",
       "\t<tr><th scope=row>21</th><td>1</td><td>6</td><td>4</td><td>2</td><td>7</td><td>4</td><td>6</td><td>5</td><td>7</td><td>5</td><td>⋯</td><td>4</td><td>5</td><td>3</td><td>0</td><td>4</td><td>2</td><td>6</td><td>2</td><td>2</td><td>4</td></tr>\n",
       "\t<tr><th scope=row>22</th><td>4</td><td>4</td><td>4</td><td>4</td><td>8</td><td>5</td><td>7</td><td>6</td><td>4</td><td>7</td><td>⋯</td><td>4</td><td>6</td><td>6</td><td>4</td><td>0</td><td>3</td><td>6</td><td>2</td><td>2</td><td>6</td></tr>\n",
       "\t<tr><th scope=row>23</th><td>1</td><td>5</td><td>3</td><td>4</td><td>7</td><td>2</td><td>6</td><td>5</td><td>6</td><td>7</td><td>⋯</td><td>6</td><td>7</td><td>3</td><td>2</td><td>3</td><td>0</td><td>7</td><td>4</td><td>1</td><td>6</td></tr>\n",
       "\t<tr><th scope=row>24</th><td>6</td><td>5</td><td>6</td><td>5</td><td>5</td><td>7</td><td>2</td><td>5</td><td>2</td><td>1</td><td>⋯</td><td>6</td><td>2</td><td>6</td><td>6</td><td>6</td><td>7</td><td>0</td><td>6</td><td>6</td><td>4</td></tr>\n",
       "\t<tr><th scope=row>25</th><td>3</td><td>6</td><td>6</td><td>2</td><td>7</td><td>6</td><td>6</td><td>5</td><td>6</td><td>5</td><td>⋯</td><td>2</td><td>4</td><td>5</td><td>2</td><td>2</td><td>4</td><td>6</td><td>0</td><td>4</td><td>4</td></tr>\n",
       "\t<tr><th scope=row>26</th><td>2</td><td>4</td><td>2</td><td>4</td><td>8</td><td>3</td><td>7</td><td>6</td><td>5</td><td>7</td><td>⋯</td><td>6</td><td>7</td><td>4</td><td>2</td><td>2</td><td>1</td><td>6</td><td>4</td><td>0</td><td>6</td></tr>\n",
       "\t<tr><th scope=row>27</th><td>5</td><td>3</td><td>4</td><td>4</td><td>6</td><td>4</td><td>5</td><td>2</td><td>6</td><td>3</td><td>⋯</td><td>2</td><td>4</td><td>3</td><td>4</td><td>6</td><td>6</td><td>4</td><td>4</td><td>6</td><td>0</td></tr>\n",
       "</tbody>\n",
       "</table>\n"
      ],
      "text/latex": [
       "\\begin{tabular}{r|lllllllllllllllllllllllllll}\n",
       "  & 1 & 2 & 3 & 4 & 5 & 6 & 7 & 8 & 9 & 10 & ⋯ & 18 & 19 & 20 & 21 & 22 & 23 & 24 & 25 & 26 & 27\\\\\n",
       "\\hline\n",
       "\t1 & 0 & 6 & 4 & 3 & 6 & 3 & 5 & 4 & 7 & 6 & ⋯ & 5 & 6 & 2 & 1 & 4 & 1 & 6 & 3 & 2 & 5\\\\\n",
       "\t2 & 6 & 0 & 2 & 4 & 6 & 3 & 5 & 3 & 4 & 6 & ⋯ & 4 & 6 & 4 & 6 & 4 & 5 & 5 & 6 & 4 & 3\\\\\n",
       "\t3 & 4 & 2 & 0 & 6 & 7 & 1 & 7 & 4 & 5 & 7 & ⋯ & 4 & 7 & 2 & 4 & 4 & 3 & 6 & 6 & 2 & 4\\\\\n",
       "\t4 & 3 & 4 & 6 & 0 & 5 & 6 & 5 & 3 & 6 & 4 & ⋯ & 3 & 4 & 5 & 2 & 4 & 4 & 5 & 2 & 4 & 4\\\\\n",
       "\t5 & 6 & 6 & 7 & 5 & 0 & 6 & 3 & 4 & 6 & 5 & ⋯ & 6 & 5 & 5 & 7 & 8 & 7 & 5 & 7 & 8 & 6\\\\\n",
       "\t6 & 3 & 3 & 1 & 6 & 6 & 0 & 6 & 3 & 6 & 7 & ⋯ & 4 & 7 & 1 & 4 & 5 & 2 & 7 & 6 & 3 & 4\\\\\n",
       "\t7 & 5 & 5 & 7 & 5 & 3 & 6 & 0 & 4 & 3 & 2 & ⋯ & 5 & 2 & 5 & 6 & 7 & 6 & 2 & 6 & 7 & 5\\\\\n",
       "\t8 & 4 & 3 & 4 & 3 & 4 & 3 & 4 & 0 & 6 & 5 & ⋯ & 3 & 5 & 2 & 5 & 6 & 5 & 5 & 5 & 6 & 2\\\\\n",
       "\t9 & 7 & 4 & 5 & 6 & 6 & 6 & 3 & 6 & 0 & 3 & ⋯ & 6 & 2 & 7 & 7 & 4 & 6 & 2 & 6 & 5 & 6\\\\\n",
       "\t10 & 6 & 6 & 7 & 4 & 5 & 7 & 2 & 5 & 3 & 0 & ⋯ & 5 & 1 & 6 & 5 & 7 & 7 & 1 & 5 & 7 & 3\\\\\n",
       "\t11 & 4 & 2 & 4 & 2 & 7 & 5 & 5 & 5 & 4 & 6 & ⋯ & 5 & 6 & 6 & 4 & 2 & 3 & 5 & 4 & 2 & 5\\\\\n",
       "\t12 & 5 & 6 & 6 & 4 & 5 & 6 & 2 & 5 & 3 & 1 & ⋯ & 5 & 1 & 5 & 4 & 7 & 6 & 2 & 5 & 6 & 4\\\\\n",
       "\t13 & 3 & 4 & 2 & 4 & 6 & 2 & 6 & 3 & 7 & 5 & ⋯ & 2 & 5 & 1 & 2 & 6 & 4 & 6 & 4 & 4 & 2\\\\\n",
       "\t14 & 6 & 2 & 2 & 5 & 7 & 3 & 7 & 4 & 4 & 7 & ⋯ & 2 & 6 & 4 & 6 & 2 & 5 & 6 & 4 & 4 & 4\\\\\n",
       "\t15 & 5 & 5 & 3 & 6 & 6 & 4 & 4 & 6 & 2 & 4 & ⋯ & 7 & 4 & 5 & 5 & 5 & 4 & 3 & 7 & 3 & 7\\\\\n",
       "\t16 & 5 & 5 & 5 & 6 & 5 & 4 & 2 & 5 & 2 & 3 & ⋯ & 6 & 3 & 5 & 6 & 6 & 4 & 3 & 7 & 5 & 6\\\\\n",
       "\t17 & 2 & 5 & 6 & 1 & 4 & 5 & 4 & 2 & 6 & 5 & ⋯ & 4 & 5 & 4 & 3 & 4 & 3 & 5 & 3 & 4 & 4\\\\\n",
       "\t18 & 5 & 4 & 4 & 3 & 6 & 4 & 5 & 3 & 6 & 5 & ⋯ & 0 & 4 & 3 & 4 & 4 & 6 & 6 & 2 & 6 & 2\\\\\n",
       "\t19 & 6 & 6 & 7 & 4 & 5 & 7 & 2 & 5 & 2 & 1 & ⋯ & 4 & 0 & 6 & 5 & 6 & 7 & 2 & 4 & 7 & 4\\\\\n",
       "\t20 & 2 & 4 & 2 & 5 & 5 & 1 & 5 & 2 & 7 & 6 & ⋯ & 3 & 6 & 0 & 3 & 6 & 3 & 6 & 5 & 4 & 3\\\\\n",
       "\t21 & 1 & 6 & 4 & 2 & 7 & 4 & 6 & 5 & 7 & 5 & ⋯ & 4 & 5 & 3 & 0 & 4 & 2 & 6 & 2 & 2 & 4\\\\\n",
       "\t22 & 4 & 4 & 4 & 4 & 8 & 5 & 7 & 6 & 4 & 7 & ⋯ & 4 & 6 & 6 & 4 & 0 & 3 & 6 & 2 & 2 & 6\\\\\n",
       "\t23 & 1 & 5 & 3 & 4 & 7 & 2 & 6 & 5 & 6 & 7 & ⋯ & 6 & 7 & 3 & 2 & 3 & 0 & 7 & 4 & 1 & 6\\\\\n",
       "\t24 & 6 & 5 & 6 & 5 & 5 & 7 & 2 & 5 & 2 & 1 & ⋯ & 6 & 2 & 6 & 6 & 6 & 7 & 0 & 6 & 6 & 4\\\\\n",
       "\t25 & 3 & 6 & 6 & 2 & 7 & 6 & 6 & 5 & 6 & 5 & ⋯ & 2 & 4 & 5 & 2 & 2 & 4 & 6 & 0 & 4 & 4\\\\\n",
       "\t26 & 2 & 4 & 2 & 4 & 8 & 3 & 7 & 6 & 5 & 7 & ⋯ & 6 & 7 & 4 & 2 & 2 & 1 & 6 & 4 & 0 & 6\\\\\n",
       "\t27 & 5 & 3 & 4 & 4 & 6 & 4 & 5 & 2 & 6 & 3 & ⋯ & 2 & 4 & 3 & 4 & 6 & 6 & 4 & 4 & 6 & 0\\\\\n",
       "\\end{tabular}\n"
      ],
      "text/markdown": [
       "\n",
       "| <!--/--> | 1 | 2 | 3 | 4 | 5 | 6 | 7 | 8 | 9 | 10 | ⋯ | 18 | 19 | 20 | 21 | 22 | 23 | 24 | 25 | 26 | 27 | \n",
       "|---|---|---|---|---|---|---|---|---|---|---|---|---|---|---|---|---|---|---|---|---|---|---|---|---|---|---|\n",
       "| 1 | 0 | 6 | 4 | 3 | 6 | 3 | 5 | 4 | 7 | 6 | ⋯ | 5 | 6 | 2 | 1 | 4 | 1 | 6 | 3 | 2 | 5 | \n",
       "| 2 | 6 | 0 | 2 | 4 | 6 | 3 | 5 | 3 | 4 | 6 | ⋯ | 4 | 6 | 4 | 6 | 4 | 5 | 5 | 6 | 4 | 3 | \n",
       "| 3 | 4 | 2 | 0 | 6 | 7 | 1 | 7 | 4 | 5 | 7 | ⋯ | 4 | 7 | 2 | 4 | 4 | 3 | 6 | 6 | 2 | 4 | \n",
       "| 4 | 3 | 4 | 6 | 0 | 5 | 6 | 5 | 3 | 6 | 4 | ⋯ | 3 | 4 | 5 | 2 | 4 | 4 | 5 | 2 | 4 | 4 | \n",
       "| 5 | 6 | 6 | 7 | 5 | 0 | 6 | 3 | 4 | 6 | 5 | ⋯ | 6 | 5 | 5 | 7 | 8 | 7 | 5 | 7 | 8 | 6 | \n",
       "| 6 | 3 | 3 | 1 | 6 | 6 | 0 | 6 | 3 | 6 | 7 | ⋯ | 4 | 7 | 1 | 4 | 5 | 2 | 7 | 6 | 3 | 4 | \n",
       "| 7 | 5 | 5 | 7 | 5 | 3 | 6 | 0 | 4 | 3 | 2 | ⋯ | 5 | 2 | 5 | 6 | 7 | 6 | 2 | 6 | 7 | 5 | \n",
       "| 8 | 4 | 3 | 4 | 3 | 4 | 3 | 4 | 0 | 6 | 5 | ⋯ | 3 | 5 | 2 | 5 | 6 | 5 | 5 | 5 | 6 | 2 | \n",
       "| 9 | 7 | 4 | 5 | 6 | 6 | 6 | 3 | 6 | 0 | 3 | ⋯ | 6 | 2 | 7 | 7 | 4 | 6 | 2 | 6 | 5 | 6 | \n",
       "| 10 | 6 | 6 | 7 | 4 | 5 | 7 | 2 | 5 | 3 | 0 | ⋯ | 5 | 1 | 6 | 5 | 7 | 7 | 1 | 5 | 7 | 3 | \n",
       "| 11 | 4 | 2 | 4 | 2 | 7 | 5 | 5 | 5 | 4 | 6 | ⋯ | 5 | 6 | 6 | 4 | 2 | 3 | 5 | 4 | 2 | 5 | \n",
       "| 12 | 5 | 6 | 6 | 4 | 5 | 6 | 2 | 5 | 3 | 1 | ⋯ | 5 | 1 | 5 | 4 | 7 | 6 | 2 | 5 | 6 | 4 | \n",
       "| 13 | 3 | 4 | 2 | 4 | 6 | 2 | 6 | 3 | 7 | 5 | ⋯ | 2 | 5 | 1 | 2 | 6 | 4 | 6 | 4 | 4 | 2 | \n",
       "| 14 | 6 | 2 | 2 | 5 | 7 | 3 | 7 | 4 | 4 | 7 | ⋯ | 2 | 6 | 4 | 6 | 2 | 5 | 6 | 4 | 4 | 4 | \n",
       "| 15 | 5 | 5 | 3 | 6 | 6 | 4 | 4 | 6 | 2 | 4 | ⋯ | 7 | 4 | 5 | 5 | 5 | 4 | 3 | 7 | 3 | 7 | \n",
       "| 16 | 5 | 5 | 5 | 6 | 5 | 4 | 2 | 5 | 2 | 3 | ⋯ | 6 | 3 | 5 | 6 | 6 | 4 | 3 | 7 | 5 | 6 | \n",
       "| 17 | 2 | 5 | 6 | 1 | 4 | 5 | 4 | 2 | 6 | 5 | ⋯ | 4 | 5 | 4 | 3 | 4 | 3 | 5 | 3 | 4 | 4 | \n",
       "| 18 | 5 | 4 | 4 | 3 | 6 | 4 | 5 | 3 | 6 | 5 | ⋯ | 0 | 4 | 3 | 4 | 4 | 6 | 6 | 2 | 6 | 2 | \n",
       "| 19 | 6 | 6 | 7 | 4 | 5 | 7 | 2 | 5 | 2 | 1 | ⋯ | 4 | 0 | 6 | 5 | 6 | 7 | 2 | 4 | 7 | 4 | \n",
       "| 20 | 2 | 4 | 2 | 5 | 5 | 1 | 5 | 2 | 7 | 6 | ⋯ | 3 | 6 | 0 | 3 | 6 | 3 | 6 | 5 | 4 | 3 | \n",
       "| 21 | 1 | 6 | 4 | 2 | 7 | 4 | 6 | 5 | 7 | 5 | ⋯ | 4 | 5 | 3 | 0 | 4 | 2 | 6 | 2 | 2 | 4 | \n",
       "| 22 | 4 | 4 | 4 | 4 | 8 | 5 | 7 | 6 | 4 | 7 | ⋯ | 4 | 6 | 6 | 4 | 0 | 3 | 6 | 2 | 2 | 6 | \n",
       "| 23 | 1 | 5 | 3 | 4 | 7 | 2 | 6 | 5 | 6 | 7 | ⋯ | 6 | 7 | 3 | 2 | 3 | 0 | 7 | 4 | 1 | 6 | \n",
       "| 24 | 6 | 5 | 6 | 5 | 5 | 7 | 2 | 5 | 2 | 1 | ⋯ | 6 | 2 | 6 | 6 | 6 | 7 | 0 | 6 | 6 | 4 | \n",
       "| 25 | 3 | 6 | 6 | 2 | 7 | 6 | 6 | 5 | 6 | 5 | ⋯ | 2 | 4 | 5 | 2 | 2 | 4 | 6 | 0 | 4 | 4 | \n",
       "| 26 | 2 | 4 | 2 | 4 | 8 | 3 | 7 | 6 | 5 | 7 | ⋯ | 6 | 7 | 4 | 2 | 2 | 1 | 6 | 4 | 0 | 6 | \n",
       "| 27 | 5 | 3 | 4 | 4 | 6 | 4 | 5 | 2 | 6 | 3 | ⋯ | 2 | 4 | 3 | 4 | 6 | 6 | 4 | 4 | 6 | 0 | \n",
       "\n",
       "\n"
      ],
      "text/plain": [
       "   1 2 3 4 5 6 7 8 9 10 ⋯ 18 19 20 21 22 23 24 25 26 27\n",
       "1  0 6 4 3 6 3 5 4 7 6  ⋯ 5  6  2  1  4  1  6  3  2  5 \n",
       "2  6 0 2 4 6 3 5 3 4 6  ⋯ 4  6  4  6  4  5  5  6  4  3 \n",
       "3  4 2 0 6 7 1 7 4 5 7  ⋯ 4  7  2  4  4  3  6  6  2  4 \n",
       "4  3 4 6 0 5 6 5 3 6 4  ⋯ 3  4  5  2  4  4  5  2  4  4 \n",
       "5  6 6 7 5 0 6 3 4 6 5  ⋯ 6  5  5  7  8  7  5  7  8  6 \n",
       "6  3 3 1 6 6 0 6 3 6 7  ⋯ 4  7  1  4  5  2  7  6  3  4 \n",
       "7  5 5 7 5 3 6 0 4 3 2  ⋯ 5  2  5  6  7  6  2  6  7  5 \n",
       "8  4 3 4 3 4 3 4 0 6 5  ⋯ 3  5  2  5  6  5  5  5  6  2 \n",
       "9  7 4 5 6 6 6 3 6 0 3  ⋯ 6  2  7  7  4  6  2  6  5  6 \n",
       "10 6 6 7 4 5 7 2 5 3 0  ⋯ 5  1  6  5  7  7  1  5  7  3 \n",
       "11 4 2 4 2 7 5 5 5 4 6  ⋯ 5  6  6  4  2  3  5  4  2  5 \n",
       "12 5 6 6 4 5 6 2 5 3 1  ⋯ 5  1  5  4  7  6  2  5  6  4 \n",
       "13 3 4 2 4 6 2 6 3 7 5  ⋯ 2  5  1  2  6  4  6  4  4  2 \n",
       "14 6 2 2 5 7 3 7 4 4 7  ⋯ 2  6  4  6  2  5  6  4  4  4 \n",
       "15 5 5 3 6 6 4 4 6 2 4  ⋯ 7  4  5  5  5  4  3  7  3  7 \n",
       "16 5 5 5 6 5 4 2 5 2 3  ⋯ 6  3  5  6  6  4  3  7  5  6 \n",
       "17 2 5 6 1 4 5 4 2 6 5  ⋯ 4  5  4  3  4  3  5  3  4  4 \n",
       "18 5 4 4 3 6 4 5 3 6 5  ⋯ 0  4  3  4  4  6  6  2  6  2 \n",
       "19 6 6 7 4 5 7 2 5 2 1  ⋯ 4  0  6  5  6  7  2  4  7  4 \n",
       "20 2 4 2 5 5 1 5 2 7 6  ⋯ 3  6  0  3  6  3  6  5  4  3 \n",
       "21 1 6 4 2 7 4 6 5 7 5  ⋯ 4  5  3  0  4  2  6  2  2  4 \n",
       "22 4 4 4 4 8 5 7 6 4 7  ⋯ 4  6  6  4  0  3  6  2  2  6 \n",
       "23 1 5 3 4 7 2 6 5 6 7  ⋯ 6  7  3  2  3  0  7  4  1  6 \n",
       "24 6 5 6 5 5 7 2 5 2 1  ⋯ 6  2  6  6  6  7  0  6  6  4 \n",
       "25 3 6 6 2 7 6 6 5 6 5  ⋯ 2  4  5  2  2  4  6  0  4  4 \n",
       "26 2 4 2 4 8 3 7 6 5 7  ⋯ 6  7  4  2  2  1  6  4  0  6 \n",
       "27 5 3 4 4 6 4 5 2 6 3  ⋯ 2  4  3  4  6  6  4  4  6  0 "
      ]
     },
     "metadata": {},
     "output_type": "display_data"
    }
   ],
   "source": [
    "signal_dists <- as.matrix(stringdistmatrix(language$signals, method=\"lv\"))\n",
    "signal_dists"
   ]
  },
  {
   "cell_type": "markdown",
   "metadata": {},
   "source": [
    "I'm going to normalise this again so that the maximum distance is 1. (I'm actually not 100% sure whether this normalisation step is required - but I'm keeping it here for consistency.)"
   ]
  },
  {
   "cell_type": "code",
   "execution_count": 22,
   "metadata": {},
   "outputs": [
    {
     "data": {
      "text/html": [
       "<table>\n",
       "<thead><tr><th></th><th scope=col>1</th><th scope=col>2</th><th scope=col>3</th><th scope=col>4</th><th scope=col>5</th><th scope=col>6</th><th scope=col>7</th><th scope=col>8</th><th scope=col>9</th><th scope=col>10</th><th scope=col>⋯</th><th scope=col>18</th><th scope=col>19</th><th scope=col>20</th><th scope=col>21</th><th scope=col>22</th><th scope=col>23</th><th scope=col>24</th><th scope=col>25</th><th scope=col>26</th><th scope=col>27</th></tr></thead>\n",
       "<tbody>\n",
       "\t<tr><th scope=row>1</th><td>0.000    </td><td>0.7500000</td><td>0.5000000</td><td>0.3750000</td><td>0.7500000</td><td>0.3750000</td><td>0.6250000</td><td>0.5000000</td><td>0.8750000</td><td>0.7500000</td><td>⋯        </td><td>0.6250000</td><td>0.7500000</td><td>0.2500000</td><td>0.125    </td><td>0.500    </td><td>0.125    </td><td>0.7500000</td><td>0.375    </td><td>0.250    </td><td>0.6250000</td></tr>\n",
       "\t<tr><th scope=row>2</th><td>0.750    </td><td>0.0000000</td><td>0.2857143</td><td>0.5714286</td><td>0.8571429</td><td>0.4285714</td><td>0.7142857</td><td>0.4285714</td><td>0.5714286</td><td>0.8571429</td><td>⋯        </td><td>0.5714286</td><td>0.8571429</td><td>0.5714286</td><td>0.750    </td><td>0.500    </td><td>0.625    </td><td>0.7142857</td><td>0.750    </td><td>0.500    </td><td>0.4285714</td></tr>\n",
       "\t<tr><th scope=row>3</th><td>0.500    </td><td>0.2857143</td><td>0.0000000</td><td>0.8571429</td><td>1.0000000</td><td>0.1428571</td><td>1.0000000</td><td>0.5714286</td><td>0.7142857</td><td>1.0000000</td><td>⋯        </td><td>0.5714286</td><td>1.0000000</td><td>0.2857143</td><td>0.500    </td><td>0.500    </td><td>0.375    </td><td>0.8571429</td><td>0.750    </td><td>0.250    </td><td>0.5714286</td></tr>\n",
       "\t<tr><th scope=row>4</th><td>0.375    </td><td>0.5714286</td><td>0.8571429</td><td>0.0000000</td><td>0.8333333</td><td>0.8571429</td><td>0.8333333</td><td>0.5000000</td><td>1.0000000</td><td>0.6666667</td><td>⋯        </td><td>0.4285714</td><td>0.6666667</td><td>0.7142857</td><td>0.250    </td><td>0.500    </td><td>0.500    </td><td>0.8333333</td><td>0.250    </td><td>0.500    </td><td>0.5714286</td></tr>\n",
       "\t<tr><th scope=row>5</th><td>0.750    </td><td>0.8571429</td><td>1.0000000</td><td>0.8333333</td><td>0.0000000</td><td>0.8571429</td><td>0.5000000</td><td>0.6666667</td><td>1.0000000</td><td>0.8333333</td><td>⋯        </td><td>0.8571429</td><td>0.8333333</td><td>0.7142857</td><td>0.875    </td><td>1.000    </td><td>0.875    </td><td>0.8333333</td><td>0.875    </td><td>1.000    </td><td>0.8571429</td></tr>\n",
       "\t<tr><th scope=row>6</th><td>0.375    </td><td>0.4285714</td><td>0.1428571</td><td>0.8571429</td><td>0.8571429</td><td>0.0000000</td><td>0.8571429</td><td>0.4285714</td><td>0.8571429</td><td>1.0000000</td><td>⋯        </td><td>0.5714286</td><td>1.0000000</td><td>0.1428571</td><td>0.500    </td><td>0.625    </td><td>0.250    </td><td>1.0000000</td><td>0.750    </td><td>0.375    </td><td>0.5714286</td></tr>\n",
       "\t<tr><th scope=row>7</th><td>0.625    </td><td>0.7142857</td><td>1.0000000</td><td>0.8333333</td><td>0.5000000</td><td>0.8571429</td><td>0.0000000</td><td>0.6666667</td><td>0.5000000</td><td>0.3333333</td><td>⋯        </td><td>0.7142857</td><td>0.3333333</td><td>0.7142857</td><td>0.750    </td><td>0.875    </td><td>0.750    </td><td>0.3333333</td><td>0.750    </td><td>0.875    </td><td>0.7142857</td></tr>\n",
       "\t<tr><th scope=row>8</th><td>0.500    </td><td>0.4285714</td><td>0.5714286</td><td>0.5000000</td><td>0.6666667</td><td>0.4285714</td><td>0.6666667</td><td>0.0000000</td><td>1.0000000</td><td>0.8333333</td><td>⋯        </td><td>0.4285714</td><td>0.8333333</td><td>0.2857143</td><td>0.625    </td><td>0.750    </td><td>0.625    </td><td>0.8333333</td><td>0.625    </td><td>0.750    </td><td>0.2857143</td></tr>\n",
       "\t<tr><th scope=row>9</th><td>0.875    </td><td>0.5714286</td><td>0.7142857</td><td>1.0000000</td><td>1.0000000</td><td>0.8571429</td><td>0.5000000</td><td>1.0000000</td><td>0.0000000</td><td>0.5000000</td><td>⋯        </td><td>0.8571429</td><td>0.3333333</td><td>1.0000000</td><td>0.875    </td><td>0.500    </td><td>0.750    </td><td>0.3333333</td><td>0.750    </td><td>0.625    </td><td>0.8571429</td></tr>\n",
       "\t<tr><th scope=row>10</th><td>0.750    </td><td>0.8571429</td><td>1.0000000</td><td>0.6666667</td><td>0.8333333</td><td>1.0000000</td><td>0.3333333</td><td>0.8333333</td><td>0.5000000</td><td>0.0000000</td><td>⋯        </td><td>0.7142857</td><td>0.1666667</td><td>0.8571429</td><td>0.625    </td><td>0.875    </td><td>0.875    </td><td>0.1666667</td><td>0.625    </td><td>0.875    </td><td>0.4285714</td></tr>\n",
       "\t<tr><th scope=row>11</th><td>0.500    </td><td>0.2500000</td><td>0.5000000</td><td>0.2500000</td><td>0.8750000</td><td>0.6250000</td><td>0.6250000</td><td>0.6250000</td><td>0.5000000</td><td>0.7500000</td><td>⋯        </td><td>0.6250000</td><td>0.7500000</td><td>0.7500000</td><td>0.500    </td><td>0.250    </td><td>0.375    </td><td>0.6250000</td><td>0.500    </td><td>0.250    </td><td>0.6250000</td></tr>\n",
       "\t<tr><th scope=row>12</th><td>0.625    </td><td>0.8571429</td><td>0.8571429</td><td>0.6666667</td><td>0.8333333</td><td>0.8571429</td><td>0.3333333</td><td>0.8333333</td><td>0.5000000</td><td>0.1666667</td><td>⋯        </td><td>0.7142857</td><td>0.1666667</td><td>0.7142857</td><td>0.500    </td><td>0.875    </td><td>0.750    </td><td>0.3333333</td><td>0.625    </td><td>0.750    </td><td>0.5714286</td></tr>\n",
       "\t<tr><th scope=row>13</th><td>0.375    </td><td>0.5714286</td><td>0.2857143</td><td>0.5714286</td><td>0.8571429</td><td>0.2857143</td><td>0.8571429</td><td>0.4285714</td><td>1.0000000</td><td>0.7142857</td><td>⋯        </td><td>0.2857143</td><td>0.7142857</td><td>0.1428571</td><td>0.250    </td><td>0.750    </td><td>0.500    </td><td>0.8571429</td><td>0.500    </td><td>0.500    </td><td>0.2857143</td></tr>\n",
       "\t<tr><th scope=row>14</th><td>0.750    </td><td>0.2857143</td><td>0.2857143</td><td>0.7142857</td><td>1.0000000</td><td>0.4285714</td><td>1.0000000</td><td>0.5714286</td><td>0.5714286</td><td>1.0000000</td><td>⋯        </td><td>0.2857143</td><td>0.8571429</td><td>0.5714286</td><td>0.750    </td><td>0.250    </td><td>0.625    </td><td>0.8571429</td><td>0.500    </td><td>0.500    </td><td>0.5714286</td></tr>\n",
       "\t<tr><th scope=row>15</th><td>0.625    </td><td>0.7142857</td><td>0.4285714</td><td>1.0000000</td><td>1.0000000</td><td>0.5714286</td><td>0.6666667</td><td>1.0000000</td><td>0.3333333</td><td>0.6666667</td><td>⋯        </td><td>1.0000000</td><td>0.6666667</td><td>0.7142857</td><td>0.625    </td><td>0.625    </td><td>0.500    </td><td>0.5000000</td><td>0.875    </td><td>0.375    </td><td>1.0000000</td></tr>\n",
       "\t<tr><th scope=row>16</th><td>0.625    </td><td>0.7142857</td><td>0.7142857</td><td>1.0000000</td><td>0.8333333</td><td>0.5714286</td><td>0.3333333</td><td>0.8333333</td><td>0.3333333</td><td>0.5000000</td><td>⋯        </td><td>0.8571429</td><td>0.5000000</td><td>0.7142857</td><td>0.750    </td><td>0.750    </td><td>0.500    </td><td>0.5000000</td><td>0.875    </td><td>0.625    </td><td>0.8571429</td></tr>\n",
       "\t<tr><th scope=row>17</th><td>0.250    </td><td>0.7142857</td><td>0.8571429</td><td>0.1666667</td><td>0.6666667</td><td>0.7142857</td><td>0.6666667</td><td>0.3333333</td><td>1.0000000</td><td>0.8333333</td><td>⋯        </td><td>0.5714286</td><td>0.8333333</td><td>0.5714286</td><td>0.375    </td><td>0.500    </td><td>0.375    </td><td>0.8333333</td><td>0.375    </td><td>0.500    </td><td>0.5714286</td></tr>\n",
       "\t<tr><th scope=row>18</th><td>0.625    </td><td>0.5714286</td><td>0.5714286</td><td>0.4285714</td><td>0.8571429</td><td>0.5714286</td><td>0.7142857</td><td>0.4285714</td><td>0.8571429</td><td>0.7142857</td><td>⋯        </td><td>0.0000000</td><td>0.5714286</td><td>0.4285714</td><td>0.500    </td><td>0.500    </td><td>0.750    </td><td>0.8571429</td><td>0.250    </td><td>0.750    </td><td>0.2857143</td></tr>\n",
       "\t<tr><th scope=row>19</th><td>0.750    </td><td>0.8571429</td><td>1.0000000</td><td>0.6666667</td><td>0.8333333</td><td>1.0000000</td><td>0.3333333</td><td>0.8333333</td><td>0.3333333</td><td>0.1666667</td><td>⋯        </td><td>0.5714286</td><td>0.0000000</td><td>0.8571429</td><td>0.625    </td><td>0.750    </td><td>0.875    </td><td>0.3333333</td><td>0.500    </td><td>0.875    </td><td>0.5714286</td></tr>\n",
       "\t<tr><th scope=row>20</th><td>0.250    </td><td>0.5714286</td><td>0.2857143</td><td>0.7142857</td><td>0.7142857</td><td>0.1428571</td><td>0.7142857</td><td>0.2857143</td><td>1.0000000</td><td>0.8571429</td><td>⋯        </td><td>0.4285714</td><td>0.8571429</td><td>0.0000000</td><td>0.375    </td><td>0.750    </td><td>0.375    </td><td>0.8571429</td><td>0.625    </td><td>0.500    </td><td>0.4285714</td></tr>\n",
       "\t<tr><th scope=row>21</th><td>0.125    </td><td>0.7500000</td><td>0.5000000</td><td>0.2500000</td><td>0.8750000</td><td>0.5000000</td><td>0.7500000</td><td>0.6250000</td><td>0.8750000</td><td>0.6250000</td><td>⋯        </td><td>0.5000000</td><td>0.6250000</td><td>0.3750000</td><td>0.000    </td><td>0.500    </td><td>0.250    </td><td>0.7500000</td><td>0.250    </td><td>0.250    </td><td>0.5000000</td></tr>\n",
       "\t<tr><th scope=row>22</th><td>0.500    </td><td>0.5000000</td><td>0.5000000</td><td>0.5000000</td><td>1.0000000</td><td>0.6250000</td><td>0.8750000</td><td>0.7500000</td><td>0.5000000</td><td>0.8750000</td><td>⋯        </td><td>0.5000000</td><td>0.7500000</td><td>0.7500000</td><td>0.500    </td><td>0.000    </td><td>0.375    </td><td>0.7500000</td><td>0.250    </td><td>0.250    </td><td>0.7500000</td></tr>\n",
       "\t<tr><th scope=row>23</th><td>0.125    </td><td>0.6250000</td><td>0.3750000</td><td>0.5000000</td><td>0.8750000</td><td>0.2500000</td><td>0.7500000</td><td>0.6250000</td><td>0.7500000</td><td>0.8750000</td><td>⋯        </td><td>0.7500000</td><td>0.8750000</td><td>0.3750000</td><td>0.250    </td><td>0.375    </td><td>0.000    </td><td>0.8750000</td><td>0.500    </td><td>0.125    </td><td>0.7500000</td></tr>\n",
       "\t<tr><th scope=row>24</th><td>0.750    </td><td>0.7142857</td><td>0.8571429</td><td>0.8333333</td><td>0.8333333</td><td>1.0000000</td><td>0.3333333</td><td>0.8333333</td><td>0.3333333</td><td>0.1666667</td><td>⋯        </td><td>0.8571429</td><td>0.3333333</td><td>0.8571429</td><td>0.750    </td><td>0.750    </td><td>0.875    </td><td>0.0000000</td><td>0.750    </td><td>0.750    </td><td>0.5714286</td></tr>\n",
       "\t<tr><th scope=row>25</th><td>0.375    </td><td>0.7500000</td><td>0.7500000</td><td>0.2500000</td><td>0.8750000</td><td>0.7500000</td><td>0.7500000</td><td>0.6250000</td><td>0.7500000</td><td>0.6250000</td><td>⋯        </td><td>0.2500000</td><td>0.5000000</td><td>0.6250000</td><td>0.250    </td><td>0.250    </td><td>0.500    </td><td>0.7500000</td><td>0.000    </td><td>0.500    </td><td>0.5000000</td></tr>\n",
       "\t<tr><th scope=row>26</th><td>0.250    </td><td>0.5000000</td><td>0.2500000</td><td>0.5000000</td><td>1.0000000</td><td>0.3750000</td><td>0.8750000</td><td>0.7500000</td><td>0.6250000</td><td>0.8750000</td><td>⋯        </td><td>0.7500000</td><td>0.8750000</td><td>0.5000000</td><td>0.250    </td><td>0.250    </td><td>0.125    </td><td>0.7500000</td><td>0.500    </td><td>0.000    </td><td>0.7500000</td></tr>\n",
       "\t<tr><th scope=row>27</th><td>0.625    </td><td>0.4285714</td><td>0.5714286</td><td>0.5714286</td><td>0.8571429</td><td>0.5714286</td><td>0.7142857</td><td>0.2857143</td><td>0.8571429</td><td>0.4285714</td><td>⋯        </td><td>0.2857143</td><td>0.5714286</td><td>0.4285714</td><td>0.500    </td><td>0.750    </td><td>0.750    </td><td>0.5714286</td><td>0.500    </td><td>0.750    </td><td>0.0000000</td></tr>\n",
       "</tbody>\n",
       "</table>\n"
      ],
      "text/latex": [
       "\\begin{tabular}{r|lllllllllllllllllllllllllll}\n",
       "  & 1 & 2 & 3 & 4 & 5 & 6 & 7 & 8 & 9 & 10 & ⋯ & 18 & 19 & 20 & 21 & 22 & 23 & 24 & 25 & 26 & 27\\\\\n",
       "\\hline\n",
       "\t1 & 0.000     & 0.7500000 & 0.5000000 & 0.3750000 & 0.7500000 & 0.3750000 & 0.6250000 & 0.5000000 & 0.8750000 & 0.7500000 & ⋯         & 0.6250000 & 0.7500000 & 0.2500000 & 0.125     & 0.500     & 0.125     & 0.7500000 & 0.375     & 0.250     & 0.6250000\\\\\n",
       "\t2 & 0.750     & 0.0000000 & 0.2857143 & 0.5714286 & 0.8571429 & 0.4285714 & 0.7142857 & 0.4285714 & 0.5714286 & 0.8571429 & ⋯         & 0.5714286 & 0.8571429 & 0.5714286 & 0.750     & 0.500     & 0.625     & 0.7142857 & 0.750     & 0.500     & 0.4285714\\\\\n",
       "\t3 & 0.500     & 0.2857143 & 0.0000000 & 0.8571429 & 1.0000000 & 0.1428571 & 1.0000000 & 0.5714286 & 0.7142857 & 1.0000000 & ⋯         & 0.5714286 & 1.0000000 & 0.2857143 & 0.500     & 0.500     & 0.375     & 0.8571429 & 0.750     & 0.250     & 0.5714286\\\\\n",
       "\t4 & 0.375     & 0.5714286 & 0.8571429 & 0.0000000 & 0.8333333 & 0.8571429 & 0.8333333 & 0.5000000 & 1.0000000 & 0.6666667 & ⋯         & 0.4285714 & 0.6666667 & 0.7142857 & 0.250     & 0.500     & 0.500     & 0.8333333 & 0.250     & 0.500     & 0.5714286\\\\\n",
       "\t5 & 0.750     & 0.8571429 & 1.0000000 & 0.8333333 & 0.0000000 & 0.8571429 & 0.5000000 & 0.6666667 & 1.0000000 & 0.8333333 & ⋯         & 0.8571429 & 0.8333333 & 0.7142857 & 0.875     & 1.000     & 0.875     & 0.8333333 & 0.875     & 1.000     & 0.8571429\\\\\n",
       "\t6 & 0.375     & 0.4285714 & 0.1428571 & 0.8571429 & 0.8571429 & 0.0000000 & 0.8571429 & 0.4285714 & 0.8571429 & 1.0000000 & ⋯         & 0.5714286 & 1.0000000 & 0.1428571 & 0.500     & 0.625     & 0.250     & 1.0000000 & 0.750     & 0.375     & 0.5714286\\\\\n",
       "\t7 & 0.625     & 0.7142857 & 1.0000000 & 0.8333333 & 0.5000000 & 0.8571429 & 0.0000000 & 0.6666667 & 0.5000000 & 0.3333333 & ⋯         & 0.7142857 & 0.3333333 & 0.7142857 & 0.750     & 0.875     & 0.750     & 0.3333333 & 0.750     & 0.875     & 0.7142857\\\\\n",
       "\t8 & 0.500     & 0.4285714 & 0.5714286 & 0.5000000 & 0.6666667 & 0.4285714 & 0.6666667 & 0.0000000 & 1.0000000 & 0.8333333 & ⋯         & 0.4285714 & 0.8333333 & 0.2857143 & 0.625     & 0.750     & 0.625     & 0.8333333 & 0.625     & 0.750     & 0.2857143\\\\\n",
       "\t9 & 0.875     & 0.5714286 & 0.7142857 & 1.0000000 & 1.0000000 & 0.8571429 & 0.5000000 & 1.0000000 & 0.0000000 & 0.5000000 & ⋯         & 0.8571429 & 0.3333333 & 1.0000000 & 0.875     & 0.500     & 0.750     & 0.3333333 & 0.750     & 0.625     & 0.8571429\\\\\n",
       "\t10 & 0.750     & 0.8571429 & 1.0000000 & 0.6666667 & 0.8333333 & 1.0000000 & 0.3333333 & 0.8333333 & 0.5000000 & 0.0000000 & ⋯         & 0.7142857 & 0.1666667 & 0.8571429 & 0.625     & 0.875     & 0.875     & 0.1666667 & 0.625     & 0.875     & 0.4285714\\\\\n",
       "\t11 & 0.500     & 0.2500000 & 0.5000000 & 0.2500000 & 0.8750000 & 0.6250000 & 0.6250000 & 0.6250000 & 0.5000000 & 0.7500000 & ⋯         & 0.6250000 & 0.7500000 & 0.7500000 & 0.500     & 0.250     & 0.375     & 0.6250000 & 0.500     & 0.250     & 0.6250000\\\\\n",
       "\t12 & 0.625     & 0.8571429 & 0.8571429 & 0.6666667 & 0.8333333 & 0.8571429 & 0.3333333 & 0.8333333 & 0.5000000 & 0.1666667 & ⋯         & 0.7142857 & 0.1666667 & 0.7142857 & 0.500     & 0.875     & 0.750     & 0.3333333 & 0.625     & 0.750     & 0.5714286\\\\\n",
       "\t13 & 0.375     & 0.5714286 & 0.2857143 & 0.5714286 & 0.8571429 & 0.2857143 & 0.8571429 & 0.4285714 & 1.0000000 & 0.7142857 & ⋯         & 0.2857143 & 0.7142857 & 0.1428571 & 0.250     & 0.750     & 0.500     & 0.8571429 & 0.500     & 0.500     & 0.2857143\\\\\n",
       "\t14 & 0.750     & 0.2857143 & 0.2857143 & 0.7142857 & 1.0000000 & 0.4285714 & 1.0000000 & 0.5714286 & 0.5714286 & 1.0000000 & ⋯         & 0.2857143 & 0.8571429 & 0.5714286 & 0.750     & 0.250     & 0.625     & 0.8571429 & 0.500     & 0.500     & 0.5714286\\\\\n",
       "\t15 & 0.625     & 0.7142857 & 0.4285714 & 1.0000000 & 1.0000000 & 0.5714286 & 0.6666667 & 1.0000000 & 0.3333333 & 0.6666667 & ⋯         & 1.0000000 & 0.6666667 & 0.7142857 & 0.625     & 0.625     & 0.500     & 0.5000000 & 0.875     & 0.375     & 1.0000000\\\\\n",
       "\t16 & 0.625     & 0.7142857 & 0.7142857 & 1.0000000 & 0.8333333 & 0.5714286 & 0.3333333 & 0.8333333 & 0.3333333 & 0.5000000 & ⋯         & 0.8571429 & 0.5000000 & 0.7142857 & 0.750     & 0.750     & 0.500     & 0.5000000 & 0.875     & 0.625     & 0.8571429\\\\\n",
       "\t17 & 0.250     & 0.7142857 & 0.8571429 & 0.1666667 & 0.6666667 & 0.7142857 & 0.6666667 & 0.3333333 & 1.0000000 & 0.8333333 & ⋯         & 0.5714286 & 0.8333333 & 0.5714286 & 0.375     & 0.500     & 0.375     & 0.8333333 & 0.375     & 0.500     & 0.5714286\\\\\n",
       "\t18 & 0.625     & 0.5714286 & 0.5714286 & 0.4285714 & 0.8571429 & 0.5714286 & 0.7142857 & 0.4285714 & 0.8571429 & 0.7142857 & ⋯         & 0.0000000 & 0.5714286 & 0.4285714 & 0.500     & 0.500     & 0.750     & 0.8571429 & 0.250     & 0.750     & 0.2857143\\\\\n",
       "\t19 & 0.750     & 0.8571429 & 1.0000000 & 0.6666667 & 0.8333333 & 1.0000000 & 0.3333333 & 0.8333333 & 0.3333333 & 0.1666667 & ⋯         & 0.5714286 & 0.0000000 & 0.8571429 & 0.625     & 0.750     & 0.875     & 0.3333333 & 0.500     & 0.875     & 0.5714286\\\\\n",
       "\t20 & 0.250     & 0.5714286 & 0.2857143 & 0.7142857 & 0.7142857 & 0.1428571 & 0.7142857 & 0.2857143 & 1.0000000 & 0.8571429 & ⋯         & 0.4285714 & 0.8571429 & 0.0000000 & 0.375     & 0.750     & 0.375     & 0.8571429 & 0.625     & 0.500     & 0.4285714\\\\\n",
       "\t21 & 0.125     & 0.7500000 & 0.5000000 & 0.2500000 & 0.8750000 & 0.5000000 & 0.7500000 & 0.6250000 & 0.8750000 & 0.6250000 & ⋯         & 0.5000000 & 0.6250000 & 0.3750000 & 0.000     & 0.500     & 0.250     & 0.7500000 & 0.250     & 0.250     & 0.5000000\\\\\n",
       "\t22 & 0.500     & 0.5000000 & 0.5000000 & 0.5000000 & 1.0000000 & 0.6250000 & 0.8750000 & 0.7500000 & 0.5000000 & 0.8750000 & ⋯         & 0.5000000 & 0.7500000 & 0.7500000 & 0.500     & 0.000     & 0.375     & 0.7500000 & 0.250     & 0.250     & 0.7500000\\\\\n",
       "\t23 & 0.125     & 0.6250000 & 0.3750000 & 0.5000000 & 0.8750000 & 0.2500000 & 0.7500000 & 0.6250000 & 0.7500000 & 0.8750000 & ⋯         & 0.7500000 & 0.8750000 & 0.3750000 & 0.250     & 0.375     & 0.000     & 0.8750000 & 0.500     & 0.125     & 0.7500000\\\\\n",
       "\t24 & 0.750     & 0.7142857 & 0.8571429 & 0.8333333 & 0.8333333 & 1.0000000 & 0.3333333 & 0.8333333 & 0.3333333 & 0.1666667 & ⋯         & 0.8571429 & 0.3333333 & 0.8571429 & 0.750     & 0.750     & 0.875     & 0.0000000 & 0.750     & 0.750     & 0.5714286\\\\\n",
       "\t25 & 0.375     & 0.7500000 & 0.7500000 & 0.2500000 & 0.8750000 & 0.7500000 & 0.7500000 & 0.6250000 & 0.7500000 & 0.6250000 & ⋯         & 0.2500000 & 0.5000000 & 0.6250000 & 0.250     & 0.250     & 0.500     & 0.7500000 & 0.000     & 0.500     & 0.5000000\\\\\n",
       "\t26 & 0.250     & 0.5000000 & 0.2500000 & 0.5000000 & 1.0000000 & 0.3750000 & 0.8750000 & 0.7500000 & 0.6250000 & 0.8750000 & ⋯         & 0.7500000 & 0.8750000 & 0.5000000 & 0.250     & 0.250     & 0.125     & 0.7500000 & 0.500     & 0.000     & 0.7500000\\\\\n",
       "\t27 & 0.625     & 0.4285714 & 0.5714286 & 0.5714286 & 0.8571429 & 0.5714286 & 0.7142857 & 0.2857143 & 0.8571429 & 0.4285714 & ⋯         & 0.2857143 & 0.5714286 & 0.4285714 & 0.500     & 0.750     & 0.750     & 0.5714286 & 0.500     & 0.750     & 0.0000000\\\\\n",
       "\\end{tabular}\n"
      ],
      "text/markdown": [
       "\n",
       "| <!--/--> | 1 | 2 | 3 | 4 | 5 | 6 | 7 | 8 | 9 | 10 | ⋯ | 18 | 19 | 20 | 21 | 22 | 23 | 24 | 25 | 26 | 27 | \n",
       "|---|---|---|---|---|---|---|---|---|---|---|---|---|---|---|---|---|---|---|---|---|---|---|---|---|---|---|\n",
       "| 1 | 0.000     | 0.7500000 | 0.5000000 | 0.3750000 | 0.7500000 | 0.3750000 | 0.6250000 | 0.5000000 | 0.8750000 | 0.7500000 | ⋯         | 0.6250000 | 0.7500000 | 0.2500000 | 0.125     | 0.500     | 0.125     | 0.7500000 | 0.375     | 0.250     | 0.6250000 | \n",
       "| 2 | 0.750     | 0.0000000 | 0.2857143 | 0.5714286 | 0.8571429 | 0.4285714 | 0.7142857 | 0.4285714 | 0.5714286 | 0.8571429 | ⋯         | 0.5714286 | 0.8571429 | 0.5714286 | 0.750     | 0.500     | 0.625     | 0.7142857 | 0.750     | 0.500     | 0.4285714 | \n",
       "| 3 | 0.500     | 0.2857143 | 0.0000000 | 0.8571429 | 1.0000000 | 0.1428571 | 1.0000000 | 0.5714286 | 0.7142857 | 1.0000000 | ⋯         | 0.5714286 | 1.0000000 | 0.2857143 | 0.500     | 0.500     | 0.375     | 0.8571429 | 0.750     | 0.250     | 0.5714286 | \n",
       "| 4 | 0.375     | 0.5714286 | 0.8571429 | 0.0000000 | 0.8333333 | 0.8571429 | 0.8333333 | 0.5000000 | 1.0000000 | 0.6666667 | ⋯         | 0.4285714 | 0.6666667 | 0.7142857 | 0.250     | 0.500     | 0.500     | 0.8333333 | 0.250     | 0.500     | 0.5714286 | \n",
       "| 5 | 0.750     | 0.8571429 | 1.0000000 | 0.8333333 | 0.0000000 | 0.8571429 | 0.5000000 | 0.6666667 | 1.0000000 | 0.8333333 | ⋯         | 0.8571429 | 0.8333333 | 0.7142857 | 0.875     | 1.000     | 0.875     | 0.8333333 | 0.875     | 1.000     | 0.8571429 | \n",
       "| 6 | 0.375     | 0.4285714 | 0.1428571 | 0.8571429 | 0.8571429 | 0.0000000 | 0.8571429 | 0.4285714 | 0.8571429 | 1.0000000 | ⋯         | 0.5714286 | 1.0000000 | 0.1428571 | 0.500     | 0.625     | 0.250     | 1.0000000 | 0.750     | 0.375     | 0.5714286 | \n",
       "| 7 | 0.625     | 0.7142857 | 1.0000000 | 0.8333333 | 0.5000000 | 0.8571429 | 0.0000000 | 0.6666667 | 0.5000000 | 0.3333333 | ⋯         | 0.7142857 | 0.3333333 | 0.7142857 | 0.750     | 0.875     | 0.750     | 0.3333333 | 0.750     | 0.875     | 0.7142857 | \n",
       "| 8 | 0.500     | 0.4285714 | 0.5714286 | 0.5000000 | 0.6666667 | 0.4285714 | 0.6666667 | 0.0000000 | 1.0000000 | 0.8333333 | ⋯         | 0.4285714 | 0.8333333 | 0.2857143 | 0.625     | 0.750     | 0.625     | 0.8333333 | 0.625     | 0.750     | 0.2857143 | \n",
       "| 9 | 0.875     | 0.5714286 | 0.7142857 | 1.0000000 | 1.0000000 | 0.8571429 | 0.5000000 | 1.0000000 | 0.0000000 | 0.5000000 | ⋯         | 0.8571429 | 0.3333333 | 1.0000000 | 0.875     | 0.500     | 0.750     | 0.3333333 | 0.750     | 0.625     | 0.8571429 | \n",
       "| 10 | 0.750     | 0.8571429 | 1.0000000 | 0.6666667 | 0.8333333 | 1.0000000 | 0.3333333 | 0.8333333 | 0.5000000 | 0.0000000 | ⋯         | 0.7142857 | 0.1666667 | 0.8571429 | 0.625     | 0.875     | 0.875     | 0.1666667 | 0.625     | 0.875     | 0.4285714 | \n",
       "| 11 | 0.500     | 0.2500000 | 0.5000000 | 0.2500000 | 0.8750000 | 0.6250000 | 0.6250000 | 0.6250000 | 0.5000000 | 0.7500000 | ⋯         | 0.6250000 | 0.7500000 | 0.7500000 | 0.500     | 0.250     | 0.375     | 0.6250000 | 0.500     | 0.250     | 0.6250000 | \n",
       "| 12 | 0.625     | 0.8571429 | 0.8571429 | 0.6666667 | 0.8333333 | 0.8571429 | 0.3333333 | 0.8333333 | 0.5000000 | 0.1666667 | ⋯         | 0.7142857 | 0.1666667 | 0.7142857 | 0.500     | 0.875     | 0.750     | 0.3333333 | 0.625     | 0.750     | 0.5714286 | \n",
       "| 13 | 0.375     | 0.5714286 | 0.2857143 | 0.5714286 | 0.8571429 | 0.2857143 | 0.8571429 | 0.4285714 | 1.0000000 | 0.7142857 | ⋯         | 0.2857143 | 0.7142857 | 0.1428571 | 0.250     | 0.750     | 0.500     | 0.8571429 | 0.500     | 0.500     | 0.2857143 | \n",
       "| 14 | 0.750     | 0.2857143 | 0.2857143 | 0.7142857 | 1.0000000 | 0.4285714 | 1.0000000 | 0.5714286 | 0.5714286 | 1.0000000 | ⋯         | 0.2857143 | 0.8571429 | 0.5714286 | 0.750     | 0.250     | 0.625     | 0.8571429 | 0.500     | 0.500     | 0.5714286 | \n",
       "| 15 | 0.625     | 0.7142857 | 0.4285714 | 1.0000000 | 1.0000000 | 0.5714286 | 0.6666667 | 1.0000000 | 0.3333333 | 0.6666667 | ⋯         | 1.0000000 | 0.6666667 | 0.7142857 | 0.625     | 0.625     | 0.500     | 0.5000000 | 0.875     | 0.375     | 1.0000000 | \n",
       "| 16 | 0.625     | 0.7142857 | 0.7142857 | 1.0000000 | 0.8333333 | 0.5714286 | 0.3333333 | 0.8333333 | 0.3333333 | 0.5000000 | ⋯         | 0.8571429 | 0.5000000 | 0.7142857 | 0.750     | 0.750     | 0.500     | 0.5000000 | 0.875     | 0.625     | 0.8571429 | \n",
       "| 17 | 0.250     | 0.7142857 | 0.8571429 | 0.1666667 | 0.6666667 | 0.7142857 | 0.6666667 | 0.3333333 | 1.0000000 | 0.8333333 | ⋯         | 0.5714286 | 0.8333333 | 0.5714286 | 0.375     | 0.500     | 0.375     | 0.8333333 | 0.375     | 0.500     | 0.5714286 | \n",
       "| 18 | 0.625     | 0.5714286 | 0.5714286 | 0.4285714 | 0.8571429 | 0.5714286 | 0.7142857 | 0.4285714 | 0.8571429 | 0.7142857 | ⋯         | 0.0000000 | 0.5714286 | 0.4285714 | 0.500     | 0.500     | 0.750     | 0.8571429 | 0.250     | 0.750     | 0.2857143 | \n",
       "| 19 | 0.750     | 0.8571429 | 1.0000000 | 0.6666667 | 0.8333333 | 1.0000000 | 0.3333333 | 0.8333333 | 0.3333333 | 0.1666667 | ⋯         | 0.5714286 | 0.0000000 | 0.8571429 | 0.625     | 0.750     | 0.875     | 0.3333333 | 0.500     | 0.875     | 0.5714286 | \n",
       "| 20 | 0.250     | 0.5714286 | 0.2857143 | 0.7142857 | 0.7142857 | 0.1428571 | 0.7142857 | 0.2857143 | 1.0000000 | 0.8571429 | ⋯         | 0.4285714 | 0.8571429 | 0.0000000 | 0.375     | 0.750     | 0.375     | 0.8571429 | 0.625     | 0.500     | 0.4285714 | \n",
       "| 21 | 0.125     | 0.7500000 | 0.5000000 | 0.2500000 | 0.8750000 | 0.5000000 | 0.7500000 | 0.6250000 | 0.8750000 | 0.6250000 | ⋯         | 0.5000000 | 0.6250000 | 0.3750000 | 0.000     | 0.500     | 0.250     | 0.7500000 | 0.250     | 0.250     | 0.5000000 | \n",
       "| 22 | 0.500     | 0.5000000 | 0.5000000 | 0.5000000 | 1.0000000 | 0.6250000 | 0.8750000 | 0.7500000 | 0.5000000 | 0.8750000 | ⋯         | 0.5000000 | 0.7500000 | 0.7500000 | 0.500     | 0.000     | 0.375     | 0.7500000 | 0.250     | 0.250     | 0.7500000 | \n",
       "| 23 | 0.125     | 0.6250000 | 0.3750000 | 0.5000000 | 0.8750000 | 0.2500000 | 0.7500000 | 0.6250000 | 0.7500000 | 0.8750000 | ⋯         | 0.7500000 | 0.8750000 | 0.3750000 | 0.250     | 0.375     | 0.000     | 0.8750000 | 0.500     | 0.125     | 0.7500000 | \n",
       "| 24 | 0.750     | 0.7142857 | 0.8571429 | 0.8333333 | 0.8333333 | 1.0000000 | 0.3333333 | 0.8333333 | 0.3333333 | 0.1666667 | ⋯         | 0.8571429 | 0.3333333 | 0.8571429 | 0.750     | 0.750     | 0.875     | 0.0000000 | 0.750     | 0.750     | 0.5714286 | \n",
       "| 25 | 0.375     | 0.7500000 | 0.7500000 | 0.2500000 | 0.8750000 | 0.7500000 | 0.7500000 | 0.6250000 | 0.7500000 | 0.6250000 | ⋯         | 0.2500000 | 0.5000000 | 0.6250000 | 0.250     | 0.250     | 0.500     | 0.7500000 | 0.000     | 0.500     | 0.5000000 | \n",
       "| 26 | 0.250     | 0.5000000 | 0.2500000 | 0.5000000 | 1.0000000 | 0.3750000 | 0.8750000 | 0.7500000 | 0.6250000 | 0.8750000 | ⋯         | 0.7500000 | 0.8750000 | 0.5000000 | 0.250     | 0.250     | 0.125     | 0.7500000 | 0.500     | 0.000     | 0.7500000 | \n",
       "| 27 | 0.625     | 0.4285714 | 0.5714286 | 0.5714286 | 0.8571429 | 0.5714286 | 0.7142857 | 0.2857143 | 0.8571429 | 0.4285714 | ⋯         | 0.2857143 | 0.5714286 | 0.4285714 | 0.500     | 0.750     | 0.750     | 0.5714286 | 0.500     | 0.750     | 0.0000000 | \n",
       "\n",
       "\n"
      ],
      "text/plain": [
       "   1     2         3         4         5         6         7         8        \n",
       "1  0.000 0.7500000 0.5000000 0.3750000 0.7500000 0.3750000 0.6250000 0.5000000\n",
       "2  0.750 0.0000000 0.2857143 0.5714286 0.8571429 0.4285714 0.7142857 0.4285714\n",
       "3  0.500 0.2857143 0.0000000 0.8571429 1.0000000 0.1428571 1.0000000 0.5714286\n",
       "4  0.375 0.5714286 0.8571429 0.0000000 0.8333333 0.8571429 0.8333333 0.5000000\n",
       "5  0.750 0.8571429 1.0000000 0.8333333 0.0000000 0.8571429 0.5000000 0.6666667\n",
       "6  0.375 0.4285714 0.1428571 0.8571429 0.8571429 0.0000000 0.8571429 0.4285714\n",
       "7  0.625 0.7142857 1.0000000 0.8333333 0.5000000 0.8571429 0.0000000 0.6666667\n",
       "8  0.500 0.4285714 0.5714286 0.5000000 0.6666667 0.4285714 0.6666667 0.0000000\n",
       "9  0.875 0.5714286 0.7142857 1.0000000 1.0000000 0.8571429 0.5000000 1.0000000\n",
       "10 0.750 0.8571429 1.0000000 0.6666667 0.8333333 1.0000000 0.3333333 0.8333333\n",
       "11 0.500 0.2500000 0.5000000 0.2500000 0.8750000 0.6250000 0.6250000 0.6250000\n",
       "12 0.625 0.8571429 0.8571429 0.6666667 0.8333333 0.8571429 0.3333333 0.8333333\n",
       "13 0.375 0.5714286 0.2857143 0.5714286 0.8571429 0.2857143 0.8571429 0.4285714\n",
       "14 0.750 0.2857143 0.2857143 0.7142857 1.0000000 0.4285714 1.0000000 0.5714286\n",
       "15 0.625 0.7142857 0.4285714 1.0000000 1.0000000 0.5714286 0.6666667 1.0000000\n",
       "16 0.625 0.7142857 0.7142857 1.0000000 0.8333333 0.5714286 0.3333333 0.8333333\n",
       "17 0.250 0.7142857 0.8571429 0.1666667 0.6666667 0.7142857 0.6666667 0.3333333\n",
       "18 0.625 0.5714286 0.5714286 0.4285714 0.8571429 0.5714286 0.7142857 0.4285714\n",
       "19 0.750 0.8571429 1.0000000 0.6666667 0.8333333 1.0000000 0.3333333 0.8333333\n",
       "20 0.250 0.5714286 0.2857143 0.7142857 0.7142857 0.1428571 0.7142857 0.2857143\n",
       "21 0.125 0.7500000 0.5000000 0.2500000 0.8750000 0.5000000 0.7500000 0.6250000\n",
       "22 0.500 0.5000000 0.5000000 0.5000000 1.0000000 0.6250000 0.8750000 0.7500000\n",
       "23 0.125 0.6250000 0.3750000 0.5000000 0.8750000 0.2500000 0.7500000 0.6250000\n",
       "24 0.750 0.7142857 0.8571429 0.8333333 0.8333333 1.0000000 0.3333333 0.8333333\n",
       "25 0.375 0.7500000 0.7500000 0.2500000 0.8750000 0.7500000 0.7500000 0.6250000\n",
       "26 0.250 0.5000000 0.2500000 0.5000000 1.0000000 0.3750000 0.8750000 0.7500000\n",
       "27 0.625 0.4285714 0.5714286 0.5714286 0.8571429 0.5714286 0.7142857 0.2857143\n",
       "   9         10        ⋯ 18        19        20        21    22    23   \n",
       "1  0.8750000 0.7500000 ⋯ 0.6250000 0.7500000 0.2500000 0.125 0.500 0.125\n",
       "2  0.5714286 0.8571429 ⋯ 0.5714286 0.8571429 0.5714286 0.750 0.500 0.625\n",
       "3  0.7142857 1.0000000 ⋯ 0.5714286 1.0000000 0.2857143 0.500 0.500 0.375\n",
       "4  1.0000000 0.6666667 ⋯ 0.4285714 0.6666667 0.7142857 0.250 0.500 0.500\n",
       "5  1.0000000 0.8333333 ⋯ 0.8571429 0.8333333 0.7142857 0.875 1.000 0.875\n",
       "6  0.8571429 1.0000000 ⋯ 0.5714286 1.0000000 0.1428571 0.500 0.625 0.250\n",
       "7  0.5000000 0.3333333 ⋯ 0.7142857 0.3333333 0.7142857 0.750 0.875 0.750\n",
       "8  1.0000000 0.8333333 ⋯ 0.4285714 0.8333333 0.2857143 0.625 0.750 0.625\n",
       "9  0.0000000 0.5000000 ⋯ 0.8571429 0.3333333 1.0000000 0.875 0.500 0.750\n",
       "10 0.5000000 0.0000000 ⋯ 0.7142857 0.1666667 0.8571429 0.625 0.875 0.875\n",
       "11 0.5000000 0.7500000 ⋯ 0.6250000 0.7500000 0.7500000 0.500 0.250 0.375\n",
       "12 0.5000000 0.1666667 ⋯ 0.7142857 0.1666667 0.7142857 0.500 0.875 0.750\n",
       "13 1.0000000 0.7142857 ⋯ 0.2857143 0.7142857 0.1428571 0.250 0.750 0.500\n",
       "14 0.5714286 1.0000000 ⋯ 0.2857143 0.8571429 0.5714286 0.750 0.250 0.625\n",
       "15 0.3333333 0.6666667 ⋯ 1.0000000 0.6666667 0.7142857 0.625 0.625 0.500\n",
       "16 0.3333333 0.5000000 ⋯ 0.8571429 0.5000000 0.7142857 0.750 0.750 0.500\n",
       "17 1.0000000 0.8333333 ⋯ 0.5714286 0.8333333 0.5714286 0.375 0.500 0.375\n",
       "18 0.8571429 0.7142857 ⋯ 0.0000000 0.5714286 0.4285714 0.500 0.500 0.750\n",
       "19 0.3333333 0.1666667 ⋯ 0.5714286 0.0000000 0.8571429 0.625 0.750 0.875\n",
       "20 1.0000000 0.8571429 ⋯ 0.4285714 0.8571429 0.0000000 0.375 0.750 0.375\n",
       "21 0.8750000 0.6250000 ⋯ 0.5000000 0.6250000 0.3750000 0.000 0.500 0.250\n",
       "22 0.5000000 0.8750000 ⋯ 0.5000000 0.7500000 0.7500000 0.500 0.000 0.375\n",
       "23 0.7500000 0.8750000 ⋯ 0.7500000 0.8750000 0.3750000 0.250 0.375 0.000\n",
       "24 0.3333333 0.1666667 ⋯ 0.8571429 0.3333333 0.8571429 0.750 0.750 0.875\n",
       "25 0.7500000 0.6250000 ⋯ 0.2500000 0.5000000 0.6250000 0.250 0.250 0.500\n",
       "26 0.6250000 0.8750000 ⋯ 0.7500000 0.8750000 0.5000000 0.250 0.250 0.125\n",
       "27 0.8571429 0.4285714 ⋯ 0.2857143 0.5714286 0.4285714 0.500 0.750 0.750\n",
       "   24        25    26    27       \n",
       "1  0.7500000 0.375 0.250 0.6250000\n",
       "2  0.7142857 0.750 0.500 0.4285714\n",
       "3  0.8571429 0.750 0.250 0.5714286\n",
       "4  0.8333333 0.250 0.500 0.5714286\n",
       "5  0.8333333 0.875 1.000 0.8571429\n",
       "6  1.0000000 0.750 0.375 0.5714286\n",
       "7  0.3333333 0.750 0.875 0.7142857\n",
       "8  0.8333333 0.625 0.750 0.2857143\n",
       "9  0.3333333 0.750 0.625 0.8571429\n",
       "10 0.1666667 0.625 0.875 0.4285714\n",
       "11 0.6250000 0.500 0.250 0.6250000\n",
       "12 0.3333333 0.625 0.750 0.5714286\n",
       "13 0.8571429 0.500 0.500 0.2857143\n",
       "14 0.8571429 0.500 0.500 0.5714286\n",
       "15 0.5000000 0.875 0.375 1.0000000\n",
       "16 0.5000000 0.875 0.625 0.8571429\n",
       "17 0.8333333 0.375 0.500 0.5714286\n",
       "18 0.8571429 0.250 0.750 0.2857143\n",
       "19 0.3333333 0.500 0.875 0.5714286\n",
       "20 0.8571429 0.625 0.500 0.4285714\n",
       "21 0.7500000 0.250 0.250 0.5000000\n",
       "22 0.7500000 0.250 0.250 0.7500000\n",
       "23 0.8750000 0.500 0.125 0.7500000\n",
       "24 0.0000000 0.750 0.750 0.5714286\n",
       "25 0.7500000 0.000 0.500 0.5000000\n",
       "26 0.7500000 0.500 0.000 0.7500000\n",
       "27 0.5714286 0.500 0.750 0.0000000"
      ]
     },
     "metadata": {},
     "output_type": "display_data"
    }
   ],
   "source": [
    "for (r in 1:nrow(signal_dists)) \n",
    "  for (c in 1:ncol(signal_dists)) \n",
    "    signal_dists[r,c] <- signal_dists[r,c] / max(nchar(language$signals[r]), nchar(language$signals[c]))\n",
    "signal_dists"
   ]
  },
  {
   "cell_type": "markdown",
   "metadata": {},
   "source": [
    "Now we run the Mantel test with 10000 permutations to work out how structured the mapping is. In other word, how non-random is the relationship between the similarity of meanings and the similarity of the strings they are paired with?"
   ]
  },
  {
   "cell_type": "code",
   "execution_count": 23,
   "metadata": {},
   "outputs": [
    {
     "data": {
      "text/html": [
       "0.668271299279015"
      ],
      "text/latex": [
       "0.668271299279015"
      ],
      "text/markdown": [
       "0.668271299279015"
      ],
      "text/plain": [
       "[1] 0.6682713"
      ]
     },
     "metadata": {},
     "output_type": "display_data"
    },
    {
     "data": {
      "text/html": [
       "9.99900009999e-05"
      ],
      "text/latex": [
       "9.99900009999e-05"
      ],
      "text/markdown": [
       "9.99900009999e-05"
      ],
      "text/plain": [
       "[1] 9.999e-05"
      ]
     },
     "metadata": {},
     "output_type": "display_data"
    },
    {
     "data": {
      "text/html": [
       "13.0684925312736"
      ],
      "text/latex": [
       "13.0684925312736"
      ],
      "text/markdown": [
       "13.0684925312736"
      ],
      "text/plain": [
       "[1] 13.06849"
      ]
     },
     "metadata": {},
     "output_type": "display_data"
    }
   ],
   "source": [
    "structure <- mantel(meaning_dists, signal_dists, permutations=10000)\n",
    "\n",
    "# the r-value\n",
    "\n",
    "structure$statistic\n",
    "\n",
    "# the p-value\n",
    "\n",
    "structure$signif\n",
    "\n",
    "# the z-score\n",
    "\n",
    "perms <- permustats(structure)$permutations\n",
    "(structure$statistic - mean(perms)) / sd(perms)"
   ]
  },
  {
   "cell_type": "markdown",
   "metadata": {},
   "source": [
    "It can help us understand what the Mantel test is doing if we look at the distribution of possible random correlations and the real correlation that we've found. A structured language will have a real correlation that's way out in the tail of the distribution. This part is just for your own understanding - you would not show this in a research report!"
   ]
  },
  {
   "cell_type": "code",
   "execution_count": 24,
   "metadata": {},
   "outputs": [
    {
     "data": {},
     "metadata": {},
     "output_type": "display_data"
    },
    {
     "data": {
      "image/png": "[encoded data removed]",
      "text/plain": [
       "plot without title"
      ]
     },
     "metadata": {},
     "output_type": "display_data"
    }
   ],
   "source": [
    "permsdf <- data.frame(r=perms)\n",
    "\n",
    "ggplot(data=permsdf,aes(r)) + geom_density() + \n",
    "  geom_vline(xintercept=structure$statistic, colour='red', linetype='dashed') + xlim(-1,1)"
   ]
  },
  {
   "cell_type": "code",
   "execution_count": null,
   "metadata": {},
   "outputs": [],
   "source": []
  }
 ],
 "metadata": {
  "kernelspec": {
   "display_name": "R",
   "language": "R",
   "name": "ir"
  },
  "language_info": {
   "codemirror_mode": "r",
   "file_extension": ".r",
   "mimetype": "text/x-r-source",
   "name": "R",
   "pygments_lexer": "r",
   "version": "3.4.1"
  }
 },
 "nbformat": 4,
 "nbformat_minor": 2
}
